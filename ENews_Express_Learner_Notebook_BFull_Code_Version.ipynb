{
  "nbformat": 4,
  "nbformat_minor": 5,
  "metadata": {
    "kernelspec": {
      "display_name": "Python 3",
      "language": "python",
      "name": "python3"
    },
    "language_info": {
      "codemirror_mode": {
        "name": "ipython",
        "version": 3
      },
      "file_extension": ".py",
      "mimetype": "text/x-python",
      "name": "python",
      "nbconvert_exporter": "python",
      "pygments_lexer": "ipython3",
      "version": "3.8.8"
    },
    "colab": {
      "name": "ENews_Express_Learner_Notebook_BFull_Code_Version.ipynb",
      "provenance": [],
      "collapsed_sections": [
        "353e9d24",
        "d49bfa2d",
        "8d585a90",
        "3acbc947"
      ],
      "include_colab_link": true
    }
  },
  "cells": [
    {
      "cell_type": "markdown",
      "metadata": {
        "id": "view-in-github",
        "colab_type": "text"
      },
      "source": [
        "<a href=\"https://colab.research.google.com/github/josewborba/portfolio/blob/main/ENews_Express_Learner_Notebook_BFull_Code_Version.ipynb\" target=\"_parent\"><img src=\"https://colab.research.google.com/assets/colab-badge.svg\" alt=\"Open In Colab\"/></a>"
      ]
    },
    {
      "cell_type": "markdown",
      "metadata": {
        "id": "6yDxo9u0d9Na"
      },
      "source": [
        "# Project Business Statistics: E-news Express\n",
        "\n",
        "**Marks: 60**"
      ],
      "id": "6yDxo9u0d9Na"
    },
    {
      "cell_type": "markdown",
      "metadata": {
        "id": "SrLd-ICEmPSD"
      },
      "source": [
        "## Define Problem Statement and Objectives"
      ],
      "id": "SrLd-ICEmPSD"
    },
    {
      "cell_type": "markdown",
      "source": [
        "## Business Context\n",
        "\n",
        "\n",
        "The advent of e-news, or electronic news, portals has offered us a great opportunity to quickly get updates on the day-to-day events occurring globally. The information on these portals is retrieved electronically from online databases, processed using a variety of software, and then transmitted to the users. There are multiple advantages of transmitting new electronically, like faster access to the content and the ability to utilize different technologies such as audio, graphics, video, and other interactive elements that are either not being used or aren’t common yet in traditional newspapers.\n",
        "\n",
        "E-news Express, an online news portal, aims to expand its business by acquiring new subscribers. With every visitor to the website taking certain actions based on their interest, the company plans to analyze these actions to understand user interests and determine how to drive better engagement. The executives at E-news Express are of the opinion that there has been a decline in new monthly subscribers compared to the past year because the current webpage is not designed well enough in terms of the outline & recommended content to keep customers engaged long enough to make a decision to subscribe.\n",
        "\n",
        "[Companies often analyze user responses to two variants of a product to decide which of the two variants is more effective. This experimental technique, known as A/B testing, is used to determine whether a new feature attracts users based on a chosen metric.]\n",
        "\n",
        "## Objective\n",
        "\n",
        "\n",
        "The design team of the company has researched and created a new landing page that has a new outline & more relevant content shown compared to the old page. In order to test the effectiveness of the new landing page in gathering new subscribers, the Data Science team conducted an experiment by randomly selecting 100 users and dividing them equally into two groups. The existing landing page was served to the first group (control group) and the new landing page to the second group (treatment group). Data regarding the interaction of users in both groups with the two versions of the landing page was collected. Being a data scientist in E-news Express, you have been asked to explore the data and perform a statistical analysis (at a significance level of 5%) to determine the effectiveness of the new landing page in gathering new subscribers for the news portal by answering the following questions:\n",
        "\n",
        "1. Do the users spend more time on the new landing page than on the existing landing page?\n",
        "2. Is the conversion rate (the proportion of users who visit the landing page and get converted) for the new page greater than the conversion rate for the old page?\n",
        "3. Does the converted status depend on the preferred language?\n",
        "Is the time spent on the new page the same for the different language users?\n",
        "\n",
        "\n",
        "##Data Dictionary\n",
        "\n",
        "The data contains information regarding the interaction of users in both groups with the two versions of the landing page.\n",
        "\n",
        "* user_id - Unique user ID of the person visiting the website\n",
        "* group - Whether the user belongs to the first group (control) or the second group (treatment)\n",
        "* landing_page - Whether the landing page is new or old\n",
        "* time_spent_on_the_page - Time (in minutes) spent by the user on the landing page\n",
        "* converted - Whether the user gets converted to a subscriber of the news portal or not\n",
        "* language_preferred - Language chosen by the user to view the landing page"
      ],
      "metadata": {
        "id": "_eryns1BIPzy"
      },
      "id": "_eryns1BIPzy"
    },
    {
      "cell_type": "markdown",
      "metadata": {
        "id": "a6a3d218"
      },
      "source": [
        "## Import all the necessary libraries"
      ],
      "id": "a6a3d218"
    },
    {
      "cell_type": "code",
      "metadata": {
        "id": "658c5dec",
        "colab": {
          "base_uri": "https://localhost:8080/"
        },
        "outputId": "4c34259e-da9c-4784-be30-4705687c62f8"
      },
      "source": [
        "# import libraries for data manipulation\n",
        "import numpy as np\n",
        "import pandas as pd\n",
        "\n",
        "# import libraries for data visualization\n",
        "import matplotlib.pyplot as plt\n",
        "import seaborn as sns\n",
        "\n",
        "import scipy.stats as stats\n",
        "\n",
        "pd.set_option('display.float_format', lambda x: '%.3f' % x)\n",
        "!pip install scipy --upgrade"
      ],
      "id": "658c5dec",
      "execution_count": null,
      "outputs": [
        {
          "output_type": "stream",
          "name": "stdout",
          "text": [
            "Looking in indexes: https://pypi.org/simple, https://us-python.pkg.dev/colab-wheels/public/simple/\n",
            "Requirement already satisfied: scipy in /usr/local/lib/python3.7/dist-packages (1.7.3)\n",
            "Requirement already satisfied: numpy<1.23.0,>=1.16.5 in /usr/local/lib/python3.7/dist-packages (from scipy) (1.21.6)\n"
          ]
        }
      ]
    },
    {
      "cell_type": "markdown",
      "metadata": {
        "id": "6970dd99"
      },
      "source": [
        "## Reading the Data into a DataFrame"
      ],
      "id": "6970dd99"
    },
    {
      "cell_type": "code",
      "metadata": {
        "id": "d3b95640",
        "colab": {
          "base_uri": "https://localhost:8080/"
        },
        "outputId": "149ac7e4-e5ba-4904-a071-cb6837d4be65"
      },
      "source": [
        "#mounting google colab drive\n",
        "from google.colab import drive\n",
        "drive.mount('/content/drive')"
      ],
      "id": "d3b95640",
      "execution_count": null,
      "outputs": [
        {
          "output_type": "stream",
          "name": "stdout",
          "text": [
            "Drive already mounted at /content/drive; to attempt to forcibly remount, call drive.mount(\"/content/drive\", force_remount=True).\n"
          ]
        }
      ]
    },
    {
      "cell_type": "code",
      "source": [
        "# read the data\n",
        "df = pd.read_csv('/content/drive/MyDrive/University Of Texas/Business Statistics/e-news-project/abtest.csv')\n"
      ],
      "metadata": {
        "id": "IdnlLbOCh4BN"
      },
      "id": "IdnlLbOCh4BN",
      "execution_count": null,
      "outputs": []
    },
    {
      "cell_type": "markdown",
      "metadata": {
        "id": "9d75cfa2"
      },
      "source": [
        "## Explore the dataset and extract insights using Exploratory Data Analysis"
      ],
      "id": "9d75cfa2"
    },
    {
      "cell_type": "markdown",
      "metadata": {
        "id": "27201534"
      },
      "source": [
        "- Data Overview\n",
        "  - Viewing the first and last few rows of the dataset\n",
        "  - Checking the shape of the dataset\n",
        "  - Getting the statistical summary for the variables\n",
        "- Check for missing values\n",
        "- Check for duplicates"
      ],
      "id": "27201534"
    },
    {
      "cell_type": "code",
      "source": [
        "#Viewing first rows of the df\n",
        "\n",
        "df.head()"
      ],
      "metadata": {
        "colab": {
          "base_uri": "https://localhost:8080/",
          "height": 206
        },
        "id": "Cjlx4s9iif9y",
        "outputId": "3e18e40b-d318-432f-e22f-ef1356a16293"
      },
      "id": "Cjlx4s9iif9y",
      "execution_count": null,
      "outputs": [
        {
          "output_type": "execute_result",
          "data": {
            "text/plain": [
              "   user_id      group landing_page  time_spent_on_the_page converted  \\\n",
              "0   546592    control          old                   3.480        no   \n",
              "1   546468  treatment          new                   7.130       yes   \n",
              "2   546462  treatment          new                   4.400        no   \n",
              "3   546567    control          old                   3.020        no   \n",
              "4   546459  treatment          new                   4.750       yes   \n",
              "\n",
              "  language_preferred  \n",
              "0            Spanish  \n",
              "1            English  \n",
              "2            Spanish  \n",
              "3             French  \n",
              "4            Spanish  "
            ],
            "text/html": [
              "\n",
              "  <div id=\"df-6175fbda-f939-42f1-9ef2-66e15e0939a4\">\n",
              "    <div class=\"colab-df-container\">\n",
              "      <div>\n",
              "<style scoped>\n",
              "    .dataframe tbody tr th:only-of-type {\n",
              "        vertical-align: middle;\n",
              "    }\n",
              "\n",
              "    .dataframe tbody tr th {\n",
              "        vertical-align: top;\n",
              "    }\n",
              "\n",
              "    .dataframe thead th {\n",
              "        text-align: right;\n",
              "    }\n",
              "</style>\n",
              "<table border=\"1\" class=\"dataframe\">\n",
              "  <thead>\n",
              "    <tr style=\"text-align: right;\">\n",
              "      <th></th>\n",
              "      <th>user_id</th>\n",
              "      <th>group</th>\n",
              "      <th>landing_page</th>\n",
              "      <th>time_spent_on_the_page</th>\n",
              "      <th>converted</th>\n",
              "      <th>language_preferred</th>\n",
              "    </tr>\n",
              "  </thead>\n",
              "  <tbody>\n",
              "    <tr>\n",
              "      <th>0</th>\n",
              "      <td>546592</td>\n",
              "      <td>control</td>\n",
              "      <td>old</td>\n",
              "      <td>3.480</td>\n",
              "      <td>no</td>\n",
              "      <td>Spanish</td>\n",
              "    </tr>\n",
              "    <tr>\n",
              "      <th>1</th>\n",
              "      <td>546468</td>\n",
              "      <td>treatment</td>\n",
              "      <td>new</td>\n",
              "      <td>7.130</td>\n",
              "      <td>yes</td>\n",
              "      <td>English</td>\n",
              "    </tr>\n",
              "    <tr>\n",
              "      <th>2</th>\n",
              "      <td>546462</td>\n",
              "      <td>treatment</td>\n",
              "      <td>new</td>\n",
              "      <td>4.400</td>\n",
              "      <td>no</td>\n",
              "      <td>Spanish</td>\n",
              "    </tr>\n",
              "    <tr>\n",
              "      <th>3</th>\n",
              "      <td>546567</td>\n",
              "      <td>control</td>\n",
              "      <td>old</td>\n",
              "      <td>3.020</td>\n",
              "      <td>no</td>\n",
              "      <td>French</td>\n",
              "    </tr>\n",
              "    <tr>\n",
              "      <th>4</th>\n",
              "      <td>546459</td>\n",
              "      <td>treatment</td>\n",
              "      <td>new</td>\n",
              "      <td>4.750</td>\n",
              "      <td>yes</td>\n",
              "      <td>Spanish</td>\n",
              "    </tr>\n",
              "  </tbody>\n",
              "</table>\n",
              "</div>\n",
              "      <button class=\"colab-df-convert\" onclick=\"convertToInteractive('df-6175fbda-f939-42f1-9ef2-66e15e0939a4')\"\n",
              "              title=\"Convert this dataframe to an interactive table.\"\n",
              "              style=\"display:none;\">\n",
              "        \n",
              "  <svg xmlns=\"http://www.w3.org/2000/svg\" height=\"24px\"viewBox=\"0 0 24 24\"\n",
              "       width=\"24px\">\n",
              "    <path d=\"M0 0h24v24H0V0z\" fill=\"none\"/>\n",
              "    <path d=\"M18.56 5.44l.94 2.06.94-2.06 2.06-.94-2.06-.94-.94-2.06-.94 2.06-2.06.94zm-11 1L8.5 8.5l.94-2.06 2.06-.94-2.06-.94L8.5 2.5l-.94 2.06-2.06.94zm10 10l.94 2.06.94-2.06 2.06-.94-2.06-.94-.94-2.06-.94 2.06-2.06.94z\"/><path d=\"M17.41 7.96l-1.37-1.37c-.4-.4-.92-.59-1.43-.59-.52 0-1.04.2-1.43.59L10.3 9.45l-7.72 7.72c-.78.78-.78 2.05 0 2.83L4 21.41c.39.39.9.59 1.41.59.51 0 1.02-.2 1.41-.59l7.78-7.78 2.81-2.81c.8-.78.8-2.07 0-2.86zM5.41 20L4 18.59l7.72-7.72 1.47 1.35L5.41 20z\"/>\n",
              "  </svg>\n",
              "      </button>\n",
              "      \n",
              "  <style>\n",
              "    .colab-df-container {\n",
              "      display:flex;\n",
              "      flex-wrap:wrap;\n",
              "      gap: 12px;\n",
              "    }\n",
              "\n",
              "    .colab-df-convert {\n",
              "      background-color: #E8F0FE;\n",
              "      border: none;\n",
              "      border-radius: 50%;\n",
              "      cursor: pointer;\n",
              "      display: none;\n",
              "      fill: #1967D2;\n",
              "      height: 32px;\n",
              "      padding: 0 0 0 0;\n",
              "      width: 32px;\n",
              "    }\n",
              "\n",
              "    .colab-df-convert:hover {\n",
              "      background-color: #E2EBFA;\n",
              "      box-shadow: 0px 1px 2px rgba(60, 64, 67, 0.3), 0px 1px 3px 1px rgba(60, 64, 67, 0.15);\n",
              "      fill: #174EA6;\n",
              "    }\n",
              "\n",
              "    [theme=dark] .colab-df-convert {\n",
              "      background-color: #3B4455;\n",
              "      fill: #D2E3FC;\n",
              "    }\n",
              "\n",
              "    [theme=dark] .colab-df-convert:hover {\n",
              "      background-color: #434B5C;\n",
              "      box-shadow: 0px 1px 3px 1px rgba(0, 0, 0, 0.15);\n",
              "      filter: drop-shadow(0px 1px 2px rgba(0, 0, 0, 0.3));\n",
              "      fill: #FFFFFF;\n",
              "    }\n",
              "  </style>\n",
              "\n",
              "      <script>\n",
              "        const buttonEl =\n",
              "          document.querySelector('#df-6175fbda-f939-42f1-9ef2-66e15e0939a4 button.colab-df-convert');\n",
              "        buttonEl.style.display =\n",
              "          google.colab.kernel.accessAllowed ? 'block' : 'none';\n",
              "\n",
              "        async function convertToInteractive(key) {\n",
              "          const element = document.querySelector('#df-6175fbda-f939-42f1-9ef2-66e15e0939a4');\n",
              "          const dataTable =\n",
              "            await google.colab.kernel.invokeFunction('convertToInteractive',\n",
              "                                                     [key], {});\n",
              "          if (!dataTable) return;\n",
              "\n",
              "          const docLinkHtml = 'Like what you see? Visit the ' +\n",
              "            '<a target=\"_blank\" href=https://colab.research.google.com/notebooks/data_table.ipynb>data table notebook</a>'\n",
              "            + ' to learn more about interactive tables.';\n",
              "          element.innerHTML = '';\n",
              "          dataTable['output_type'] = 'display_data';\n",
              "          await google.colab.output.renderOutput(dataTable, element);\n",
              "          const docLink = document.createElement('div');\n",
              "          docLink.innerHTML = docLinkHtml;\n",
              "          element.appendChild(docLink);\n",
              "        }\n",
              "      </script>\n",
              "    </div>\n",
              "  </div>\n",
              "  "
            ]
          },
          "metadata": {},
          "execution_count": 58
        }
      ]
    },
    {
      "cell_type": "code",
      "source": [
        "#Viewing last rows of the df\n",
        "\n",
        "df.tail()"
      ],
      "metadata": {
        "colab": {
          "base_uri": "https://localhost:8080/",
          "height": 206
        },
        "id": "oAW0e6Q1if3e",
        "outputId": "3349d904-9579-43bb-bc3f-6616f46ba726"
      },
      "id": "oAW0e6Q1if3e",
      "execution_count": null,
      "outputs": [
        {
          "output_type": "execute_result",
          "data": {
            "text/plain": [
              "    user_id      group landing_page  time_spent_on_the_page converted  \\\n",
              "95   546446  treatment          new                   5.150        no   \n",
              "96   546544    control          old                   6.520       yes   \n",
              "97   546472  treatment          new                   7.070       yes   \n",
              "98   546481  treatment          new                   6.200       yes   \n",
              "99   546483  treatment          new                   5.860       yes   \n",
              "\n",
              "   language_preferred  \n",
              "95            Spanish  \n",
              "96            English  \n",
              "97            Spanish  \n",
              "98            Spanish  \n",
              "99            English  "
            ],
            "text/html": [
              "\n",
              "  <div id=\"df-8d08a7d2-0dd3-4c7a-99d2-6256d8288bc7\">\n",
              "    <div class=\"colab-df-container\">\n",
              "      <div>\n",
              "<style scoped>\n",
              "    .dataframe tbody tr th:only-of-type {\n",
              "        vertical-align: middle;\n",
              "    }\n",
              "\n",
              "    .dataframe tbody tr th {\n",
              "        vertical-align: top;\n",
              "    }\n",
              "\n",
              "    .dataframe thead th {\n",
              "        text-align: right;\n",
              "    }\n",
              "</style>\n",
              "<table border=\"1\" class=\"dataframe\">\n",
              "  <thead>\n",
              "    <tr style=\"text-align: right;\">\n",
              "      <th></th>\n",
              "      <th>user_id</th>\n",
              "      <th>group</th>\n",
              "      <th>landing_page</th>\n",
              "      <th>time_spent_on_the_page</th>\n",
              "      <th>converted</th>\n",
              "      <th>language_preferred</th>\n",
              "    </tr>\n",
              "  </thead>\n",
              "  <tbody>\n",
              "    <tr>\n",
              "      <th>95</th>\n",
              "      <td>546446</td>\n",
              "      <td>treatment</td>\n",
              "      <td>new</td>\n",
              "      <td>5.150</td>\n",
              "      <td>no</td>\n",
              "      <td>Spanish</td>\n",
              "    </tr>\n",
              "    <tr>\n",
              "      <th>96</th>\n",
              "      <td>546544</td>\n",
              "      <td>control</td>\n",
              "      <td>old</td>\n",
              "      <td>6.520</td>\n",
              "      <td>yes</td>\n",
              "      <td>English</td>\n",
              "    </tr>\n",
              "    <tr>\n",
              "      <th>97</th>\n",
              "      <td>546472</td>\n",
              "      <td>treatment</td>\n",
              "      <td>new</td>\n",
              "      <td>7.070</td>\n",
              "      <td>yes</td>\n",
              "      <td>Spanish</td>\n",
              "    </tr>\n",
              "    <tr>\n",
              "      <th>98</th>\n",
              "      <td>546481</td>\n",
              "      <td>treatment</td>\n",
              "      <td>new</td>\n",
              "      <td>6.200</td>\n",
              "      <td>yes</td>\n",
              "      <td>Spanish</td>\n",
              "    </tr>\n",
              "    <tr>\n",
              "      <th>99</th>\n",
              "      <td>546483</td>\n",
              "      <td>treatment</td>\n",
              "      <td>new</td>\n",
              "      <td>5.860</td>\n",
              "      <td>yes</td>\n",
              "      <td>English</td>\n",
              "    </tr>\n",
              "  </tbody>\n",
              "</table>\n",
              "</div>\n",
              "      <button class=\"colab-df-convert\" onclick=\"convertToInteractive('df-8d08a7d2-0dd3-4c7a-99d2-6256d8288bc7')\"\n",
              "              title=\"Convert this dataframe to an interactive table.\"\n",
              "              style=\"display:none;\">\n",
              "        \n",
              "  <svg xmlns=\"http://www.w3.org/2000/svg\" height=\"24px\"viewBox=\"0 0 24 24\"\n",
              "       width=\"24px\">\n",
              "    <path d=\"M0 0h24v24H0V0z\" fill=\"none\"/>\n",
              "    <path d=\"M18.56 5.44l.94 2.06.94-2.06 2.06-.94-2.06-.94-.94-2.06-.94 2.06-2.06.94zm-11 1L8.5 8.5l.94-2.06 2.06-.94-2.06-.94L8.5 2.5l-.94 2.06-2.06.94zm10 10l.94 2.06.94-2.06 2.06-.94-2.06-.94-.94-2.06-.94 2.06-2.06.94z\"/><path d=\"M17.41 7.96l-1.37-1.37c-.4-.4-.92-.59-1.43-.59-.52 0-1.04.2-1.43.59L10.3 9.45l-7.72 7.72c-.78.78-.78 2.05 0 2.83L4 21.41c.39.39.9.59 1.41.59.51 0 1.02-.2 1.41-.59l7.78-7.78 2.81-2.81c.8-.78.8-2.07 0-2.86zM5.41 20L4 18.59l7.72-7.72 1.47 1.35L5.41 20z\"/>\n",
              "  </svg>\n",
              "      </button>\n",
              "      \n",
              "  <style>\n",
              "    .colab-df-container {\n",
              "      display:flex;\n",
              "      flex-wrap:wrap;\n",
              "      gap: 12px;\n",
              "    }\n",
              "\n",
              "    .colab-df-convert {\n",
              "      background-color: #E8F0FE;\n",
              "      border: none;\n",
              "      border-radius: 50%;\n",
              "      cursor: pointer;\n",
              "      display: none;\n",
              "      fill: #1967D2;\n",
              "      height: 32px;\n",
              "      padding: 0 0 0 0;\n",
              "      width: 32px;\n",
              "    }\n",
              "\n",
              "    .colab-df-convert:hover {\n",
              "      background-color: #E2EBFA;\n",
              "      box-shadow: 0px 1px 2px rgba(60, 64, 67, 0.3), 0px 1px 3px 1px rgba(60, 64, 67, 0.15);\n",
              "      fill: #174EA6;\n",
              "    }\n",
              "\n",
              "    [theme=dark] .colab-df-convert {\n",
              "      background-color: #3B4455;\n",
              "      fill: #D2E3FC;\n",
              "    }\n",
              "\n",
              "    [theme=dark] .colab-df-convert:hover {\n",
              "      background-color: #434B5C;\n",
              "      box-shadow: 0px 1px 3px 1px rgba(0, 0, 0, 0.15);\n",
              "      filter: drop-shadow(0px 1px 2px rgba(0, 0, 0, 0.3));\n",
              "      fill: #FFFFFF;\n",
              "    }\n",
              "  </style>\n",
              "\n",
              "      <script>\n",
              "        const buttonEl =\n",
              "          document.querySelector('#df-8d08a7d2-0dd3-4c7a-99d2-6256d8288bc7 button.colab-df-convert');\n",
              "        buttonEl.style.display =\n",
              "          google.colab.kernel.accessAllowed ? 'block' : 'none';\n",
              "\n",
              "        async function convertToInteractive(key) {\n",
              "          const element = document.querySelector('#df-8d08a7d2-0dd3-4c7a-99d2-6256d8288bc7');\n",
              "          const dataTable =\n",
              "            await google.colab.kernel.invokeFunction('convertToInteractive',\n",
              "                                                     [key], {});\n",
              "          if (!dataTable) return;\n",
              "\n",
              "          const docLinkHtml = 'Like what you see? Visit the ' +\n",
              "            '<a target=\"_blank\" href=https://colab.research.google.com/notebooks/data_table.ipynb>data table notebook</a>'\n",
              "            + ' to learn more about interactive tables.';\n",
              "          element.innerHTML = '';\n",
              "          dataTable['output_type'] = 'display_data';\n",
              "          await google.colab.output.renderOutput(dataTable, element);\n",
              "          const docLink = document.createElement('div');\n",
              "          docLink.innerHTML = docLinkHtml;\n",
              "          element.appendChild(docLink);\n",
              "        }\n",
              "      </script>\n",
              "    </div>\n",
              "  </div>\n",
              "  "
            ]
          },
          "metadata": {},
          "execution_count": 59
        }
      ]
    },
    {
      "cell_type": "code",
      "source": [
        "df.shape"
      ],
      "metadata": {
        "colab": {
          "base_uri": "https://localhost:8080/"
        },
        "id": "-y-jUwscifzO",
        "outputId": "b6c0647b-f40b-4e8b-e34e-7dfb737c48a2"
      },
      "id": "-y-jUwscifzO",
      "execution_count": null,
      "outputs": [
        {
          "output_type": "execute_result",
          "data": {
            "text/plain": [
              "(100, 6)"
            ]
          },
          "metadata": {},
          "execution_count": 60
        }
      ]
    },
    {
      "cell_type": "markdown",
      "source": [
        "Dataframe composed of 100 rows and 6 columns"
      ],
      "metadata": {
        "id": "rTAE-RVCygLr"
      },
      "id": "rTAE-RVCygLr"
    },
    {
      "cell_type": "code",
      "source": [
        "#Checking the summaries statistics\n",
        "\n",
        "df.describe().T"
      ],
      "metadata": {
        "colab": {
          "base_uri": "https://localhost:8080/",
          "height": 112
        },
        "id": "PK4rIdiKifw-",
        "outputId": "3512ba82-c039-430c-cfaf-9d541b5c8195"
      },
      "id": "PK4rIdiKifw-",
      "execution_count": null,
      "outputs": [
        {
          "output_type": "execute_result",
          "data": {
            "text/plain": [
              "                         count       mean    std        min        25%  \\\n",
              "user_id                100.000 546517.000 52.296 546443.000 546467.750   \n",
              "time_spent_on_the_page 100.000      5.378  2.378      0.190      3.880   \n",
              "\n",
              "                              50%        75%        max  \n",
              "user_id                546492.500 546567.250 546592.000  \n",
              "time_spent_on_the_page      5.415      7.022     10.710  "
            ],
            "text/html": [
              "\n",
              "  <div id=\"df-bd816667-7afc-4417-8f42-c00072d6ed03\">\n",
              "    <div class=\"colab-df-container\">\n",
              "      <div>\n",
              "<style scoped>\n",
              "    .dataframe tbody tr th:only-of-type {\n",
              "        vertical-align: middle;\n",
              "    }\n",
              "\n",
              "    .dataframe tbody tr th {\n",
              "        vertical-align: top;\n",
              "    }\n",
              "\n",
              "    .dataframe thead th {\n",
              "        text-align: right;\n",
              "    }\n",
              "</style>\n",
              "<table border=\"1\" class=\"dataframe\">\n",
              "  <thead>\n",
              "    <tr style=\"text-align: right;\">\n",
              "      <th></th>\n",
              "      <th>count</th>\n",
              "      <th>mean</th>\n",
              "      <th>std</th>\n",
              "      <th>min</th>\n",
              "      <th>25%</th>\n",
              "      <th>50%</th>\n",
              "      <th>75%</th>\n",
              "      <th>max</th>\n",
              "    </tr>\n",
              "  </thead>\n",
              "  <tbody>\n",
              "    <tr>\n",
              "      <th>user_id</th>\n",
              "      <td>100.000</td>\n",
              "      <td>546517.000</td>\n",
              "      <td>52.296</td>\n",
              "      <td>546443.000</td>\n",
              "      <td>546467.750</td>\n",
              "      <td>546492.500</td>\n",
              "      <td>546567.250</td>\n",
              "      <td>546592.000</td>\n",
              "    </tr>\n",
              "    <tr>\n",
              "      <th>time_spent_on_the_page</th>\n",
              "      <td>100.000</td>\n",
              "      <td>5.378</td>\n",
              "      <td>2.378</td>\n",
              "      <td>0.190</td>\n",
              "      <td>3.880</td>\n",
              "      <td>5.415</td>\n",
              "      <td>7.022</td>\n",
              "      <td>10.710</td>\n",
              "    </tr>\n",
              "  </tbody>\n",
              "</table>\n",
              "</div>\n",
              "      <button class=\"colab-df-convert\" onclick=\"convertToInteractive('df-bd816667-7afc-4417-8f42-c00072d6ed03')\"\n",
              "              title=\"Convert this dataframe to an interactive table.\"\n",
              "              style=\"display:none;\">\n",
              "        \n",
              "  <svg xmlns=\"http://www.w3.org/2000/svg\" height=\"24px\"viewBox=\"0 0 24 24\"\n",
              "       width=\"24px\">\n",
              "    <path d=\"M0 0h24v24H0V0z\" fill=\"none\"/>\n",
              "    <path d=\"M18.56 5.44l.94 2.06.94-2.06 2.06-.94-2.06-.94-.94-2.06-.94 2.06-2.06.94zm-11 1L8.5 8.5l.94-2.06 2.06-.94-2.06-.94L8.5 2.5l-.94 2.06-2.06.94zm10 10l.94 2.06.94-2.06 2.06-.94-2.06-.94-.94-2.06-.94 2.06-2.06.94z\"/><path d=\"M17.41 7.96l-1.37-1.37c-.4-.4-.92-.59-1.43-.59-.52 0-1.04.2-1.43.59L10.3 9.45l-7.72 7.72c-.78.78-.78 2.05 0 2.83L4 21.41c.39.39.9.59 1.41.59.51 0 1.02-.2 1.41-.59l7.78-7.78 2.81-2.81c.8-.78.8-2.07 0-2.86zM5.41 20L4 18.59l7.72-7.72 1.47 1.35L5.41 20z\"/>\n",
              "  </svg>\n",
              "      </button>\n",
              "      \n",
              "  <style>\n",
              "    .colab-df-container {\n",
              "      display:flex;\n",
              "      flex-wrap:wrap;\n",
              "      gap: 12px;\n",
              "    }\n",
              "\n",
              "    .colab-df-convert {\n",
              "      background-color: #E8F0FE;\n",
              "      border: none;\n",
              "      border-radius: 50%;\n",
              "      cursor: pointer;\n",
              "      display: none;\n",
              "      fill: #1967D2;\n",
              "      height: 32px;\n",
              "      padding: 0 0 0 0;\n",
              "      width: 32px;\n",
              "    }\n",
              "\n",
              "    .colab-df-convert:hover {\n",
              "      background-color: #E2EBFA;\n",
              "      box-shadow: 0px 1px 2px rgba(60, 64, 67, 0.3), 0px 1px 3px 1px rgba(60, 64, 67, 0.15);\n",
              "      fill: #174EA6;\n",
              "    }\n",
              "\n",
              "    [theme=dark] .colab-df-convert {\n",
              "      background-color: #3B4455;\n",
              "      fill: #D2E3FC;\n",
              "    }\n",
              "\n",
              "    [theme=dark] .colab-df-convert:hover {\n",
              "      background-color: #434B5C;\n",
              "      box-shadow: 0px 1px 3px 1px rgba(0, 0, 0, 0.15);\n",
              "      filter: drop-shadow(0px 1px 2px rgba(0, 0, 0, 0.3));\n",
              "      fill: #FFFFFF;\n",
              "    }\n",
              "  </style>\n",
              "\n",
              "      <script>\n",
              "        const buttonEl =\n",
              "          document.querySelector('#df-bd816667-7afc-4417-8f42-c00072d6ed03 button.colab-df-convert');\n",
              "        buttonEl.style.display =\n",
              "          google.colab.kernel.accessAllowed ? 'block' : 'none';\n",
              "\n",
              "        async function convertToInteractive(key) {\n",
              "          const element = document.querySelector('#df-bd816667-7afc-4417-8f42-c00072d6ed03');\n",
              "          const dataTable =\n",
              "            await google.colab.kernel.invokeFunction('convertToInteractive',\n",
              "                                                     [key], {});\n",
              "          if (!dataTable) return;\n",
              "\n",
              "          const docLinkHtml = 'Like what you see? Visit the ' +\n",
              "            '<a target=\"_blank\" href=https://colab.research.google.com/notebooks/data_table.ipynb>data table notebook</a>'\n",
              "            + ' to learn more about interactive tables.';\n",
              "          element.innerHTML = '';\n",
              "          dataTable['output_type'] = 'display_data';\n",
              "          await google.colab.output.renderOutput(dataTable, element);\n",
              "          const docLink = document.createElement('div');\n",
              "          docLink.innerHTML = docLinkHtml;\n",
              "          element.appendChild(docLink);\n",
              "        }\n",
              "      </script>\n",
              "    </div>\n",
              "  </div>\n",
              "  "
            ]
          },
          "metadata": {},
          "execution_count": 61
        }
      ]
    },
    {
      "cell_type": "markdown",
      "source": [
        "Insights:\n",
        "\n",
        "\n",
        "\n",
        "*   Time spent on the page has a min of 0.190 and max of 10.710\n",
        "*   Time spent on the page has a mean of 5.378 and median of 5.415 which indicates skewness\n",
        "*   Time spent on the page has a standard deviation of 2.378\n",
        "\n"
      ],
      "metadata": {
        "id": "1dZvBSo2w7N3"
      },
      "id": "1dZvBSo2w7N3"
    },
    {
      "cell_type": "code",
      "source": [
        "#Checking total amount of nulls in the columns\n",
        "\n",
        "df.isnull().sum()"
      ],
      "metadata": {
        "colab": {
          "base_uri": "https://localhost:8080/"
        },
        "id": "v9UEIpL2ifu3",
        "outputId": "897d3219-81f5-4017-be9a-56eac67e7df1"
      },
      "id": "v9UEIpL2ifu3",
      "execution_count": null,
      "outputs": [
        {
          "output_type": "execute_result",
          "data": {
            "text/plain": [
              "user_id                   0\n",
              "group                     0\n",
              "landing_page              0\n",
              "time_spent_on_the_page    0\n",
              "converted                 0\n",
              "language_preferred        0\n",
              "dtype: int64"
            ]
          },
          "metadata": {},
          "execution_count": 62
        }
      ]
    },
    {
      "cell_type": "markdown",
      "source": [
        "No null in this dataset"
      ],
      "metadata": {
        "id": "OYxKsVi6yZA-"
      },
      "id": "OYxKsVi6yZA-"
    },
    {
      "cell_type": "code",
      "source": [
        "#Checking total amount of duplicated rows\n",
        "\n",
        "df.duplicated().sum()"
      ],
      "metadata": {
        "colab": {
          "base_uri": "https://localhost:8080/"
        },
        "id": "3L13Pvp6ifsQ",
        "outputId": "8be455c9-aa89-4a7f-d7e8-85123588d685"
      },
      "id": "3L13Pvp6ifsQ",
      "execution_count": null,
      "outputs": [
        {
          "output_type": "execute_result",
          "data": {
            "text/plain": [
              "0"
            ]
          },
          "metadata": {},
          "execution_count": 63
        }
      ]
    },
    {
      "cell_type": "markdown",
      "source": [
        "No duplications in this dataset"
      ],
      "metadata": {
        "id": "Q41WeF1YyV2o"
      },
      "id": "Q41WeF1YyV2o"
    },
    {
      "cell_type": "markdown",
      "metadata": {
        "id": "68f3b2c9"
      },
      "source": [
        "### Univariate Analysis"
      ],
      "id": "68f3b2c9"
    },
    {
      "cell_type": "code",
      "source": [
        "df.columns"
      ],
      "metadata": {
        "colab": {
          "base_uri": "https://localhost:8080/"
        },
        "id": "WvUodDNokMrg",
        "outputId": "b5dc52e2-836a-4e0f-d3da-cefd3ef9d2ea"
      },
      "id": "WvUodDNokMrg",
      "execution_count": null,
      "outputs": [
        {
          "output_type": "execute_result",
          "data": {
            "text/plain": [
              "Index(['user_id', 'group', 'landing_page', 'time_spent_on_the_page',\n",
              "       'converted', 'language_preferred'],\n",
              "      dtype='object')"
            ]
          },
          "metadata": {},
          "execution_count": 64
        }
      ]
    },
    {
      "cell_type": "code",
      "source": [
        "#Selecting categorical features to a list\n",
        "\n",
        "categorical = ['group','landing_page','converted','language_preferred']"
      ],
      "metadata": {
        "id": "s_QzvjFfkEQu"
      },
      "id": "s_QzvjFfkEQu",
      "execution_count": null,
      "outputs": []
    },
    {
      "cell_type": "code",
      "metadata": {
        "id": "1932d0f3",
        "colab": {
          "base_uri": "https://localhost:8080/",
          "height": 389
        },
        "outputId": "19ab8623-cc5c-4470-bd79-477a796af2e2"
      },
      "source": [
        "#Ploting a countplot for all categorical features\n",
        "\n",
        "plt.figure(figsize=(15,5))\n",
        "sns.set_theme()\n",
        "\n",
        "for i,column in enumerate(categorical):\n",
        "  plt.subplot(2, 2, i + 1)\n",
        "  sns.countplot(data=df, x=df[column], palette=\"mako\")\n",
        "  plt.tight_layout()\n",
        "  plt.title(column)\n",
        "  plt.xticks(rotation=90)\n",
        "\n",
        "plt.show()"
      ],
      "id": "1932d0f3",
      "execution_count": null,
      "outputs": [
        {
          "output_type": "display_data",
          "data": {
            "text/plain": [
              "<Figure size 1080x360 with 4 Axes>"
            ],
            "image/png": "[encoded data removed]"
          },
          "metadata": {}
        }
      ]
    },
    {
      "cell_type": "markdown",
      "source": [
        "Insights:\n",
        "\n",
        "*  balanced dataset - all categorical features are fairly distributed"
      ],
      "metadata": {
        "id": "3dQveKU7yBc0"
      },
      "id": "3dQveKU7yBc0"
    },
    {
      "cell_type": "code",
      "source": [
        "#Checking % of each category\n",
        "\n",
        "for i,column in enumerate(categorical):\n",
        "  print(df[column].value_counts(normalize=True))\n",
        "  print(\"-\"*50)"
      ],
      "metadata": {
        "colab": {
          "base_uri": "https://localhost:8080/"
        },
        "id": "5Uo5W0hbqFAQ",
        "outputId": "8693a128-0dbd-45e3-8ea0-27d8d7946f1e"
      },
      "id": "5Uo5W0hbqFAQ",
      "execution_count": null,
      "outputs": [
        {
          "output_type": "stream",
          "name": "stdout",
          "text": [
            "control     0.500\n",
            "treatment   0.500\n",
            "Name: group, dtype: float64\n",
            "--------------------------------------------------\n",
            "old   0.500\n",
            "new   0.500\n",
            "Name: landing_page, dtype: float64\n",
            "--------------------------------------------------\n",
            "yes   0.540\n",
            "no    0.460\n",
            "Name: converted, dtype: float64\n",
            "--------------------------------------------------\n",
            "Spanish   0.340\n",
            "French    0.340\n",
            "English   0.320\n",
            "Name: language_preferred, dtype: float64\n",
            "--------------------------------------------------\n"
          ]
        }
      ]
    },
    {
      "cell_type": "markdown",
      "source": [
        "Insights:\n",
        "\n",
        "*  Just performed a double check with the % of each category and all are fairly distributed"
      ],
      "metadata": {
        "id": "7-fITRnCbHV4"
      },
      "id": "7-fITRnCbHV4"
    },
    {
      "cell_type": "code",
      "source": [
        "#Ploting violin plot where I can check boxplot + histogram at same time\n",
        "\n",
        "plt.figure(figsize=(15,5));\n",
        "sns.violinplot(x = df['time_spent_on_the_page']);\n",
        "plt.title('Violinplot of time spent on the page');"
      ],
      "metadata": {
        "colab": {
          "base_uri": "https://localhost:8080/",
          "height": 355
        },
        "id": "60uebFopr03K",
        "outputId": "62027508-4640-41c4-9423-9398432032f3"
      },
      "id": "60uebFopr03K",
      "execution_count": null,
      "outputs": [
        {
          "output_type": "display_data",
          "data": {
            "text/plain": [
              "<Figure size 1080x360 with 1 Axes>"
            ],
            "image/png": "[encoded data removed]"
          },
          "metadata": {}
        }
      ]
    },
    {
      "cell_type": "markdown",
      "source": [
        "Insights\n",
        "\n",
        "*  Fairly distributed feature\n",
        "*  Very close to normal distribution"
      ],
      "metadata": {
        "id": "3kRa-hDdysjw"
      },
      "id": "3kRa-hDdysjw"
    },
    {
      "cell_type": "code",
      "source": [
        "#ploting stogram with KDE to visualize the distribution curve\n",
        "\n",
        "sns.histplot(x = df['time_spent_on_the_page'], kde=True);"
      ],
      "metadata": {
        "colab": {
          "base_uri": "https://localhost:8080/",
          "height": 285
        },
        "id": "LaBa9QZkr0wr",
        "outputId": "1bd96f16-1ad9-4711-8bd7-826189691206"
      },
      "id": "LaBa9QZkr0wr",
      "execution_count": null,
      "outputs": [
        {
          "output_type": "display_data",
          "data": {
            "text/plain": [
              "<Figure size 432x288 with 1 Axes>"
            ],
            "image/png": "[encoded data removed]"
          },
          "metadata": {}
        }
      ]
    },
    {
      "cell_type": "markdown",
      "source": [
        "Insights:\n",
        "\n",
        "* It takes form of a normal distribution"
      ],
      "metadata": {
        "id": "SQ9HKNDUzTmG"
      },
      "id": "SQ9HKNDUzTmG"
    },
    {
      "cell_type": "markdown",
      "metadata": {
        "id": "fad2de2f"
      },
      "source": [
        "### Bivariate Analysis"
      ],
      "id": "fad2de2f"
    },
    {
      "cell_type": "code",
      "metadata": {
        "id": "58e9a1d0",
        "colab": {
          "base_uri": "https://localhost:8080/",
          "height": 301
        },
        "outputId": "6e29bbe9-1b87-4d6f-eead-d56e1982d8d2"
      },
      "source": [
        "sns.boxplot(y=df['time_spent_on_the_page'], x=df['language_preferred']);\n",
        "plt.title('Boxplot of time spent on the page and language preferred');"
      ],
      "id": "58e9a1d0",
      "execution_count": null,
      "outputs": [
        {
          "output_type": "display_data",
          "data": {
            "text/plain": [
              "<Figure size 432x288 with 1 Axes>"
            ],
            "image/png": "[encoded data removed]"
          },
          "metadata": {}
        }
      ]
    },
    {
      "cell_type": "markdown",
      "source": [
        "Insights:\n",
        "\n",
        "\n",
        "\n",
        "*   There are 3 languages: Spanish, English and French (all well balanced in the dataset - close to 33% each)\n",
        "*   Spanish has the lower range and one observation outside the IQR (interquartile range)\n",
        "*   English and French have similar ranges but english has higher median of all three languages\n",
        "\n",
        "\n",
        "\n"
      ],
      "metadata": {
        "id": "h9XywtqD0SiQ"
      },
      "id": "h9XywtqD0SiQ"
    },
    {
      "cell_type": "code",
      "source": [
        "sns.boxplot(y=df['time_spent_on_the_page'], x=df['landing_page']);\n",
        "plt.title('Boxplot of time spent on the page and landing page');"
      ],
      "metadata": {
        "colab": {
          "base_uri": "https://localhost:8080/",
          "height": 301
        },
        "id": "-MhpffeyHdoK",
        "outputId": "187593d3-3468-4c02-d2cf-09906bf9da85"
      },
      "id": "-MhpffeyHdoK",
      "execution_count": null,
      "outputs": [
        {
          "output_type": "display_data",
          "data": {
            "text/plain": [
              "<Figure size 432x288 with 1 Axes>"
            ],
            "image/png": "[encoded data removed]"
          },
          "metadata": {}
        }
      ]
    },
    {
      "cell_type": "markdown",
      "source": [
        "Insights:\n",
        "\n",
        "*   The new landing page has less range than the old landing page but has higher median.\n",
        "*   The new landing page has outliers and lower IQR which indicates higher variance\n",
        "\n",
        "I'll explore further on next graph\n",
        "\n"
      ],
      "metadata": {
        "id": "Q0rTDSfNIQED"
      },
      "id": "Q0rTDSfNIQED"
    },
    {
      "cell_type": "code",
      "source": [
        "sns.histplot(x=df['time_spent_on_the_page'], hue=df['landing_page'], alpha=0.3, kde=True);\n",
        "plt.title('Histogram of time spent on the page and landing page');"
      ],
      "metadata": {
        "colab": {
          "base_uri": "https://localhost:8080/",
          "height": 301
        },
        "id": "kUmdSdaBHuq9",
        "outputId": "81a275f7-0b1d-4efc-d3bb-fb24eedfb18d"
      },
      "id": "kUmdSdaBHuq9",
      "execution_count": null,
      "outputs": [
        {
          "output_type": "display_data",
          "data": {
            "text/plain": [
              "<Figure size 432x288 with 1 Axes>"
            ],
            "image/png": "[encoded data removed]"
          },
          "metadata": {}
        }
      ]
    },
    {
      "cell_type": "markdown",
      "source": [
        "Inights:\n",
        "\n",
        "*   New landing page follows more closelly to a normal distribution while old landing page is right skewed and has more tail in the curve\n",
        "*   The mean and average of minutes in the new old page are both higher than the mean and average of the old landing page\n",
        "\n"
      ],
      "metadata": {
        "id": "zgYU0B3VI5Jv"
      },
      "id": "zgYU0B3VI5Jv"
    },
    {
      "cell_type": "code",
      "source": [
        "sns.boxplot(y=df['time_spent_on_the_page'], x=df['converted']);\n",
        "plt.title('Boxplot of time spent on the page and converted');"
      ],
      "metadata": {
        "colab": {
          "base_uri": "https://localhost:8080/",
          "height": 301
        },
        "id": "lrBaO6fJJsSO",
        "outputId": "22d3931c-e998-4c97-f931-8521f837da71"
      },
      "id": "lrBaO6fJJsSO",
      "execution_count": null,
      "outputs": [
        {
          "output_type": "display_data",
          "data": {
            "text/plain": [
              "<Figure size 432x288 with 1 Axes>"
            ],
            "image/png": "[encoded data removed]"
          },
          "metadata": {}
        }
      ]
    },
    {
      "cell_type": "markdown",
      "source": [
        "Insights:\n",
        "\n",
        "\n",
        "\n",
        "*   Converted has higher median (and also higher min, 2nd quartile, 3th quartile and max) than not converted\n",
        "\n"
      ],
      "metadata": {
        "id": "Ce83rg3cJ74C"
      },
      "id": "Ce83rg3cJ74C"
    },
    {
      "cell_type": "code",
      "source": [
        "sns.boxplot(y=df['time_spent_on_the_page'], x=df['converted'], hue=df['group']);\n",
        "plt.title('Boxplot of time spent on the page and converted');"
      ],
      "metadata": {
        "colab": {
          "base_uri": "https://localhost:8080/",
          "height": 301
        },
        "id": "U0hA2TI5Kml9",
        "outputId": "f0a171ff-62f2-432d-c658-b081048366fd"
      },
      "id": "U0hA2TI5Kml9",
      "execution_count": null,
      "outputs": [
        {
          "output_type": "display_data",
          "data": {
            "text/plain": [
              "<Figure size 432x288 with 1 Axes>"
            ],
            "image/png": "[encoded data removed]"
          },
          "metadata": {}
        }
      ]
    },
    {
      "cell_type": "markdown",
      "source": [
        "Insights:\n",
        "\n",
        "\n",
        "\n",
        "*   Treatment groups have higher median and higher min, 2nd quartile, 3rd quartile and max values. Both for converted ou not converted\n",
        "\n"
      ],
      "metadata": {
        "id": "neMy34rpadZZ"
      },
      "id": "neMy34rpadZZ"
    },
    {
      "cell_type": "code",
      "source": [
        "#checking a little further about the conversion relation with other variables\n",
        "\n",
        "plt.figure(figsize=(15,5))\n",
        "sns.countplot(x=df['converted'], hue=df['language_preferred']);\n",
        "plt.title('Plot of language preferred and converted');"
      ],
      "metadata": {
        "colab": {
          "base_uri": "https://localhost:8080/",
          "height": 355
        },
        "id": "GY5gl5j3whhk",
        "outputId": "6017165b-a60b-40e9-dc45-3fc1c7a25aad"
      },
      "id": "GY5gl5j3whhk",
      "execution_count": null,
      "outputs": [
        {
          "output_type": "display_data",
          "data": {
            "text/plain": [
              "<Figure size 1080x360 with 1 Axes>"
            ],
            "image/png": "[encoded data removed]"
          },
          "metadata": {}
        }
      ]
    },
    {
      "cell_type": "markdown",
      "source": [
        "Insights:\n",
        "\n",
        "\n",
        "\n",
        "*   French is the only language that has less convertions\n",
        "\n"
      ],
      "metadata": {
        "id": "Pu2_u8Cexv40"
      },
      "id": "Pu2_u8Cexv40"
    },
    {
      "cell_type": "code",
      "source": [
        "#checking a little further about the conversion relation with other variables\n",
        "\n",
        "plt.figure(figsize=(15,5))\n",
        "sns.countplot(x=df['converted'], hue=df['landing_page']);\n",
        "plt.title('Plot of landing page and converted');"
      ],
      "metadata": {
        "colab": {
          "base_uri": "https://localhost:8080/",
          "height": 355
        },
        "id": "hcYiVtmDx9p7",
        "outputId": "bfc95830-a585-4baf-cc05-5a8cfa8d5fac"
      },
      "id": "hcYiVtmDx9p7",
      "execution_count": null,
      "outputs": [
        {
          "output_type": "display_data",
          "data": {
            "text/plain": [
              "<Figure size 1080x360 with 1 Axes>"
            ],
            "image/png": "[encoded data removed]"
          },
          "metadata": {}
        }
      ]
    },
    {
      "cell_type": "markdown",
      "metadata": {
        "id": "27906576"
      },
      "source": [
        "## 1. Do the users spend more time on the new landing page than the existing landing page?"
      ],
      "id": "27906576"
    },
    {
      "cell_type": "markdown",
      "metadata": {
        "id": "e5fdf0c8"
      },
      "source": [
        "### Perform Visual Analysis"
      ],
      "id": "e5fdf0c8"
    },
    {
      "cell_type": "code",
      "metadata": {
        "id": "6eZJa41eg21n",
        "colab": {
          "base_uri": "https://localhost:8080/",
          "height": 301
        },
        "outputId": "c686a177-835d-4851-9c02-4d9c00f76133"
      },
      "source": [
        "#Visualizing the mean and the standard variation\n",
        "\n",
        "sns.barplot(x=df['landing_page'], y=df['time_spent_on_the_page'], ci='sd');\n",
        "plt.title('Time spent on the page by landing page with standard deviation');\n",
        "plt.ylabel('Time spent on the page');\n",
        "plt.xlabel('Landing Page');"
      ],
      "id": "6eZJa41eg21n",
      "execution_count": null,
      "outputs": [
        {
          "output_type": "display_data",
          "data": {
            "text/plain": [
              "<Figure size 432x288 with 1 Axes>"
            ],
            "image/png": "[encoded data removed]"
          },
          "metadata": {}
        }
      ]
    },
    {
      "cell_type": "markdown",
      "source": [
        "Insights:\n",
        "\n",
        "\n",
        "\n",
        "*   On average, the new landing page has higher time spent with 6 minutes against 4.5 minutes of the old landing page\n",
        "*   Also old landing page presents higher standard deviation\n",
        "\n"
      ],
      "metadata": {
        "id": "q4wkcUpKcro0"
      },
      "id": "q4wkcUpKcro0"
    },
    {
      "cell_type": "code",
      "source": [
        "#Checking the kde so we get an idea of both meaning positions\n",
        "\n",
        "sns.histplot(x=df['time_spent_on_the_page'], hue=df['landing_page'], alpha=0.3, kde=True);\n",
        "plt.title('Histogram of time spent on the page and landing page');"
      ],
      "metadata": {
        "colab": {
          "base_uri": "https://localhost:8080/",
          "height": 301
        },
        "id": "zA2zf4Ktz4OO",
        "outputId": "773ceea3-d79f-404b-d609-4437da5c4d22"
      },
      "id": "zA2zf4Ktz4OO",
      "execution_count": null,
      "outputs": [
        {
          "output_type": "display_data",
          "data": {
            "text/plain": [
              "<Figure size 432x288 with 1 Axes>"
            ],
            "image/png": "[encoded data removed]"
          },
          "metadata": {}
        }
      ]
    },
    {
      "cell_type": "code",
      "source": [
        "df.head()"
      ],
      "metadata": {
        "colab": {
          "base_uri": "https://localhost:8080/",
          "height": 206
        },
        "id": "1hXkh73IyPD-",
        "outputId": "a7a35421-2b3d-43c1-ca0f-592bdc3951b6"
      },
      "id": "1hXkh73IyPD-",
      "execution_count": null,
      "outputs": [
        {
          "output_type": "execute_result",
          "data": {
            "text/plain": [
              "   user_id      group landing_page  time_spent_on_the_page converted  \\\n",
              "0   546592    control          old                   3.480        no   \n",
              "1   546468  treatment          new                   7.130       yes   \n",
              "2   546462  treatment          new                   4.400        no   \n",
              "3   546567    control          old                   3.020        no   \n",
              "4   546459  treatment          new                   4.750       yes   \n",
              "\n",
              "  language_preferred  \n",
              "0            Spanish  \n",
              "1            English  \n",
              "2            Spanish  \n",
              "3             French  \n",
              "4            Spanish  "
            ],
            "text/html": [
              "\n",
              "  <div id=\"df-81b259ed-1932-4eff-8e8a-482fc55f6f2a\">\n",
              "    <div class=\"colab-df-container\">\n",
              "      <div>\n",
              "<style scoped>\n",
              "    .dataframe tbody tr th:only-of-type {\n",
              "        vertical-align: middle;\n",
              "    }\n",
              "\n",
              "    .dataframe tbody tr th {\n",
              "        vertical-align: top;\n",
              "    }\n",
              "\n",
              "    .dataframe thead th {\n",
              "        text-align: right;\n",
              "    }\n",
              "</style>\n",
              "<table border=\"1\" class=\"dataframe\">\n",
              "  <thead>\n",
              "    <tr style=\"text-align: right;\">\n",
              "      <th></th>\n",
              "      <th>user_id</th>\n",
              "      <th>group</th>\n",
              "      <th>landing_page</th>\n",
              "      <th>time_spent_on_the_page</th>\n",
              "      <th>converted</th>\n",
              "      <th>language_preferred</th>\n",
              "    </tr>\n",
              "  </thead>\n",
              "  <tbody>\n",
              "    <tr>\n",
              "      <th>0</th>\n",
              "      <td>546592</td>\n",
              "      <td>control</td>\n",
              "      <td>old</td>\n",
              "      <td>3.480</td>\n",
              "      <td>no</td>\n",
              "      <td>Spanish</td>\n",
              "    </tr>\n",
              "    <tr>\n",
              "      <th>1</th>\n",
              "      <td>546468</td>\n",
              "      <td>treatment</td>\n",
              "      <td>new</td>\n",
              "      <td>7.130</td>\n",
              "      <td>yes</td>\n",
              "      <td>English</td>\n",
              "    </tr>\n",
              "    <tr>\n",
              "      <th>2</th>\n",
              "      <td>546462</td>\n",
              "      <td>treatment</td>\n",
              "      <td>new</td>\n",
              "      <td>4.400</td>\n",
              "      <td>no</td>\n",
              "      <td>Spanish</td>\n",
              "    </tr>\n",
              "    <tr>\n",
              "      <th>3</th>\n",
              "      <td>546567</td>\n",
              "      <td>control</td>\n",
              "      <td>old</td>\n",
              "      <td>3.020</td>\n",
              "      <td>no</td>\n",
              "      <td>French</td>\n",
              "    </tr>\n",
              "    <tr>\n",
              "      <th>4</th>\n",
              "      <td>546459</td>\n",
              "      <td>treatment</td>\n",
              "      <td>new</td>\n",
              "      <td>4.750</td>\n",
              "      <td>yes</td>\n",
              "      <td>Spanish</td>\n",
              "    </tr>\n",
              "  </tbody>\n",
              "</table>\n",
              "</div>\n",
              "      <button class=\"colab-df-convert\" onclick=\"convertToInteractive('df-81b259ed-1932-4eff-8e8a-482fc55f6f2a')\"\n",
              "              title=\"Convert this dataframe to an interactive table.\"\n",
              "              style=\"display:none;\">\n",
              "        \n",
              "  <svg xmlns=\"http://www.w3.org/2000/svg\" height=\"24px\"viewBox=\"0 0 24 24\"\n",
              "       width=\"24px\">\n",
              "    <path d=\"M0 0h24v24H0V0z\" fill=\"none\"/>\n",
              "    <path d=\"M18.56 5.44l.94 2.06.94-2.06 2.06-.94-2.06-.94-.94-2.06-.94 2.06-2.06.94zm-11 1L8.5 8.5l.94-2.06 2.06-.94-2.06-.94L8.5 2.5l-.94 2.06-2.06.94zm10 10l.94 2.06.94-2.06 2.06-.94-2.06-.94-.94-2.06-.94 2.06-2.06.94z\"/><path d=\"M17.41 7.96l-1.37-1.37c-.4-.4-.92-.59-1.43-.59-.52 0-1.04.2-1.43.59L10.3 9.45l-7.72 7.72c-.78.78-.78 2.05 0 2.83L4 21.41c.39.39.9.59 1.41.59.51 0 1.02-.2 1.41-.59l7.78-7.78 2.81-2.81c.8-.78.8-2.07 0-2.86zM5.41 20L4 18.59l7.72-7.72 1.47 1.35L5.41 20z\"/>\n",
              "  </svg>\n",
              "      </button>\n",
              "      \n",
              "  <style>\n",
              "    .colab-df-container {\n",
              "      display:flex;\n",
              "      flex-wrap:wrap;\n",
              "      gap: 12px;\n",
              "    }\n",
              "\n",
              "    .colab-df-convert {\n",
              "      background-color: #E8F0FE;\n",
              "      border: none;\n",
              "      border-radius: 50%;\n",
              "      cursor: pointer;\n",
              "      display: none;\n",
              "      fill: #1967D2;\n",
              "      height: 32px;\n",
              "      padding: 0 0 0 0;\n",
              "      width: 32px;\n",
              "    }\n",
              "\n",
              "    .colab-df-convert:hover {\n",
              "      background-color: #E2EBFA;\n",
              "      box-shadow: 0px 1px 2px rgba(60, 64, 67, 0.3), 0px 1px 3px 1px rgba(60, 64, 67, 0.15);\n",
              "      fill: #174EA6;\n",
              "    }\n",
              "\n",
              "    [theme=dark] .colab-df-convert {\n",
              "      background-color: #3B4455;\n",
              "      fill: #D2E3FC;\n",
              "    }\n",
              "\n",
              "    [theme=dark] .colab-df-convert:hover {\n",
              "      background-color: #434B5C;\n",
              "      box-shadow: 0px 1px 3px 1px rgba(0, 0, 0, 0.15);\n",
              "      filter: drop-shadow(0px 1px 2px rgba(0, 0, 0, 0.3));\n",
              "      fill: #FFFFFF;\n",
              "    }\n",
              "  </style>\n",
              "\n",
              "      <script>\n",
              "        const buttonEl =\n",
              "          document.querySelector('#df-81b259ed-1932-4eff-8e8a-482fc55f6f2a button.colab-df-convert');\n",
              "        buttonEl.style.display =\n",
              "          google.colab.kernel.accessAllowed ? 'block' : 'none';\n",
              "\n",
              "        async function convertToInteractive(key) {\n",
              "          const element = document.querySelector('#df-81b259ed-1932-4eff-8e8a-482fc55f6f2a');\n",
              "          const dataTable =\n",
              "            await google.colab.kernel.invokeFunction('convertToInteractive',\n",
              "                                                     [key], {});\n",
              "          if (!dataTable) return;\n",
              "\n",
              "          const docLinkHtml = 'Like what you see? Visit the ' +\n",
              "            '<a target=\"_blank\" href=https://colab.research.google.com/notebooks/data_table.ipynb>data table notebook</a>'\n",
              "            + ' to learn more about interactive tables.';\n",
              "          element.innerHTML = '';\n",
              "          dataTable['output_type'] = 'display_data';\n",
              "          await google.colab.output.renderOutput(dataTable, element);\n",
              "          const docLink = document.createElement('div');\n",
              "          docLink.innerHTML = docLinkHtml;\n",
              "          element.appendChild(docLink);\n",
              "        }\n",
              "      </script>\n",
              "    </div>\n",
              "  </div>\n",
              "  "
            ]
          },
          "metadata": {},
          "execution_count": 79
        }
      ]
    },
    {
      "cell_type": "markdown",
      "metadata": {
        "id": "56b3dafd"
      },
      "source": [
        "### Step 1: Define the null and alternate hypothesis"
      ],
      "id": "56b3dafd"
    },
    {
      "cell_type": "markdown",
      "source": [
        "Null Hypothesys (H0): The average time spent both pages are equal\n",
        "\n",
        "Alternative Hypothesis (Ha): The average time spent on new web page is greater than in the old landing page"
      ],
      "metadata": {
        "id": "uNUcJ0lrc7iA"
      },
      "id": "uNUcJ0lrc7iA"
    },
    {
      "cell_type": "markdown",
      "metadata": {
        "id": "c7ee4907"
      },
      "source": [
        "### Step 2: Select Appropriate test"
      ],
      "id": "c7ee4907"
    },
    {
      "cell_type": "markdown",
      "metadata": {
        "id": "2c183cd7"
      },
      "source": [
        "T-test\n",
        "\n",
        "\n",
        "Assumptions:\n",
        "\n",
        "● Continuous data\n",
        "\n",
        "● Normally distributed populations\n",
        "\n",
        "● Independent populations\n",
        "\n",
        "● Random sampling from the population"
      ],
      "id": "2c183cd7"
    },
    {
      "cell_type": "markdown",
      "metadata": {
        "id": "3f58c9a7"
      },
      "source": [
        "### Step 3: Decide the significance level"
      ],
      "id": "3f58c9a7"
    },
    {
      "cell_type": "code",
      "source": [
        "alpha = 0.05"
      ],
      "metadata": {
        "id": "YPuQISeOy1tj"
      },
      "id": "YPuQISeOy1tj",
      "execution_count": null,
      "outputs": []
    },
    {
      "cell_type": "markdown",
      "metadata": {
        "id": "5fed2eac"
      },
      "source": [
        "### Step 4: Collect and prepare data"
      ],
      "id": "5fed2eac"
    },
    {
      "cell_type": "code",
      "metadata": {
        "id": "f5a59495"
      },
      "source": [
        "#separating between old and new dataframes so we can further select the columns\n",
        "\n",
        "old = df[df['landing_page'] == 'old']\n",
        "new = df[df['landing_page'] == 'new']"
      ],
      "id": "f5a59495",
      "execution_count": null,
      "outputs": []
    },
    {
      "cell_type": "code",
      "source": [
        "old.head()"
      ],
      "metadata": {
        "colab": {
          "base_uri": "https://localhost:8080/",
          "height": 206
        },
        "id": "VDCPYcwIrN-O",
        "outputId": "47207291-1b7a-4f1d-fab9-97d0db6711a1"
      },
      "id": "VDCPYcwIrN-O",
      "execution_count": null,
      "outputs": [
        {
          "output_type": "execute_result",
          "data": {
            "text/plain": [
              "   user_id    group landing_page  time_spent_on_the_page converted  \\\n",
              "0   546592  control          old                   3.480        no   \n",
              "3   546567  control          old                   3.020        no   \n",
              "5   546558  control          old                   5.280       yes   \n",
              "7   546581  control          old                   6.530       yes   \n",
              "9   546548  control          old                   2.080        no   \n",
              "\n",
              "  language_preferred  \n",
              "0            Spanish  \n",
              "3             French  \n",
              "5            English  \n",
              "7            Spanish  \n",
              "9            English  "
            ],
            "text/html": [
              "\n",
              "  <div id=\"df-dc881f11-4f17-4c3d-bc6e-fcd7a8e2f53f\">\n",
              "    <div class=\"colab-df-container\">\n",
              "      <div>\n",
              "<style scoped>\n",
              "    .dataframe tbody tr th:only-of-type {\n",
              "        vertical-align: middle;\n",
              "    }\n",
              "\n",
              "    .dataframe tbody tr th {\n",
              "        vertical-align: top;\n",
              "    }\n",
              "\n",
              "    .dataframe thead th {\n",
              "        text-align: right;\n",
              "    }\n",
              "</style>\n",
              "<table border=\"1\" class=\"dataframe\">\n",
              "  <thead>\n",
              "    <tr style=\"text-align: right;\">\n",
              "      <th></th>\n",
              "      <th>user_id</th>\n",
              "      <th>group</th>\n",
              "      <th>landing_page</th>\n",
              "      <th>time_spent_on_the_page</th>\n",
              "      <th>converted</th>\n",
              "      <th>language_preferred</th>\n",
              "    </tr>\n",
              "  </thead>\n",
              "  <tbody>\n",
              "    <tr>\n",
              "      <th>0</th>\n",
              "      <td>546592</td>\n",
              "      <td>control</td>\n",
              "      <td>old</td>\n",
              "      <td>3.480</td>\n",
              "      <td>no</td>\n",
              "      <td>Spanish</td>\n",
              "    </tr>\n",
              "    <tr>\n",
              "      <th>3</th>\n",
              "      <td>546567</td>\n",
              "      <td>control</td>\n",
              "      <td>old</td>\n",
              "      <td>3.020</td>\n",
              "      <td>no</td>\n",
              "      <td>French</td>\n",
              "    </tr>\n",
              "    <tr>\n",
              "      <th>5</th>\n",
              "      <td>546558</td>\n",
              "      <td>control</td>\n",
              "      <td>old</td>\n",
              "      <td>5.280</td>\n",
              "      <td>yes</td>\n",
              "      <td>English</td>\n",
              "    </tr>\n",
              "    <tr>\n",
              "      <th>7</th>\n",
              "      <td>546581</td>\n",
              "      <td>control</td>\n",
              "      <td>old</td>\n",
              "      <td>6.530</td>\n",
              "      <td>yes</td>\n",
              "      <td>Spanish</td>\n",
              "    </tr>\n",
              "    <tr>\n",
              "      <th>9</th>\n",
              "      <td>546548</td>\n",
              "      <td>control</td>\n",
              "      <td>old</td>\n",
              "      <td>2.080</td>\n",
              "      <td>no</td>\n",
              "      <td>English</td>\n",
              "    </tr>\n",
              "  </tbody>\n",
              "</table>\n",
              "</div>\n",
              "      <button class=\"colab-df-convert\" onclick=\"convertToInteractive('df-dc881f11-4f17-4c3d-bc6e-fcd7a8e2f53f')\"\n",
              "              title=\"Convert this dataframe to an interactive table.\"\n",
              "              style=\"display:none;\">\n",
              "        \n",
              "  <svg xmlns=\"http://www.w3.org/2000/svg\" height=\"24px\"viewBox=\"0 0 24 24\"\n",
              "       width=\"24px\">\n",
              "    <path d=\"M0 0h24v24H0V0z\" fill=\"none\"/>\n",
              "    <path d=\"M18.56 5.44l.94 2.06.94-2.06 2.06-.94-2.06-.94-.94-2.06-.94 2.06-2.06.94zm-11 1L8.5 8.5l.94-2.06 2.06-.94-2.06-.94L8.5 2.5l-.94 2.06-2.06.94zm10 10l.94 2.06.94-2.06 2.06-.94-2.06-.94-.94-2.06-.94 2.06-2.06.94z\"/><path d=\"M17.41 7.96l-1.37-1.37c-.4-.4-.92-.59-1.43-.59-.52 0-1.04.2-1.43.59L10.3 9.45l-7.72 7.72c-.78.78-.78 2.05 0 2.83L4 21.41c.39.39.9.59 1.41.59.51 0 1.02-.2 1.41-.59l7.78-7.78 2.81-2.81c.8-.78.8-2.07 0-2.86zM5.41 20L4 18.59l7.72-7.72 1.47 1.35L5.41 20z\"/>\n",
              "  </svg>\n",
              "      </button>\n",
              "      \n",
              "  <style>\n",
              "    .colab-df-container {\n",
              "      display:flex;\n",
              "      flex-wrap:wrap;\n",
              "      gap: 12px;\n",
              "    }\n",
              "\n",
              "    .colab-df-convert {\n",
              "      background-color: #E8F0FE;\n",
              "      border: none;\n",
              "      border-radius: 50%;\n",
              "      cursor: pointer;\n",
              "      display: none;\n",
              "      fill: #1967D2;\n",
              "      height: 32px;\n",
              "      padding: 0 0 0 0;\n",
              "      width: 32px;\n",
              "    }\n",
              "\n",
              "    .colab-df-convert:hover {\n",
              "      background-color: #E2EBFA;\n",
              "      box-shadow: 0px 1px 2px rgba(60, 64, 67, 0.3), 0px 1px 3px 1px rgba(60, 64, 67, 0.15);\n",
              "      fill: #174EA6;\n",
              "    }\n",
              "\n",
              "    [theme=dark] .colab-df-convert {\n",
              "      background-color: #3B4455;\n",
              "      fill: #D2E3FC;\n",
              "    }\n",
              "\n",
              "    [theme=dark] .colab-df-convert:hover {\n",
              "      background-color: #434B5C;\n",
              "      box-shadow: 0px 1px 3px 1px rgba(0, 0, 0, 0.15);\n",
              "      filter: drop-shadow(0px 1px 2px rgba(0, 0, 0, 0.3));\n",
              "      fill: #FFFFFF;\n",
              "    }\n",
              "  </style>\n",
              "\n",
              "      <script>\n",
              "        const buttonEl =\n",
              "          document.querySelector('#df-dc881f11-4f17-4c3d-bc6e-fcd7a8e2f53f button.colab-df-convert');\n",
              "        buttonEl.style.display =\n",
              "          google.colab.kernel.accessAllowed ? 'block' : 'none';\n",
              "\n",
              "        async function convertToInteractive(key) {\n",
              "          const element = document.querySelector('#df-dc881f11-4f17-4c3d-bc6e-fcd7a8e2f53f');\n",
              "          const dataTable =\n",
              "            await google.colab.kernel.invokeFunction('convertToInteractive',\n",
              "                                                     [key], {});\n",
              "          if (!dataTable) return;\n",
              "\n",
              "          const docLinkHtml = 'Like what you see? Visit the ' +\n",
              "            '<a target=\"_blank\" href=https://colab.research.google.com/notebooks/data_table.ipynb>data table notebook</a>'\n",
              "            + ' to learn more about interactive tables.';\n",
              "          element.innerHTML = '';\n",
              "          dataTable['output_type'] = 'display_data';\n",
              "          await google.colab.output.renderOutput(dataTable, element);\n",
              "          const docLink = document.createElement('div');\n",
              "          docLink.innerHTML = docLinkHtml;\n",
              "          element.appendChild(docLink);\n",
              "        }\n",
              "      </script>\n",
              "    </div>\n",
              "  </div>\n",
              "  "
            ]
          },
          "metadata": {},
          "execution_count": 82
        }
      ]
    },
    {
      "cell_type": "code",
      "source": [
        "new.head()"
      ],
      "metadata": {
        "colab": {
          "base_uri": "https://localhost:8080/",
          "height": 206
        },
        "id": "ZbXvMdXtrN3h",
        "outputId": "4eaba907-2a29-40b8-afed-742f1c8bb510"
      },
      "id": "ZbXvMdXtrN3h",
      "execution_count": null,
      "outputs": [
        {
          "output_type": "execute_result",
          "data": {
            "text/plain": [
              "   user_id      group landing_page  time_spent_on_the_page converted  \\\n",
              "1   546468  treatment          new                   7.130       yes   \n",
              "2   546462  treatment          new                   4.400        no   \n",
              "4   546459  treatment          new                   4.750       yes   \n",
              "6   546448  treatment          new                   5.250       yes   \n",
              "8   546461  treatment          new                  10.710       yes   \n",
              "\n",
              "  language_preferred  \n",
              "1            English  \n",
              "2            Spanish  \n",
              "4            Spanish  \n",
              "6             French  \n",
              "8             French  "
            ],
            "text/html": [
              "\n",
              "  <div id=\"df-3d9c174c-11da-4a0c-a138-e0deec643475\">\n",
              "    <div class=\"colab-df-container\">\n",
              "      <div>\n",
              "<style scoped>\n",
              "    .dataframe tbody tr th:only-of-type {\n",
              "        vertical-align: middle;\n",
              "    }\n",
              "\n",
              "    .dataframe tbody tr th {\n",
              "        vertical-align: top;\n",
              "    }\n",
              "\n",
              "    .dataframe thead th {\n",
              "        text-align: right;\n",
              "    }\n",
              "</style>\n",
              "<table border=\"1\" class=\"dataframe\">\n",
              "  <thead>\n",
              "    <tr style=\"text-align: right;\">\n",
              "      <th></th>\n",
              "      <th>user_id</th>\n",
              "      <th>group</th>\n",
              "      <th>landing_page</th>\n",
              "      <th>time_spent_on_the_page</th>\n",
              "      <th>converted</th>\n",
              "      <th>language_preferred</th>\n",
              "    </tr>\n",
              "  </thead>\n",
              "  <tbody>\n",
              "    <tr>\n",
              "      <th>1</th>\n",
              "      <td>546468</td>\n",
              "      <td>treatment</td>\n",
              "      <td>new</td>\n",
              "      <td>7.130</td>\n",
              "      <td>yes</td>\n",
              "      <td>English</td>\n",
              "    </tr>\n",
              "    <tr>\n",
              "      <th>2</th>\n",
              "      <td>546462</td>\n",
              "      <td>treatment</td>\n",
              "      <td>new</td>\n",
              "      <td>4.400</td>\n",
              "      <td>no</td>\n",
              "      <td>Spanish</td>\n",
              "    </tr>\n",
              "    <tr>\n",
              "      <th>4</th>\n",
              "      <td>546459</td>\n",
              "      <td>treatment</td>\n",
              "      <td>new</td>\n",
              "      <td>4.750</td>\n",
              "      <td>yes</td>\n",
              "      <td>Spanish</td>\n",
              "    </tr>\n",
              "    <tr>\n",
              "      <th>6</th>\n",
              "      <td>546448</td>\n",
              "      <td>treatment</td>\n",
              "      <td>new</td>\n",
              "      <td>5.250</td>\n",
              "      <td>yes</td>\n",
              "      <td>French</td>\n",
              "    </tr>\n",
              "    <tr>\n",
              "      <th>8</th>\n",
              "      <td>546461</td>\n",
              "      <td>treatment</td>\n",
              "      <td>new</td>\n",
              "      <td>10.710</td>\n",
              "      <td>yes</td>\n",
              "      <td>French</td>\n",
              "    </tr>\n",
              "  </tbody>\n",
              "</table>\n",
              "</div>\n",
              "      <button class=\"colab-df-convert\" onclick=\"convertToInteractive('df-3d9c174c-11da-4a0c-a138-e0deec643475')\"\n",
              "              title=\"Convert this dataframe to an interactive table.\"\n",
              "              style=\"display:none;\">\n",
              "        \n",
              "  <svg xmlns=\"http://www.w3.org/2000/svg\" height=\"24px\"viewBox=\"0 0 24 24\"\n",
              "       width=\"24px\">\n",
              "    <path d=\"M0 0h24v24H0V0z\" fill=\"none\"/>\n",
              "    <path d=\"M18.56 5.44l.94 2.06.94-2.06 2.06-.94-2.06-.94-.94-2.06-.94 2.06-2.06.94zm-11 1L8.5 8.5l.94-2.06 2.06-.94-2.06-.94L8.5 2.5l-.94 2.06-2.06.94zm10 10l.94 2.06.94-2.06 2.06-.94-2.06-.94-.94-2.06-.94 2.06-2.06.94z\"/><path d=\"M17.41 7.96l-1.37-1.37c-.4-.4-.92-.59-1.43-.59-.52 0-1.04.2-1.43.59L10.3 9.45l-7.72 7.72c-.78.78-.78 2.05 0 2.83L4 21.41c.39.39.9.59 1.41.59.51 0 1.02-.2 1.41-.59l7.78-7.78 2.81-2.81c.8-.78.8-2.07 0-2.86zM5.41 20L4 18.59l7.72-7.72 1.47 1.35L5.41 20z\"/>\n",
              "  </svg>\n",
              "      </button>\n",
              "      \n",
              "  <style>\n",
              "    .colab-df-container {\n",
              "      display:flex;\n",
              "      flex-wrap:wrap;\n",
              "      gap: 12px;\n",
              "    }\n",
              "\n",
              "    .colab-df-convert {\n",
              "      background-color: #E8F0FE;\n",
              "      border: none;\n",
              "      border-radius: 50%;\n",
              "      cursor: pointer;\n",
              "      display: none;\n",
              "      fill: #1967D2;\n",
              "      height: 32px;\n",
              "      padding: 0 0 0 0;\n",
              "      width: 32px;\n",
              "    }\n",
              "\n",
              "    .colab-df-convert:hover {\n",
              "      background-color: #E2EBFA;\n",
              "      box-shadow: 0px 1px 2px rgba(60, 64, 67, 0.3), 0px 1px 3px 1px rgba(60, 64, 67, 0.15);\n",
              "      fill: #174EA6;\n",
              "    }\n",
              "\n",
              "    [theme=dark] .colab-df-convert {\n",
              "      background-color: #3B4455;\n",
              "      fill: #D2E3FC;\n",
              "    }\n",
              "\n",
              "    [theme=dark] .colab-df-convert:hover {\n",
              "      background-color: #434B5C;\n",
              "      box-shadow: 0px 1px 3px 1px rgba(0, 0, 0, 0.15);\n",
              "      filter: drop-shadow(0px 1px 2px rgba(0, 0, 0, 0.3));\n",
              "      fill: #FFFFFF;\n",
              "    }\n",
              "  </style>\n",
              "\n",
              "      <script>\n",
              "        const buttonEl =\n",
              "          document.querySelector('#df-3d9c174c-11da-4a0c-a138-e0deec643475 button.colab-df-convert');\n",
              "        buttonEl.style.display =\n",
              "          google.colab.kernel.accessAllowed ? 'block' : 'none';\n",
              "\n",
              "        async function convertToInteractive(key) {\n",
              "          const element = document.querySelector('#df-3d9c174c-11da-4a0c-a138-e0deec643475');\n",
              "          const dataTable =\n",
              "            await google.colab.kernel.invokeFunction('convertToInteractive',\n",
              "                                                     [key], {});\n",
              "          if (!dataTable) return;\n",
              "\n",
              "          const docLinkHtml = 'Like what you see? Visit the ' +\n",
              "            '<a target=\"_blank\" href=https://colab.research.google.com/notebooks/data_table.ipynb>data table notebook</a>'\n",
              "            + ' to learn more about interactive tables.';\n",
              "          element.innerHTML = '';\n",
              "          dataTable['output_type'] = 'display_data';\n",
              "          await google.colab.output.renderOutput(dataTable, element);\n",
              "          const docLink = document.createElement('div');\n",
              "          docLink.innerHTML = docLinkHtml;\n",
              "          element.appendChild(docLink);\n",
              "        }\n",
              "      </script>\n",
              "    </div>\n",
              "  </div>\n",
              "  "
            ]
          },
          "metadata": {},
          "execution_count": 83
        }
      ]
    },
    {
      "cell_type": "code",
      "source": [
        "old.describe().T"
      ],
      "metadata": {
        "colab": {
          "base_uri": "https://localhost:8080/",
          "height": 112
        },
        "id": "Bmr5T0UMtW-G",
        "outputId": "c1be3ca1-2f3f-4456-c94f-5a2202ec02c2"
      },
      "id": "Bmr5T0UMtW-G",
      "execution_count": null,
      "outputs": [
        {
          "output_type": "execute_result",
          "data": {
            "text/plain": [
              "                        count       mean    std        min        25%  \\\n",
              "user_id                50.000 546566.500 17.678 546493.000 546555.250   \n",
              "time_spent_on_the_page 50.000      4.532  2.582      0.190      2.720   \n",
              "\n",
              "                              50%        75%        max  \n",
              "user_id                546567.500 546579.750 546592.000  \n",
              "time_spent_on_the_page      4.380      6.442     10.300  "
            ],
            "text/html": [
              "\n",
              "  <div id=\"df-b17939bb-f14f-4173-9fb1-9f2a80ce72bd\">\n",
              "    <div class=\"colab-df-container\">\n",
              "      <div>\n",
              "<style scoped>\n",
              "    .dataframe tbody tr th:only-of-type {\n",
              "        vertical-align: middle;\n",
              "    }\n",
              "\n",
              "    .dataframe tbody tr th {\n",
              "        vertical-align: top;\n",
              "    }\n",
              "\n",
              "    .dataframe thead th {\n",
              "        text-align: right;\n",
              "    }\n",
              "</style>\n",
              "<table border=\"1\" class=\"dataframe\">\n",
              "  <thead>\n",
              "    <tr style=\"text-align: right;\">\n",
              "      <th></th>\n",
              "      <th>count</th>\n",
              "      <th>mean</th>\n",
              "      <th>std</th>\n",
              "      <th>min</th>\n",
              "      <th>25%</th>\n",
              "      <th>50%</th>\n",
              "      <th>75%</th>\n",
              "      <th>max</th>\n",
              "    </tr>\n",
              "  </thead>\n",
              "  <tbody>\n",
              "    <tr>\n",
              "      <th>user_id</th>\n",
              "      <td>50.000</td>\n",
              "      <td>546566.500</td>\n",
              "      <td>17.678</td>\n",
              "      <td>546493.000</td>\n",
              "      <td>546555.250</td>\n",
              "      <td>546567.500</td>\n",
              "      <td>546579.750</td>\n",
              "      <td>546592.000</td>\n",
              "    </tr>\n",
              "    <tr>\n",
              "      <th>time_spent_on_the_page</th>\n",
              "      <td>50.000</td>\n",
              "      <td>4.532</td>\n",
              "      <td>2.582</td>\n",
              "      <td>0.190</td>\n",
              "      <td>2.720</td>\n",
              "      <td>4.380</td>\n",
              "      <td>6.442</td>\n",
              "      <td>10.300</td>\n",
              "    </tr>\n",
              "  </tbody>\n",
              "</table>\n",
              "</div>\n",
              "      <button class=\"colab-df-convert\" onclick=\"convertToInteractive('df-b17939bb-f14f-4173-9fb1-9f2a80ce72bd')\"\n",
              "              title=\"Convert this dataframe to an interactive table.\"\n",
              "              style=\"display:none;\">\n",
              "        \n",
              "  <svg xmlns=\"http://www.w3.org/2000/svg\" height=\"24px\"viewBox=\"0 0 24 24\"\n",
              "       width=\"24px\">\n",
              "    <path d=\"M0 0h24v24H0V0z\" fill=\"none\"/>\n",
              "    <path d=\"M18.56 5.44l.94 2.06.94-2.06 2.06-.94-2.06-.94-.94-2.06-.94 2.06-2.06.94zm-11 1L8.5 8.5l.94-2.06 2.06-.94-2.06-.94L8.5 2.5l-.94 2.06-2.06.94zm10 10l.94 2.06.94-2.06 2.06-.94-2.06-.94-.94-2.06-.94 2.06-2.06.94z\"/><path d=\"M17.41 7.96l-1.37-1.37c-.4-.4-.92-.59-1.43-.59-.52 0-1.04.2-1.43.59L10.3 9.45l-7.72 7.72c-.78.78-.78 2.05 0 2.83L4 21.41c.39.39.9.59 1.41.59.51 0 1.02-.2 1.41-.59l7.78-7.78 2.81-2.81c.8-.78.8-2.07 0-2.86zM5.41 20L4 18.59l7.72-7.72 1.47 1.35L5.41 20z\"/>\n",
              "  </svg>\n",
              "      </button>\n",
              "      \n",
              "  <style>\n",
              "    .colab-df-container {\n",
              "      display:flex;\n",
              "      flex-wrap:wrap;\n",
              "      gap: 12px;\n",
              "    }\n",
              "\n",
              "    .colab-df-convert {\n",
              "      background-color: #E8F0FE;\n",
              "      border: none;\n",
              "      border-radius: 50%;\n",
              "      cursor: pointer;\n",
              "      display: none;\n",
              "      fill: #1967D2;\n",
              "      height: 32px;\n",
              "      padding: 0 0 0 0;\n",
              "      width: 32px;\n",
              "    }\n",
              "\n",
              "    .colab-df-convert:hover {\n",
              "      background-color: #E2EBFA;\n",
              "      box-shadow: 0px 1px 2px rgba(60, 64, 67, 0.3), 0px 1px 3px 1px rgba(60, 64, 67, 0.15);\n",
              "      fill: #174EA6;\n",
              "    }\n",
              "\n",
              "    [theme=dark] .colab-df-convert {\n",
              "      background-color: #3B4455;\n",
              "      fill: #D2E3FC;\n",
              "    }\n",
              "\n",
              "    [theme=dark] .colab-df-convert:hover {\n",
              "      background-color: #434B5C;\n",
              "      box-shadow: 0px 1px 3px 1px rgba(0, 0, 0, 0.15);\n",
              "      filter: drop-shadow(0px 1px 2px rgba(0, 0, 0, 0.3));\n",
              "      fill: #FFFFFF;\n",
              "    }\n",
              "  </style>\n",
              "\n",
              "      <script>\n",
              "        const buttonEl =\n",
              "          document.querySelector('#df-b17939bb-f14f-4173-9fb1-9f2a80ce72bd button.colab-df-convert');\n",
              "        buttonEl.style.display =\n",
              "          google.colab.kernel.accessAllowed ? 'block' : 'none';\n",
              "\n",
              "        async function convertToInteractive(key) {\n",
              "          const element = document.querySelector('#df-b17939bb-f14f-4173-9fb1-9f2a80ce72bd');\n",
              "          const dataTable =\n",
              "            await google.colab.kernel.invokeFunction('convertToInteractive',\n",
              "                                                     [key], {});\n",
              "          if (!dataTable) return;\n",
              "\n",
              "          const docLinkHtml = 'Like what you see? Visit the ' +\n",
              "            '<a target=\"_blank\" href=https://colab.research.google.com/notebooks/data_table.ipynb>data table notebook</a>'\n",
              "            + ' to learn more about interactive tables.';\n",
              "          element.innerHTML = '';\n",
              "          dataTable['output_type'] = 'display_data';\n",
              "          await google.colab.output.renderOutput(dataTable, element);\n",
              "          const docLink = document.createElement('div');\n",
              "          docLink.innerHTML = docLinkHtml;\n",
              "          element.appendChild(docLink);\n",
              "        }\n",
              "      </script>\n",
              "    </div>\n",
              "  </div>\n",
              "  "
            ]
          },
          "metadata": {},
          "execution_count": 84
        }
      ]
    },
    {
      "cell_type": "code",
      "source": [
        "new.describe().T"
      ],
      "metadata": {
        "colab": {
          "base_uri": "https://localhost:8080/",
          "height": 112
        },
        "id": "_zSLY1q0tb6R",
        "outputId": "9fdb9d86-fabd-474b-e193-594294e0d1b0"
      },
      "id": "_zSLY1q0tb6R",
      "execution_count": null,
      "outputs": [
        {
          "output_type": "execute_result",
          "data": {
            "text/plain": [
              "                        count       mean    std        min        25%  \\\n",
              "user_id                50.000 546467.500 14.577 546443.000 546455.250   \n",
              "time_spent_on_the_page 50.000      6.223  1.817      1.650      5.175   \n",
              "\n",
              "                              50%        75%        max  \n",
              "user_id                546467.500 546479.750 546492.000  \n",
              "time_spent_on_the_page      6.105      7.160     10.710  "
            ],
            "text/html": [
              "\n",
              "  <div id=\"df-936abe8e-5810-40ae-aaa8-7f2931fbd3d4\">\n",
              "    <div class=\"colab-df-container\">\n",
              "      <div>\n",
              "<style scoped>\n",
              "    .dataframe tbody tr th:only-of-type {\n",
              "        vertical-align: middle;\n",
              "    }\n",
              "\n",
              "    .dataframe tbody tr th {\n",
              "        vertical-align: top;\n",
              "    }\n",
              "\n",
              "    .dataframe thead th {\n",
              "        text-align: right;\n",
              "    }\n",
              "</style>\n",
              "<table border=\"1\" class=\"dataframe\">\n",
              "  <thead>\n",
              "    <tr style=\"text-align: right;\">\n",
              "      <th></th>\n",
              "      <th>count</th>\n",
              "      <th>mean</th>\n",
              "      <th>std</th>\n",
              "      <th>min</th>\n",
              "      <th>25%</th>\n",
              "      <th>50%</th>\n",
              "      <th>75%</th>\n",
              "      <th>max</th>\n",
              "    </tr>\n",
              "  </thead>\n",
              "  <tbody>\n",
              "    <tr>\n",
              "      <th>user_id</th>\n",
              "      <td>50.000</td>\n",
              "      <td>546467.500</td>\n",
              "      <td>14.577</td>\n",
              "      <td>546443.000</td>\n",
              "      <td>546455.250</td>\n",
              "      <td>546467.500</td>\n",
              "      <td>546479.750</td>\n",
              "      <td>546492.000</td>\n",
              "    </tr>\n",
              "    <tr>\n",
              "      <th>time_spent_on_the_page</th>\n",
              "      <td>50.000</td>\n",
              "      <td>6.223</td>\n",
              "      <td>1.817</td>\n",
              "      <td>1.650</td>\n",
              "      <td>5.175</td>\n",
              "      <td>6.105</td>\n",
              "      <td>7.160</td>\n",
              "      <td>10.710</td>\n",
              "    </tr>\n",
              "  </tbody>\n",
              "</table>\n",
              "</div>\n",
              "      <button class=\"colab-df-convert\" onclick=\"convertToInteractive('df-936abe8e-5810-40ae-aaa8-7f2931fbd3d4')\"\n",
              "              title=\"Convert this dataframe to an interactive table.\"\n",
              "              style=\"display:none;\">\n",
              "        \n",
              "  <svg xmlns=\"http://www.w3.org/2000/svg\" height=\"24px\"viewBox=\"0 0 24 24\"\n",
              "       width=\"24px\">\n",
              "    <path d=\"M0 0h24v24H0V0z\" fill=\"none\"/>\n",
              "    <path d=\"M18.56 5.44l.94 2.06.94-2.06 2.06-.94-2.06-.94-.94-2.06-.94 2.06-2.06.94zm-11 1L8.5 8.5l.94-2.06 2.06-.94-2.06-.94L8.5 2.5l-.94 2.06-2.06.94zm10 10l.94 2.06.94-2.06 2.06-.94-2.06-.94-.94-2.06-.94 2.06-2.06.94z\"/><path d=\"M17.41 7.96l-1.37-1.37c-.4-.4-.92-.59-1.43-.59-.52 0-1.04.2-1.43.59L10.3 9.45l-7.72 7.72c-.78.78-.78 2.05 0 2.83L4 21.41c.39.39.9.59 1.41.59.51 0 1.02-.2 1.41-.59l7.78-7.78 2.81-2.81c.8-.78.8-2.07 0-2.86zM5.41 20L4 18.59l7.72-7.72 1.47 1.35L5.41 20z\"/>\n",
              "  </svg>\n",
              "      </button>\n",
              "      \n",
              "  <style>\n",
              "    .colab-df-container {\n",
              "      display:flex;\n",
              "      flex-wrap:wrap;\n",
              "      gap: 12px;\n",
              "    }\n",
              "\n",
              "    .colab-df-convert {\n",
              "      background-color: #E8F0FE;\n",
              "      border: none;\n",
              "      border-radius: 50%;\n",
              "      cursor: pointer;\n",
              "      display: none;\n",
              "      fill: #1967D2;\n",
              "      height: 32px;\n",
              "      padding: 0 0 0 0;\n",
              "      width: 32px;\n",
              "    }\n",
              "\n",
              "    .colab-df-convert:hover {\n",
              "      background-color: #E2EBFA;\n",
              "      box-shadow: 0px 1px 2px rgba(60, 64, 67, 0.3), 0px 1px 3px 1px rgba(60, 64, 67, 0.15);\n",
              "      fill: #174EA6;\n",
              "    }\n",
              "\n",
              "    [theme=dark] .colab-df-convert {\n",
              "      background-color: #3B4455;\n",
              "      fill: #D2E3FC;\n",
              "    }\n",
              "\n",
              "    [theme=dark] .colab-df-convert:hover {\n",
              "      background-color: #434B5C;\n",
              "      box-shadow: 0px 1px 3px 1px rgba(0, 0, 0, 0.15);\n",
              "      filter: drop-shadow(0px 1px 2px rgba(0, 0, 0, 0.3));\n",
              "      fill: #FFFFFF;\n",
              "    }\n",
              "  </style>\n",
              "\n",
              "      <script>\n",
              "        const buttonEl =\n",
              "          document.querySelector('#df-936abe8e-5810-40ae-aaa8-7f2931fbd3d4 button.colab-df-convert');\n",
              "        buttonEl.style.display =\n",
              "          google.colab.kernel.accessAllowed ? 'block' : 'none';\n",
              "\n",
              "        async function convertToInteractive(key) {\n",
              "          const element = document.querySelector('#df-936abe8e-5810-40ae-aaa8-7f2931fbd3d4');\n",
              "          const dataTable =\n",
              "            await google.colab.kernel.invokeFunction('convertToInteractive',\n",
              "                                                     [key], {});\n",
              "          if (!dataTable) return;\n",
              "\n",
              "          const docLinkHtml = 'Like what you see? Visit the ' +\n",
              "            '<a target=\"_blank\" href=https://colab.research.google.com/notebooks/data_table.ipynb>data table notebook</a>'\n",
              "            + ' to learn more about interactive tables.';\n",
              "          element.innerHTML = '';\n",
              "          dataTable['output_type'] = 'display_data';\n",
              "          await google.colab.output.renderOutput(dataTable, element);\n",
              "          const docLink = document.createElement('div');\n",
              "          docLink.innerHTML = docLinkHtml;\n",
              "          element.appendChild(docLink);\n",
              "        }\n",
              "      </script>\n",
              "    </div>\n",
              "  </div>\n",
              "  "
            ]
          },
          "metadata": {},
          "execution_count": 85
        }
      ]
    },
    {
      "cell_type": "markdown",
      "source": [
        "Insights:\n",
        "\n",
        "\n",
        "\n",
        "*   Old page has higher standard deviation than the new landing page\n",
        "*   Both averages and medians are close\n",
        "\n"
      ],
      "metadata": {
        "id": "_ua-cifWtgoV"
      },
      "id": "_ua-cifWtgoV"
    },
    {
      "cell_type": "markdown",
      "metadata": {
        "id": "f5c5258d"
      },
      "source": [
        "### Step 5: Calculate the p-value"
      ],
      "id": "f5c5258d"
    },
    {
      "cell_type": "code",
      "source": [
        "#import the required functions\n",
        "from scipy.stats import ttest_ind\n",
        "\n",
        "# find the p-value\n",
        "test_stat, p_value = ttest_ind(new['time_spent_on_the_page'], old['time_spent_on_the_page'], equal_var = False, alternative = 'greater')\n",
        "print('The p-value is ', p_value)"
      ],
      "metadata": {
        "colab": {
          "base_uri": "https://localhost:8080/"
        },
        "id": "FYm-3GNor4_T",
        "outputId": "50ca84f0-4827-4fce-fa20-2e9e51376079"
      },
      "id": "FYm-3GNor4_T",
      "execution_count": null,
      "outputs": [
        {
          "output_type": "stream",
          "name": "stdout",
          "text": [
            "The p-value is  0.0001392381225166549\n"
          ]
        }
      ]
    },
    {
      "cell_type": "markdown",
      "metadata": {
        "id": "359b12f8"
      },
      "source": [
        "### Step 6: Compare the p-value with $\\alpha$"
      ],
      "id": "359b12f8"
    },
    {
      "cell_type": "code",
      "metadata": {
        "id": "7be47289",
        "colab": {
          "base_uri": "https://localhost:8080/"
        },
        "outputId": "8f36adaa-9fe2-4e00-b945-9607456d9a47"
      },
      "source": [
        "if p_value >= alpha:\n",
        "  print('The p-value is greater or equal than the alpha hence we failed to reject the null hypothesis ')\n",
        "else: print('The p-value is smaller than the alpha hence we can reject the null hypothesis')"
      ],
      "id": "7be47289",
      "execution_count": null,
      "outputs": [
        {
          "output_type": "stream",
          "name": "stdout",
          "text": [
            "The p-value is smaller than the alpha hence we can reject the null hypothesis\n"
          ]
        }
      ]
    },
    {
      "cell_type": "markdown",
      "metadata": {
        "id": "d9affc84"
      },
      "source": [
        "### Step 7:  Draw inference"
      ],
      "id": "d9affc84"
    },
    {
      "cell_type": "markdown",
      "metadata": {
        "id": "6b16dd4b"
      },
      "source": [
        "We can reject the null hypothesis hence we can infer that the users spend more time on the new landing page than the old one"
      ],
      "id": "6b16dd4b"
    },
    {
      "cell_type": "markdown",
      "metadata": {
        "id": "1ad0823a"
      },
      "source": [
        "**A similar approach can be followed to answer the other questions.**"
      ],
      "id": "1ad0823a"
    },
    {
      "cell_type": "markdown",
      "metadata": {
        "id": "353e9d24"
      },
      "source": [
        "## 2. Is the conversion rate (the proportion of users who visit the landing page and get converted) for the new page greater than the conversion rate for the old page?"
      ],
      "id": "353e9d24"
    },
    {
      "cell_type": "code",
      "metadata": {
        "id": "b7f52898",
        "colab": {
          "base_uri": "https://localhost:8080/"
        },
        "outputId": "dcac098b-0682-435c-e08a-a2cacf434bec"
      },
      "source": [
        "df.groupby('landing_page')['converted'].value_counts(normalize=True)"
      ],
      "id": "b7f52898",
      "execution_count": null,
      "outputs": [
        {
          "output_type": "execute_result",
          "data": {
            "text/plain": [
              "landing_page  converted\n",
              "new           yes         0.660\n",
              "              no          0.340\n",
              "old           no          0.580\n",
              "              yes         0.420\n",
              "Name: converted, dtype: float64"
            ]
          },
          "metadata": {},
          "execution_count": 88
        }
      ]
    },
    {
      "cell_type": "markdown",
      "source": [
        "Insights:\n",
        "\n",
        "*   New landing page has 66% of conversion while old landing pages have 42% of conversions\n",
        "\n",
        "Altough we cannot statistically confirm that the new landing page has higher conversion than the old landing page so i'll perform a hypothesis test\n",
        "\n"
      ],
      "metadata": {
        "id": "t5ESPzL8TJ9R"
      },
      "id": "t5ESPzL8TJ9R"
    },
    {
      "cell_type": "markdown",
      "source": [
        "H0: conversion and landing page are independent\n",
        "\n",
        "Ha: conversion and landing page are related\n",
        "\n",
        "*Chi square *test\n",
        "\n",
        "Assumptions:\n",
        "\n",
        "Categorical variables\n",
        "Expected value of the number of sample observations in each level of the variable is at least 5\n",
        "Random sampling from the population\n",
        "\n",
        "\n",
        "Alpha = 0.05\n",
        "\n"
      ],
      "metadata": {
        "id": "X2fo141acPy8"
      },
      "id": "X2fo141acPy8"
    },
    {
      "cell_type": "code",
      "source": [
        "#preparing the data\n",
        "\n",
        "ct = pd.crosstab(df['converted'], df['landing_page'])\n",
        "ct"
      ],
      "metadata": {
        "colab": {
          "base_uri": "https://localhost:8080/",
          "height": 143
        },
        "id": "89wEUSdycsYM",
        "outputId": "44c4c105-c1ce-4059-938d-b344a16bf3d2"
      },
      "id": "89wEUSdycsYM",
      "execution_count": null,
      "outputs": [
        {
          "output_type": "execute_result",
          "data": {
            "text/plain": [
              "landing_page  new  old\n",
              "converted             \n",
              "no             17   29\n",
              "yes            33   21"
            ],
            "text/html": [
              "\n",
              "  <div id=\"df-0959cad1-e8cb-4368-8011-451f7faea027\">\n",
              "    <div class=\"colab-df-container\">\n",
              "      <div>\n",
              "<style scoped>\n",
              "    .dataframe tbody tr th:only-of-type {\n",
              "        vertical-align: middle;\n",
              "    }\n",
              "\n",
              "    .dataframe tbody tr th {\n",
              "        vertical-align: top;\n",
              "    }\n",
              "\n",
              "    .dataframe thead th {\n",
              "        text-align: right;\n",
              "    }\n",
              "</style>\n",
              "<table border=\"1\" class=\"dataframe\">\n",
              "  <thead>\n",
              "    <tr style=\"text-align: right;\">\n",
              "      <th>landing_page</th>\n",
              "      <th>new</th>\n",
              "      <th>old</th>\n",
              "    </tr>\n",
              "    <tr>\n",
              "      <th>converted</th>\n",
              "      <th></th>\n",
              "      <th></th>\n",
              "    </tr>\n",
              "  </thead>\n",
              "  <tbody>\n",
              "    <tr>\n",
              "      <th>no</th>\n",
              "      <td>17</td>\n",
              "      <td>29</td>\n",
              "    </tr>\n",
              "    <tr>\n",
              "      <th>yes</th>\n",
              "      <td>33</td>\n",
              "      <td>21</td>\n",
              "    </tr>\n",
              "  </tbody>\n",
              "</table>\n",
              "</div>\n",
              "      <button class=\"colab-df-convert\" onclick=\"convertToInteractive('df-0959cad1-e8cb-4368-8011-451f7faea027')\"\n",
              "              title=\"Convert this dataframe to an interactive table.\"\n",
              "              style=\"display:none;\">\n",
              "        \n",
              "  <svg xmlns=\"http://www.w3.org/2000/svg\" height=\"24px\"viewBox=\"0 0 24 24\"\n",
              "       width=\"24px\">\n",
              "    <path d=\"M0 0h24v24H0V0z\" fill=\"none\"/>\n",
              "    <path d=\"M18.56 5.44l.94 2.06.94-2.06 2.06-.94-2.06-.94-.94-2.06-.94 2.06-2.06.94zm-11 1L8.5 8.5l.94-2.06 2.06-.94-2.06-.94L8.5 2.5l-.94 2.06-2.06.94zm10 10l.94 2.06.94-2.06 2.06-.94-2.06-.94-.94-2.06-.94 2.06-2.06.94z\"/><path d=\"M17.41 7.96l-1.37-1.37c-.4-.4-.92-.59-1.43-.59-.52 0-1.04.2-1.43.59L10.3 9.45l-7.72 7.72c-.78.78-.78 2.05 0 2.83L4 21.41c.39.39.9.59 1.41.59.51 0 1.02-.2 1.41-.59l7.78-7.78 2.81-2.81c.8-.78.8-2.07 0-2.86zM5.41 20L4 18.59l7.72-7.72 1.47 1.35L5.41 20z\"/>\n",
              "  </svg>\n",
              "      </button>\n",
              "      \n",
              "  <style>\n",
              "    .colab-df-container {\n",
              "      display:flex;\n",
              "      flex-wrap:wrap;\n",
              "      gap: 12px;\n",
              "    }\n",
              "\n",
              "    .colab-df-convert {\n",
              "      background-color: #E8F0FE;\n",
              "      border: none;\n",
              "      border-radius: 50%;\n",
              "      cursor: pointer;\n",
              "      display: none;\n",
              "      fill: #1967D2;\n",
              "      height: 32px;\n",
              "      padding: 0 0 0 0;\n",
              "      width: 32px;\n",
              "    }\n",
              "\n",
              "    .colab-df-convert:hover {\n",
              "      background-color: #E2EBFA;\n",
              "      box-shadow: 0px 1px 2px rgba(60, 64, 67, 0.3), 0px 1px 3px 1px rgba(60, 64, 67, 0.15);\n",
              "      fill: #174EA6;\n",
              "    }\n",
              "\n",
              "    [theme=dark] .colab-df-convert {\n",
              "      background-color: #3B4455;\n",
              "      fill: #D2E3FC;\n",
              "    }\n",
              "\n",
              "    [theme=dark] .colab-df-convert:hover {\n",
              "      background-color: #434B5C;\n",
              "      box-shadow: 0px 1px 3px 1px rgba(0, 0, 0, 0.15);\n",
              "      filter: drop-shadow(0px 1px 2px rgba(0, 0, 0, 0.3));\n",
              "      fill: #FFFFFF;\n",
              "    }\n",
              "  </style>\n",
              "\n",
              "      <script>\n",
              "        const buttonEl =\n",
              "          document.querySelector('#df-0959cad1-e8cb-4368-8011-451f7faea027 button.colab-df-convert');\n",
              "        buttonEl.style.display =\n",
              "          google.colab.kernel.accessAllowed ? 'block' : 'none';\n",
              "\n",
              "        async function convertToInteractive(key) {\n",
              "          const element = document.querySelector('#df-0959cad1-e8cb-4368-8011-451f7faea027');\n",
              "          const dataTable =\n",
              "            await google.colab.kernel.invokeFunction('convertToInteractive',\n",
              "                                                     [key], {});\n",
              "          if (!dataTable) return;\n",
              "\n",
              "          const docLinkHtml = 'Like what you see? Visit the ' +\n",
              "            '<a target=\"_blank\" href=https://colab.research.google.com/notebooks/data_table.ipynb>data table notebook</a>'\n",
              "            + ' to learn more about interactive tables.';\n",
              "          element.innerHTML = '';\n",
              "          dataTable['output_type'] = 'display_data';\n",
              "          await google.colab.output.renderOutput(dataTable, element);\n",
              "          const docLink = document.createElement('div');\n",
              "          docLink.innerHTML = docLinkHtml;\n",
              "          element.appendChild(docLink);\n",
              "        }\n",
              "      </script>\n",
              "    </div>\n",
              "  </div>\n",
              "  "
            ]
          },
          "metadata": {},
          "execution_count": 89
        }
      ]
    },
    {
      "cell_type": "code",
      "source": [
        "# import the required function\n",
        "from scipy.stats import chi2_contingency\n",
        "\n",
        "# find the p-value\n",
        "chi, p_value, dof, expected = chi2_contingency(ct)\n",
        "print('The p-value is', p_value)"
      ],
      "metadata": {
        "colab": {
          "base_uri": "https://localhost:8080/"
        },
        "id": "5y5famofcwL1",
        "outputId": "f9583105-db58-4830-99d1-cbdfa8926f63"
      },
      "id": "5y5famofcwL1",
      "execution_count": null,
      "outputs": [
        {
          "output_type": "stream",
          "name": "stdout",
          "text": [
            "The p-value is 0.02730889175492232\n"
          ]
        }
      ]
    },
    {
      "cell_type": "code",
      "source": [
        "#printing the statement\n",
        "\n",
        "if p_value >= alpha:\n",
        "  print('The p-value is greater or equal than the alpha hence we failed to reject the null hypothesis ')\n",
        "else: print('The p-value is smaller than the alpha hence we can reject the null hypothesis')"
      ],
      "metadata": {
        "colab": {
          "base_uri": "https://localhost:8080/"
        },
        "id": "TH65KJOzc3nA",
        "outputId": "b89adebe-edef-4f03-845d-8fec6ca9e9fa"
      },
      "id": "TH65KJOzc3nA",
      "execution_count": null,
      "outputs": [
        {
          "output_type": "stream",
          "name": "stdout",
          "text": [
            "The p-value is smaller than the alpha hence we can reject the null hypothesis\n"
          ]
        }
      ]
    },
    {
      "cell_type": "markdown",
      "source": [
        "We can reject the null hypothesis hence we can assume that conversion and landing page are related"
      ],
      "metadata": {
        "id": "UBe5bFszc5R-"
      },
      "id": "UBe5bFszc5R-"
    },
    {
      "cell_type": "markdown",
      "metadata": {
        "id": "d49bfa2d"
      },
      "source": [
        "## 3. Is the conversion and preferred language are independent or related?"
      ],
      "id": "d49bfa2d"
    },
    {
      "cell_type": "markdown",
      "source": [
        "To answer this question we will need to perform a statisticall test.\n",
        "\n",
        "First i'll formulate both hypothesis:\n",
        "\n",
        "H0: conversion and preferred language are independent\n",
        "\n",
        "Ha: conversion and preferred language are related"
      ],
      "metadata": {
        "id": "-y7BjXEHT-A7"
      },
      "id": "-y7BjXEHT-A7"
    },
    {
      "cell_type": "markdown",
      "source": [
        "Chi square test:\n",
        "\n",
        "Assumptions:\n",
        "\n",
        "*   Categorical variables\n",
        "*   Expected value of the number of sample observations in each level of the variable is at least 5\n",
        "*   Random sampling from the\n",
        "population\n",
        "\n",
        "----------------------------------\n",
        "\n",
        "Alpha = 0.05"
      ],
      "metadata": {
        "id": "UgO8xTO0UYo2"
      },
      "id": "UgO8xTO0UYo2"
    },
    {
      "cell_type": "code",
      "metadata": {
        "id": "b0e63f17",
        "colab": {
          "base_uri": "https://localhost:8080/",
          "height": 143
        },
        "outputId": "928af0e3-6fba-458b-e5b6-033f063f0820"
      },
      "source": [
        "#preparing the data\n",
        "\n",
        "ct = pd.crosstab(df['converted'], df['language_preferred'])\n",
        "ct"
      ],
      "id": "b0e63f17",
      "execution_count": null,
      "outputs": [
        {
          "output_type": "execute_result",
          "data": {
            "text/plain": [
              "language_preferred  English  French  Spanish\n",
              "converted                                   \n",
              "no                       11      19       16\n",
              "yes                      21      15       18"
            ],
            "text/html": [
              "\n",
              "  <div id=\"df-4b600a7d-58c1-4aa2-bc84-056d0642f3ba\">\n",
              "    <div class=\"colab-df-container\">\n",
              "      <div>\n",
              "<style scoped>\n",
              "    .dataframe tbody tr th:only-of-type {\n",
              "        vertical-align: middle;\n",
              "    }\n",
              "\n",
              "    .dataframe tbody tr th {\n",
              "        vertical-align: top;\n",
              "    }\n",
              "\n",
              "    .dataframe thead th {\n",
              "        text-align: right;\n",
              "    }\n",
              "</style>\n",
              "<table border=\"1\" class=\"dataframe\">\n",
              "  <thead>\n",
              "    <tr style=\"text-align: right;\">\n",
              "      <th>language_preferred</th>\n",
              "      <th>English</th>\n",
              "      <th>French</th>\n",
              "      <th>Spanish</th>\n",
              "    </tr>\n",
              "    <tr>\n",
              "      <th>converted</th>\n",
              "      <th></th>\n",
              "      <th></th>\n",
              "      <th></th>\n",
              "    </tr>\n",
              "  </thead>\n",
              "  <tbody>\n",
              "    <tr>\n",
              "      <th>no</th>\n",
              "      <td>11</td>\n",
              "      <td>19</td>\n",
              "      <td>16</td>\n",
              "    </tr>\n",
              "    <tr>\n",
              "      <th>yes</th>\n",
              "      <td>21</td>\n",
              "      <td>15</td>\n",
              "      <td>18</td>\n",
              "    </tr>\n",
              "  </tbody>\n",
              "</table>\n",
              "</div>\n",
              "      <button class=\"colab-df-convert\" onclick=\"convertToInteractive('df-4b600a7d-58c1-4aa2-bc84-056d0642f3ba')\"\n",
              "              title=\"Convert this dataframe to an interactive table.\"\n",
              "              style=\"display:none;\">\n",
              "        \n",
              "  <svg xmlns=\"http://www.w3.org/2000/svg\" height=\"24px\"viewBox=\"0 0 24 24\"\n",
              "       width=\"24px\">\n",
              "    <path d=\"M0 0h24v24H0V0z\" fill=\"none\"/>\n",
              "    <path d=\"M18.56 5.44l.94 2.06.94-2.06 2.06-.94-2.06-.94-.94-2.06-.94 2.06-2.06.94zm-11 1L8.5 8.5l.94-2.06 2.06-.94-2.06-.94L8.5 2.5l-.94 2.06-2.06.94zm10 10l.94 2.06.94-2.06 2.06-.94-2.06-.94-.94-2.06-.94 2.06-2.06.94z\"/><path d=\"M17.41 7.96l-1.37-1.37c-.4-.4-.92-.59-1.43-.59-.52 0-1.04.2-1.43.59L10.3 9.45l-7.72 7.72c-.78.78-.78 2.05 0 2.83L4 21.41c.39.39.9.59 1.41.59.51 0 1.02-.2 1.41-.59l7.78-7.78 2.81-2.81c.8-.78.8-2.07 0-2.86zM5.41 20L4 18.59l7.72-7.72 1.47 1.35L5.41 20z\"/>\n",
              "  </svg>\n",
              "      </button>\n",
              "      \n",
              "  <style>\n",
              "    .colab-df-container {\n",
              "      display:flex;\n",
              "      flex-wrap:wrap;\n",
              "      gap: 12px;\n",
              "    }\n",
              "\n",
              "    .colab-df-convert {\n",
              "      background-color: #E8F0FE;\n",
              "      border: none;\n",
              "      border-radius: 50%;\n",
              "      cursor: pointer;\n",
              "      display: none;\n",
              "      fill: #1967D2;\n",
              "      height: 32px;\n",
              "      padding: 0 0 0 0;\n",
              "      width: 32px;\n",
              "    }\n",
              "\n",
              "    .colab-df-convert:hover {\n",
              "      background-color: #E2EBFA;\n",
              "      box-shadow: 0px 1px 2px rgba(60, 64, 67, 0.3), 0px 1px 3px 1px rgba(60, 64, 67, 0.15);\n",
              "      fill: #174EA6;\n",
              "    }\n",
              "\n",
              "    [theme=dark] .colab-df-convert {\n",
              "      background-color: #3B4455;\n",
              "      fill: #D2E3FC;\n",
              "    }\n",
              "\n",
              "    [theme=dark] .colab-df-convert:hover {\n",
              "      background-color: #434B5C;\n",
              "      box-shadow: 0px 1px 3px 1px rgba(0, 0, 0, 0.15);\n",
              "      filter: drop-shadow(0px 1px 2px rgba(0, 0, 0, 0.3));\n",
              "      fill: #FFFFFF;\n",
              "    }\n",
              "  </style>\n",
              "\n",
              "      <script>\n",
              "        const buttonEl =\n",
              "          document.querySelector('#df-4b600a7d-58c1-4aa2-bc84-056d0642f3ba button.colab-df-convert');\n",
              "        buttonEl.style.display =\n",
              "          google.colab.kernel.accessAllowed ? 'block' : 'none';\n",
              "\n",
              "        async function convertToInteractive(key) {\n",
              "          const element = document.querySelector('#df-4b600a7d-58c1-4aa2-bc84-056d0642f3ba');\n",
              "          const dataTable =\n",
              "            await google.colab.kernel.invokeFunction('convertToInteractive',\n",
              "                                                     [key], {});\n",
              "          if (!dataTable) return;\n",
              "\n",
              "          const docLinkHtml = 'Like what you see? Visit the ' +\n",
              "            '<a target=\"_blank\" href=https://colab.research.google.com/notebooks/data_table.ipynb>data table notebook</a>'\n",
              "            + ' to learn more about interactive tables.';\n",
              "          element.innerHTML = '';\n",
              "          dataTable['output_type'] = 'display_data';\n",
              "          await google.colab.output.renderOutput(dataTable, element);\n",
              "          const docLink = document.createElement('div');\n",
              "          docLink.innerHTML = docLinkHtml;\n",
              "          element.appendChild(docLink);\n",
              "        }\n",
              "      </script>\n",
              "    </div>\n",
              "  </div>\n",
              "  "
            ]
          },
          "metadata": {},
          "execution_count": 92
        }
      ]
    },
    {
      "cell_type": "code",
      "source": [
        "# import the required function\n",
        "from scipy.stats import chi2_contingency\n",
        "\n",
        "# find the p-value\n",
        "chi, p_value, dof, expected = chi2_contingency(ct)\n",
        "print('The p-value is', p_value)"
      ],
      "metadata": {
        "colab": {
          "base_uri": "https://localhost:8080/"
        },
        "id": "6W--waKnVkJ5",
        "outputId": "00ebb91b-7fe6-4f3d-d4ce-fe82c51c6074"
      },
      "id": "6W--waKnVkJ5",
      "execution_count": null,
      "outputs": [
        {
          "output_type": "stream",
          "name": "stdout",
          "text": [
            "The p-value is 0.21298887487543447\n"
          ]
        }
      ]
    },
    {
      "cell_type": "code",
      "source": [
        "#printing the statement\n",
        "\n",
        "if p_value >= alpha:\n",
        "  print('The p-value is greater or equal than the alpha hence we failed to reject the null hypothesis ')\n",
        "else: print('The p-value is smaller than the alpha hence we can reject the null hypothesis')"
      ],
      "metadata": {
        "colab": {
          "base_uri": "https://localhost:8080/"
        },
        "id": "3rXjs-_kWrOH",
        "outputId": "2359a5ea-a761-4109-f2aa-9e4a8156e5e5"
      },
      "id": "3rXjs-_kWrOH",
      "execution_count": null,
      "outputs": [
        {
          "output_type": "stream",
          "name": "stdout",
          "text": [
            "The p-value is greater or equal than the alpha hence we failed to reject the null hypothesis \n"
          ]
        }
      ]
    },
    {
      "cell_type": "markdown",
      "source": [
        "We failed to reject the null hypothesis hence we can assume that the converted and language are related"
      ],
      "metadata": {
        "id": "gHEhB-bCWtXj"
      },
      "id": "gHEhB-bCWtXj"
    },
    {
      "cell_type": "markdown",
      "metadata": {
        "id": "8d585a90"
      },
      "source": [
        "## 4. Is the time spent on the new page same for the different language users?"
      ],
      "id": "8d585a90"
    },
    {
      "cell_type": "markdown",
      "source": [
        "H0: the time spent on the new page is same for different languages ( $H_0:\\mu_1 = \\mu_2 = \\mu_3$)\n",
        "\n",
        "Ha: the time spent on the new page is different for at least one language\n",
        "\n",
        "\n",
        "alpha = 0.05"
      ],
      "metadata": {
        "id": "fig5UDjyd3Fj"
      },
      "id": "fig5UDjyd3Fj"
    },
    {
      "cell_type": "code",
      "source": [
        "df.columns"
      ],
      "metadata": {
        "colab": {
          "base_uri": "https://localhost:8080/"
        },
        "id": "ISVoO6GwfE4v",
        "outputId": "a4006ca8-0352-49d8-f3d9-f895577fd6ff"
      },
      "id": "ISVoO6GwfE4v",
      "execution_count": null,
      "outputs": [
        {
          "output_type": "execute_result",
          "data": {
            "text/plain": [
              "Index(['user_id', 'group', 'landing_page', 'time_spent_on_the_page',\n",
              "       'converted', 'language_preferred'],\n",
              "      dtype='object')"
            ]
          },
          "metadata": {},
          "execution_count": 95
        }
      ]
    },
    {
      "cell_type": "code",
      "source": [
        "#undertanding the medians and relations\n",
        "\n",
        "print(df.groupby('language_preferred')['time_spent_on_the_page'].mean())\n",
        "\n",
        "fig, ax = plt.subplots(figsize = (10,10))\n",
        "a = sns.boxplot(x='language_preferred', y = 'time_spent_on_the_page' , data = df, hue = 'language_preferred')\n",
        "a.set_title(\"Time spent on the page per language preferred\", fontsize=15)\n",
        "plt.show()"
      ],
      "metadata": {
        "colab": {
          "base_uri": "https://localhost:8080/",
          "height": 718
        },
        "id": "IPmKdL82e1Er",
        "outputId": "ede541a4-ce2f-479c-ac46-7a99b65b60c1"
      },
      "id": "IPmKdL82e1Er",
      "execution_count": null,
      "outputs": [
        {
          "output_type": "stream",
          "name": "stdout",
          "text": [
            "language_preferred\n",
            "English   5.559\n",
            "French    5.253\n",
            "Spanish   5.332\n",
            "Name: time_spent_on_the_page, dtype: float64\n"
          ]
        },
        {
          "output_type": "display_data",
          "data": {
            "text/plain": [
              "<Figure size 720x720 with 1 Axes>"
            ],
            "image/png": "[encoded data removed]"
          },
          "metadata": {}
        }
      ]
    },
    {
      "cell_type": "markdown",
      "source": [
        "Now, the normality and equality of variance assumptions need to be checked.\n",
        "\n",
        "*   For testing of normality, Shapiro-Wilk’s test is applied to the response variable.\n",
        "*   For equality of variance, Levene test is applied to the response variable."
      ],
      "metadata": {
        "id": "wJ0bPwdhfvGN"
      },
      "id": "wJ0bPwdhfvGN"
    },
    {
      "cell_type": "markdown",
      "source": [
        "We will test the null hypothesis\n",
        "\n",
        "H0:  Time spent on the page follows a normal distribution against\n",
        "\n",
        "against the alternative hypothesis\n",
        "\n",
        "Ha:  Time spent on the page does not follow a normal distribution"
      ],
      "metadata": {
        "id": "pxBPFL3tf88Y"
      },
      "id": "pxBPFL3tf88Y"
    },
    {
      "cell_type": "code",
      "source": [
        "#checking the curve\n",
        "sns.histplot(x=df['time_spent_on_the_page'], kde=True);"
      ],
      "metadata": {
        "colab": {
          "base_uri": "https://localhost:8080/",
          "height": 285
        },
        "id": "tDjEosWMdRmp",
        "outputId": "4c2d83e5-f976-4cba-8424-58e4ed7e9dca"
      },
      "id": "tDjEosWMdRmp",
      "execution_count": null,
      "outputs": [
        {
          "output_type": "display_data",
          "data": {
            "text/plain": [
              "<Figure size 432x288 with 1 Axes>"
            ],
            "image/png": "[encoded data removed]"
          },
          "metadata": {}
        }
      ]
    },
    {
      "cell_type": "code",
      "metadata": {
        "id": "b422f395",
        "colab": {
          "base_uri": "https://localhost:8080/"
        },
        "outputId": "3d104655-ecbe-44c6-c549-456ca176d936"
      },
      "source": [
        "# Assumption 1: Normality\n",
        "from scipy import stats\n",
        "\n",
        "# find the p-value\n",
        "w, p_value = stats.shapiro(df['time_spent_on_the_page']) \n",
        "print('The p-value is', p_value)"
      ],
      "id": "b422f395",
      "execution_count": null,
      "outputs": [
        {
          "output_type": "stream",
          "name": "stdout",
          "text": [
            "The p-value is 0.5643684267997742\n"
          ]
        }
      ]
    },
    {
      "cell_type": "code",
      "source": [
        "#printing the statement\n",
        "\n",
        "if p_value >= alpha:\n",
        "  print('The p-value is greater or equal than the alpha hence we failed to reject the null hypothesis ')\n",
        "else: print('The p-value is smaller than the alpha hence we can reject the null hypothesis')"
      ],
      "metadata": {
        "colab": {
          "base_uri": "https://localhost:8080/"
        },
        "id": "Djk1LbqRd8t8",
        "outputId": "7c9869c5-78c8-4d1a-e79b-383bdd41ed23"
      },
      "id": "Djk1LbqRd8t8",
      "execution_count": null,
      "outputs": [
        {
          "output_type": "stream",
          "name": "stdout",
          "text": [
            "The p-value is greater or equal than the alpha hence we failed to reject the null hypothesis \n"
          ]
        }
      ]
    },
    {
      "cell_type": "markdown",
      "source": [
        "Insights:\n",
        "\n",
        "We failed to reject the null hyposthesis hence we can assume that we have a normal distribution"
      ],
      "metadata": {
        "id": "KdNduBn5d9E1"
      },
      "id": "KdNduBn5d9E1"
    },
    {
      "cell_type": "markdown",
      "source": [
        "Lavene test for Homogeneity of Variance"
      ],
      "metadata": {
        "id": "fT2VZxLAd5V-"
      },
      "id": "fT2VZxLAd5V-"
    },
    {
      "cell_type": "markdown",
      "source": [
        "Levene’s test\n",
        "\n",
        "𝐻0 : All the population variances are equal\n",
        "\n",
        "against the alternative hypothesis\n",
        "\n",
        "𝐻𝑎 : At least one variance is different from the rest"
      ],
      "metadata": {
        "id": "kkOGAfFQo79x"
      },
      "id": "kkOGAfFQo79x"
    },
    {
      "cell_type": "code",
      "source": [
        "#import the required function\n",
        "from scipy.stats import levene\n",
        "statistic, p_value = levene(df['time_spent_on_the_page'][df['language_preferred']==\"English\"], \n",
        "                                   df['time_spent_on_the_page'][df['language_preferred']==\"French\"], \n",
        "                                   df['time_spent_on_the_page'][df['language_preferred']==\"Spanish\"])\n",
        "# find the p-value\n",
        "print('The p-value is', p_value)"
      ],
      "metadata": {
        "colab": {
          "base_uri": "https://localhost:8080/"
        },
        "id": "BevlekaOobqz",
        "outputId": "16d72756-a7b3-4d93-a7a4-e14ee40594d5"
      },
      "id": "BevlekaOobqz",
      "execution_count": null,
      "outputs": [
        {
          "output_type": "stream",
          "name": "stdout",
          "text": [
            "The p-value is 0.06515086840327314\n"
          ]
        }
      ]
    },
    {
      "cell_type": "code",
      "source": [
        "#printing the statement\n",
        "\n",
        "if p_value >= alpha:\n",
        "  print('The p-value is greater or equal than the alpha hence we failed to reject the null hypothesis ')\n",
        "else: print('The p-value is smaller than the alpha hence we can reject the null hypothesis')"
      ],
      "metadata": {
        "colab": {
          "base_uri": "https://localhost:8080/"
        },
        "id": "y3VWX73zpN6x",
        "outputId": "5b3db287-4321-4a57-8a36-c89ca22b3ac5"
      },
      "id": "y3VWX73zpN6x",
      "execution_count": null,
      "outputs": [
        {
          "output_type": "stream",
          "name": "stdout",
          "text": [
            "The p-value is greater or equal than the alpha hence we failed to reject the null hypothesis \n"
          ]
        }
      ]
    },
    {
      "cell_type": "markdown",
      "source": [
        "We failed to reject the null hypothesis hence we can assume that the variances are equal so let's continue the hypothesis testing"
      ],
      "metadata": {
        "id": "P9pviawkpTa7"
      },
      "id": "P9pviawkpTa7"
    },
    {
      "cell_type": "code",
      "source": [
        "English = df[df['language_preferred']==\"English\"]['time_spent_on_the_page']\n",
        "French = df[df['language_preferred']=='French']['time_spent_on_the_page']\n",
        "Spanish = df[df['language_preferred']=='Spanish']['time_spent_on_the_page'] "
      ],
      "metadata": {
        "id": "rKSGtfCJkaLK"
      },
      "id": "rKSGtfCJkaLK",
      "execution_count": null,
      "outputs": []
    },
    {
      "cell_type": "code",
      "source": [
        "#Generating p-value\n",
        "from scipy.stats import f_oneway \n",
        "\n",
        "# write the code to calculate the p-value\n",
        "test_stat, p_value = f_oneway(English, French, Spanish)\n",
        "print('The p-value is ' + str(p_value))"
      ],
      "metadata": {
        "colab": {
          "base_uri": "https://localhost:8080/"
        },
        "id": "Hfex33A3koDs",
        "outputId": "6677c68e-a6fc-47b6-e8da-4f74d1f496e9"
      },
      "id": "Hfex33A3koDs",
      "execution_count": null,
      "outputs": [
        {
          "output_type": "stream",
          "name": "stdout",
          "text": [
            "The p-value is 0.8665610536012648\n"
          ]
        }
      ]
    },
    {
      "cell_type": "code",
      "source": [
        "#printing the statement\n",
        "\n",
        "if p_value >= alpha:\n",
        "  print('The p-value is greater or equal than the alpha hence we failed to reject the null hypothesis ')\n",
        "else: print('The p-value is smaller than the alpha hence we can reject the null hypothesis')"
      ],
      "metadata": {
        "colab": {
          "base_uri": "https://localhost:8080/"
        },
        "id": "8bXm0pKOlWr3",
        "outputId": "fe1cbe1a-e2be-4c27-ca3f-6f54e5383204"
      },
      "id": "8bXm0pKOlWr3",
      "execution_count": null,
      "outputs": [
        {
          "output_type": "stream",
          "name": "stdout",
          "text": [
            "The p-value is greater or equal than the alpha hence we failed to reject the null hypothesis \n"
          ]
        }
      ]
    },
    {
      "cell_type": "markdown",
      "source": [
        "We failed to reject the H0 hence we can assume that the time spent on page is the same for the different languages"
      ],
      "metadata": {
        "id": "snH8hOx1lYMd"
      },
      "id": "snH8hOx1lYMd"
    },
    {
      "cell_type": "markdown",
      "metadata": {
        "id": "3acbc947"
      },
      "source": [
        "## Conclusion and Business Recommendations"
      ],
      "id": "3acbc947"
    },
    {
      "cell_type": "markdown",
      "metadata": {
        "id": "21fb1063"
      },
      "source": [
        "**Insights:**\n",
        "\n",
        "* There are 3 languages: Spanish, English and French (all well balanced in the dataset - close to 33% each)\n",
        "* Spanish has the lower range and one observation outside the IQR (interquartile range)\n",
        "* English and French have similar ranges but english has higher median of all three languages\n",
        "* The new landing page has less range than the old landing page but has higher median.\n",
        "* The new landing page has outliers and lower IQR which indicates higher variance therefore possible higher standard deviation\n",
        "* New landing page follows more closelly to a normal distribution while old landing page is right skewed and has more tail in the curve\n",
        "* The mean and average of minutes in the new landing page are both higher than the mean and average of the old landing page\n",
        "* Converted has higher median (and also higher min, 2nd quartile, 3th quartile and max) than not converted\n",
        "* Treatment groups have higher median and higher min, 2nd quartile, 3rd quartile and max values. Both for converted ou not converted\n",
        "\n",
        "**Hypothesis tests results:**\n",
        "\n",
        "1. Do the users spend more time on the new landing page than the existing landing page?\n",
        " \n",
        "We have enough statistical evidence to assume that the users spend more time on the new landing page than in the old one\n",
        "\n",
        "-------------------------\n",
        " \n",
        "2. Is the conversion rate (the proportion of users who visit the landing page and get converted) for the new page greater than the conversion rate for the old page?\n",
        "\n",
        "We have enough statistical evidence to assume that conversion and landing page are related\n",
        " \n",
        "-------------------------\n",
        "\n",
        "3. Is the conversion and preferred language are independent or related?\n",
        " \n",
        "We have enough statistical evidence to assume that the conversions and language preferred are related\n",
        " \n",
        "-------------------------\n",
        "\n",
        "4. Is the time spent on the new page same for the different language users?\n",
        " \n",
        "We have enough statistical evidence to assume that the time spent on page is the same for the different languages\n",
        "\n",
        "-------------------------\n",
        "\n",
        "**Business Recomendations**:\n",
        "\n",
        "*  The new landpage have higher time spent, which might indicate that the new design is more attractive and/or helpfull for the users. So this same change of design could also be applyed to other pages in the portal\n",
        "*  We don't have statistical evidence that there's a relation between languages and conversion, so the conversion must be affected by other variables. It's worth to continue seeking those variables in order to understand the relationship of those variables and increase conversions\n",
        "* Would be importante to map the changes between old and new variables and perform some new hypothesis testing or even another EDA with the comparation between to pages to understand and try to infer which changes generated more time spent and more conversions\n",
        "* By looking at the boxplots time spent and conversions seems to have some kind of relationship, we could perform an additional hypothesis test to have statistical validation of this hypothesis.\n",
        "\n"
      ],
      "id": "21fb1063"
    },
    {
      "cell_type": "markdown",
      "source": [
        "___"
      ],
      "metadata": {
        "id": "U0dAd4i0iCHo"
      },
      "id": "U0dAd4i0iCHo"
    }
  ]
}