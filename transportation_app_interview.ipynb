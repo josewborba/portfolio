{
  "cells": [
    {
      "cell_type": "markdown",
      "metadata": {
        "id": "view-in-github",
        "colab_type": "text"
      },
      "source": [
        "<a href=\"https://colab.research.google.com/github/josewborba/portfolio/blob/main/transportation_app_interview.ipynb\" target=\"_parent\"><img src=\"https://colab.research.google.com/assets/colab-badge.svg\" alt=\"Open In Colab\"/></a>"
      ]
    },
    {
      "cell_type": "markdown",
      "source": [
        "**EDA performed for a technical interview for a transport App company.** Beside this notebook a slideshow was used. I recommend to see the presentantion before seeing the notebook. You can check the slideshow at: <a href=“https://drive.google.com/file/d/1tPWsn8F5h9fCetOWrzQV35Rr_wpdWuuC/view?usp=sharing” title="Interview Transportation App Slideshow"> Slideshow Presentation - Transportation App Tech Interview </a>\n",
        "\n",
        "Data was available in a RDS (Postgres).\n",
        "*I deleted the conection information due to security.*\n",
        "\n",
        "This notebook sctructure is:\n",
        "\n",
        "1.   Database connection\n",
        "2.   Merging tables\n",
        "3.   1-6 questions that suppose to be answered through the EDA\n",
        "4.   2 situations that i'm free to choose best information to help the stakeholder take decision\n",
        "\n",
        "Specially in the part 4. i recommend seeing the presentation. Beside the information gathered here, at the slideshow I have some logical and suggestions\n",
        "\n",
        "\n"
      ],
      "metadata": {
        "id": "gZBbaL1r7Mk_"
      },
      "id": "gZBbaL1r7Mk_"
    },
    {
      "cell_type": "code",
      "execution_count": null,
      "id": "f22a83a5",
      "metadata": {
        "id": "f22a83a5"
      },
      "outputs": [],
      "source": [
        "#first, install psycopg2\n",
        "\n",
        "# pip install psycopg2"
      ]
    },
    {
      "cell_type": "code",
      "execution_count": null,
      "id": "244ee57c",
      "metadata": {
        "id": "244ee57c"
      },
      "outputs": [],
      "source": [
        "import psycopg2\n",
        "import pandas as pd\n",
        "import matplotlib.pyplot as plt\n",
        "import seaborn as sns\n",
        "from datetime import *\n",
        "import numpy as np"
      ]
    },
    {
      "cell_type": "markdown",
      "id": "f08b6cb4",
      "metadata": {
        "id": "f08b6cb4"
      },
      "source": [
        "# Conecting and ingesting the data"
      ]
    },
    {
      "cell_type": "code",
      "execution_count": null,
      "id": "93659de1",
      "metadata": {
        "id": "93659de1"
      },
      "outputs": [],
      "source": [
        "DB_HOST = 'XXX'\n",
        "DB_NAME = 'postgres'\n",
        "DB_USER = 'candidate'\n",
        "DB_PASS = 'XXX'"
      ]
    },
    {
      "cell_type": "code",
      "execution_count": null,
      "id": "71a43655",
      "metadata": {
        "id": "71a43655"
      },
      "outputs": [],
      "source": [
        "conn = psycopg2.connect(dbname=DB_NAME, user=DB_USER, password=DB_PASS, host=DB_HOST)"
      ]
    },
    {
      "cell_type": "code",
      "execution_count": null,
      "id": "df63cf74",
      "metadata": {
        "id": "df63cf74"
      },
      "outputs": [],
      "source": [
        "cur = conn.cursor()"
      ]
    },
    {
      "cell_type": "code",
      "execution_count": null,
      "id": "7bb6aba6",
      "metadata": {
        "id": "7bb6aba6"
      },
      "outputs": [],
      "source": [
        "trip = pd.read_sql(\"SELECT * FROM trip\", con=conn)"
      ]
    },
    {
      "cell_type": "code",
      "execution_count": null,
      "id": "10637fa2",
      "metadata": {
        "id": "10637fa2"
      },
      "outputs": [],
      "source": [
        "calendar = pd.read_sql(\"SELECT * FROM calendar\", con=conn)"
      ]
    },
    {
      "cell_type": "code",
      "execution_count": null,
      "id": "d9704c5e",
      "metadata": {
        "id": "d9704c5e"
      },
      "outputs": [],
      "source": [
        "passenger = pd.read_sql(\"SELECT * FROM passenger\", con=conn)"
      ]
    },
    {
      "cell_type": "code",
      "execution_count": null,
      "id": "436e8af0",
      "metadata": {
        "id": "436e8af0"
      },
      "outputs": [],
      "source": [
        "city = pd.read_sql(\"SELECT * FROM city\", con=conn)"
      ]
    },
    {
      "cell_type": "markdown",
      "id": "5c70151f",
      "metadata": {
        "id": "5c70151f"
      },
      "source": [
        "# First view of the datasets"
      ]
    },
    {
      "cell_type": "code",
      "execution_count": null,
      "id": "9bc5d54d",
      "metadata": {
        "colab": {
          "base_uri": "https://localhost:8080/",
          "height": 206
        },
        "id": "9bc5d54d",
        "outputId": "a34238dc-b3e6-4b9e-8100-92ed2d3e4f17"
      },
      "outputs": [
        {
          "data": {
            "text/html": [
              "<div>\n",
              "<style scoped>\n",
              "    .dataframe tbody tr th:only-of-type {\n",
              "        vertical-align: middle;\n",
              "    }\n",
              "\n",
              "    .dataframe tbody tr th {\n",
              "        vertical-align: top;\n",
              "    }\n",
              "\n",
              "    .dataframe thead th {\n",
              "        text-align: right;\n",
              "    }\n",
              "</style>\n",
              "<table border=\"1\" class=\"dataframe\">\n",
              "  <thead>\n",
              "    <tr style=\"text-align: right;\">\n",
              "      <th></th>\n",
              "      <th>id</th>\n",
              "      <th>driver_id</th>\n",
              "      <th>passenger_id</th>\n",
              "      <th>city_id</th>\n",
              "      <th>call_time</th>\n",
              "      <th>finish_time</th>\n",
              "      <th>surge_rate</th>\n",
              "      <th>trip_distance</th>\n",
              "      <th>trip_fare</th>\n",
              "    </tr>\n",
              "  </thead>\n",
              "  <tbody>\n",
              "    <tr>\n",
              "      <th>0</th>\n",
              "      <td>48d284eb</td>\n",
              "      <td>e3e77255</td>\n",
              "      <td>c01d24da</td>\n",
              "      <td>43006</td>\n",
              "      <td>2019-09-22 02:06:34</td>\n",
              "      <td>2019-09-22 02:16:07</td>\n",
              "      <td>0.0</td>\n",
              "      <td>2.43</td>\n",
              "      <td>3.53</td>\n",
              "    </tr>\n",
              "    <tr>\n",
              "      <th>1</th>\n",
              "      <td>48d28bca</td>\n",
              "      <td>e3becca9</td>\n",
              "      <td>0c923977</td>\n",
              "      <td>43050</td>\n",
              "      <td>2019-09-14 09:24:49</td>\n",
              "      <td>2019-09-14 09:40:44</td>\n",
              "      <td>0.9</td>\n",
              "      <td>3.09</td>\n",
              "      <td>7.51</td>\n",
              "    </tr>\n",
              "    <tr>\n",
              "      <th>2</th>\n",
              "      <td>48d2a250</td>\n",
              "      <td>1ac10a75</td>\n",
              "      <td>1558e026</td>\n",
              "      <td>43278</td>\n",
              "      <td>2019-08-22 15:52:24</td>\n",
              "      <td>2019-08-22 16:04:39</td>\n",
              "      <td>0.0</td>\n",
              "      <td>3.51</td>\n",
              "      <td>4.49</td>\n",
              "    </tr>\n",
              "    <tr>\n",
              "      <th>3</th>\n",
              "      <td>48d2a2f2</td>\n",
              "      <td>bd4b97da</td>\n",
              "      <td>28083bb2</td>\n",
              "      <td>43116</td>\n",
              "      <td>2019-05-31 20:07:11</td>\n",
              "      <td>2019-05-31 20:54:29</td>\n",
              "      <td>0.0</td>\n",
              "      <td>31.70</td>\n",
              "      <td>29.24</td>\n",
              "    </tr>\n",
              "    <tr>\n",
              "      <th>4</th>\n",
              "      <td>48d2b928</td>\n",
              "      <td>e49d3c61</td>\n",
              "      <td>0d1f049d</td>\n",
              "      <td>43278</td>\n",
              "      <td>2019-05-27 23:43:37</td>\n",
              "      <td>2019-05-27 23:55:00</td>\n",
              "      <td>0.0</td>\n",
              "      <td>3.43</td>\n",
              "      <td>2.26</td>\n",
              "    </tr>\n",
              "  </tbody>\n",
              "</table>\n",
              "</div>"
            ],
            "text/plain": [
              "         id driver_id passenger_id city_id           call_time  \\\n",
              "0  48d284eb  e3e77255     c01d24da   43006 2019-09-22 02:06:34   \n",
              "1  48d28bca  e3becca9     0c923977   43050 2019-09-14 09:24:49   \n",
              "2  48d2a250  1ac10a75     1558e026   43278 2019-08-22 15:52:24   \n",
              "3  48d2a2f2  bd4b97da     28083bb2   43116 2019-05-31 20:07:11   \n",
              "4  48d2b928  e49d3c61     0d1f049d   43278 2019-05-27 23:43:37   \n",
              "\n",
              "          finish_time  surge_rate  trip_distance  trip_fare  \n",
              "0 2019-09-22 02:16:07         0.0           2.43       3.53  \n",
              "1 2019-09-14 09:40:44         0.9           3.09       7.51  \n",
              "2 2019-08-22 16:04:39         0.0           3.51       4.49  \n",
              "3 2019-05-31 20:54:29         0.0          31.70      29.24  \n",
              "4 2019-05-27 23:55:00         0.0           3.43       2.26  "
            ]
          },
          "execution_count": 10,
          "metadata": {},
          "output_type": "execute_result"
        }
      ],
      "source": [
        "trip.head()"
      ]
    },
    {
      "cell_type": "code",
      "execution_count": null,
      "id": "60ab89e4",
      "metadata": {
        "colab": {
          "base_uri": "https://localhost:8080/",
          "height": 206
        },
        "id": "60ab89e4",
        "outputId": "ea8c2244-6724-4c35-fc92-4c56e636a58c"
      },
      "outputs": [
        {
          "data": {
            "text/html": [
              "<div>\n",
              "<style scoped>\n",
              "    .dataframe tbody tr th:only-of-type {\n",
              "        vertical-align: middle;\n",
              "    }\n",
              "\n",
              "    .dataframe tbody tr th {\n",
              "        vertical-align: top;\n",
              "    }\n",
              "\n",
              "    .dataframe thead th {\n",
              "        text-align: right;\n",
              "    }\n",
              "</style>\n",
              "<table border=\"1\" class=\"dataframe\">\n",
              "  <thead>\n",
              "    <tr style=\"text-align: right;\">\n",
              "      <th></th>\n",
              "      <th>id</th>\n",
              "      <th>calendar_date</th>\n",
              "      <th>week_day</th>\n",
              "      <th>holiday</th>\n",
              "    </tr>\n",
              "  </thead>\n",
              "  <tbody>\n",
              "    <tr>\n",
              "      <th>0</th>\n",
              "      <td>46724</td>\n",
              "      <td>2018-01-01</td>\n",
              "      <td>Monday</td>\n",
              "      <td>1</td>\n",
              "    </tr>\n",
              "    <tr>\n",
              "      <th>1</th>\n",
              "      <td>46725</td>\n",
              "      <td>2018-01-02</td>\n",
              "      <td>Tuesday</td>\n",
              "      <td>0</td>\n",
              "    </tr>\n",
              "    <tr>\n",
              "      <th>2</th>\n",
              "      <td>46726</td>\n",
              "      <td>2018-01-03</td>\n",
              "      <td>Wednesday</td>\n",
              "      <td>0</td>\n",
              "    </tr>\n",
              "    <tr>\n",
              "      <th>3</th>\n",
              "      <td>46727</td>\n",
              "      <td>2018-01-04</td>\n",
              "      <td>Thursday</td>\n",
              "      <td>0</td>\n",
              "    </tr>\n",
              "    <tr>\n",
              "      <th>4</th>\n",
              "      <td>46728</td>\n",
              "      <td>2018-01-05</td>\n",
              "      <td>Friday</td>\n",
              "      <td>0</td>\n",
              "    </tr>\n",
              "  </tbody>\n",
              "</table>\n",
              "</div>"
            ],
            "text/plain": [
              "      id calendar_date   week_day  holiday\n",
              "0  46724    2018-01-01     Monday        1\n",
              "1  46725    2018-01-02    Tuesday        0\n",
              "2  46726    2018-01-03  Wednesday        0\n",
              "3  46727    2018-01-04   Thursday        0\n",
              "4  46728    2018-01-05     Friday        0"
            ]
          },
          "execution_count": 11,
          "metadata": {},
          "output_type": "execute_result"
        }
      ],
      "source": [
        "calendar.head()"
      ]
    },
    {
      "cell_type": "code",
      "execution_count": null,
      "id": "f976edfb",
      "metadata": {
        "colab": {
          "base_uri": "https://localhost:8080/",
          "height": 206
        },
        "id": "f976edfb",
        "outputId": "465db003-da10-4d30-abe3-62f4a763f0b4"
      },
      "outputs": [
        {
          "data": {
            "text/html": [
              "<div>\n",
              "<style scoped>\n",
              "    .dataframe tbody tr th:only-of-type {\n",
              "        vertical-align: middle;\n",
              "    }\n",
              "\n",
              "    .dataframe tbody tr th {\n",
              "        vertical-align: top;\n",
              "    }\n",
              "\n",
              "    .dataframe thead th {\n",
              "        text-align: right;\n",
              "    }\n",
              "</style>\n",
              "<table border=\"1\" class=\"dataframe\">\n",
              "  <thead>\n",
              "    <tr style=\"text-align: right;\">\n",
              "      <th></th>\n",
              "      <th>id</th>\n",
              "      <th>first_call_time</th>\n",
              "    </tr>\n",
              "  </thead>\n",
              "  <tbody>\n",
              "    <tr>\n",
              "      <th>0</th>\n",
              "      <td>00000fab</td>\n",
              "      <td>2019-05-11 20:23:54</td>\n",
              "    </tr>\n",
              "    <tr>\n",
              "      <th>1</th>\n",
              "      <td>0000149d</td>\n",
              "      <td>2018-12-24 21:21:33</td>\n",
              "    </tr>\n",
              "    <tr>\n",
              "      <th>2</th>\n",
              "      <td>00002b66</td>\n",
              "      <td>2018-09-20 21:08:24</td>\n",
              "    </tr>\n",
              "    <tr>\n",
              "      <th>3</th>\n",
              "      <td>00002bc7</td>\n",
              "      <td>2019-07-28 11:27:56</td>\n",
              "    </tr>\n",
              "    <tr>\n",
              "      <th>4</th>\n",
              "      <td>0000332e</td>\n",
              "      <td>2019-02-21 23:34:24</td>\n",
              "    </tr>\n",
              "  </tbody>\n",
              "</table>\n",
              "</div>"
            ],
            "text/plain": [
              "         id      first_call_time\n",
              "0  00000fab  2019-05-11 20:23:54\n",
              "1  0000149d  2018-12-24 21:21:33\n",
              "2  00002b66  2018-09-20 21:08:24\n",
              "3  00002bc7  2019-07-28 11:27:56\n",
              "4  0000332e  2019-02-21 23:34:24"
            ]
          },
          "execution_count": 12,
          "metadata": {},
          "output_type": "execute_result"
        }
      ],
      "source": [
        "passenger.head()"
      ]
    },
    {
      "cell_type": "code",
      "execution_count": null,
      "id": "110a4531",
      "metadata": {
        "colab": {
          "base_uri": "https://localhost:8080/",
          "height": 206
        },
        "id": "110a4531",
        "outputId": "80392d20-51f9-4e82-cc08-26ae86ae0d97"
      },
      "outputs": [
        {
          "data": {
            "text/html": [
              "<div>\n",
              "<style scoped>\n",
              "    .dataframe tbody tr th:only-of-type {\n",
              "        vertical-align: middle;\n",
              "    }\n",
              "\n",
              "    .dataframe tbody tr th {\n",
              "        vertical-align: top;\n",
              "    }\n",
              "\n",
              "    .dataframe thead th {\n",
              "        text-align: right;\n",
              "    }\n",
              "</style>\n",
              "<table border=\"1\" class=\"dataframe\">\n",
              "  <thead>\n",
              "    <tr style=\"text-align: right;\">\n",
              "      <th></th>\n",
              "      <th>id</th>\n",
              "      <th>name</th>\n",
              "    </tr>\n",
              "  </thead>\n",
              "  <tbody>\n",
              "    <tr>\n",
              "      <th>0</th>\n",
              "      <td>42868</td>\n",
              "      <td>Mordor</td>\n",
              "    </tr>\n",
              "    <tr>\n",
              "      <th>1</th>\n",
              "      <td>42948</td>\n",
              "      <td>Erebor</td>\n",
              "    </tr>\n",
              "    <tr>\n",
              "      <th>2</th>\n",
              "      <td>43006</td>\n",
              "      <td>Minas Tirith</td>\n",
              "    </tr>\n",
              "    <tr>\n",
              "      <th>3</th>\n",
              "      <td>43020</td>\n",
              "      <td>Isengard</td>\n",
              "    </tr>\n",
              "    <tr>\n",
              "      <th>4</th>\n",
              "      <td>43050</td>\n",
              "      <td>Gondor</td>\n",
              "    </tr>\n",
              "  </tbody>\n",
              "</table>\n",
              "</div>"
            ],
            "text/plain": [
              "      id          name\n",
              "0  42868        Mordor\n",
              "1  42948        Erebor\n",
              "2  43006  Minas Tirith\n",
              "3  43020      Isengard\n",
              "4  43050        Gondor"
            ]
          },
          "execution_count": 13,
          "metadata": {},
          "output_type": "execute_result"
        }
      ],
      "source": [
        "city.head()"
      ]
    },
    {
      "cell_type": "code",
      "execution_count": null,
      "id": "9d0ae399",
      "metadata": {
        "colab": {
          "base_uri": "https://localhost:8080/"
        },
        "id": "9d0ae399",
        "outputId": "8e1863fa-8baf-428b-f770-b97c3c82ede7"
      },
      "outputs": [
        {
          "data": {
            "text/plain": [
              "<bound method DataFrame.info of                id driver_id passenger_id city_id           call_time  \\\n",
              "0        48d284eb  e3e77255     c01d24da   43006 2019-09-22 02:06:34   \n",
              "1        48d28bca  e3becca9     0c923977   43050 2019-09-14 09:24:49   \n",
              "2        48d2a250  1ac10a75     1558e026   43278 2019-08-22 15:52:24   \n",
              "3        48d2a2f2  bd4b97da     28083bb2   43116 2019-05-31 20:07:11   \n",
              "4        48d2b928  e49d3c61     0d1f049d   43278 2019-05-27 23:43:37   \n",
              "...           ...       ...          ...     ...                 ...   \n",
              "2318352  48d232df  2d805a81     567d3c4d   43006 2019-07-30 18:29:16   \n",
              "2318353  48d238f0  2b929b5d     781d3df6   43020 2019-06-15 06:53:09   \n",
              "2318354  48d24f90  3683c68e     92d94f20   43050 2019-05-27 07:07:05   \n",
              "2318355  48d25216  0c154c23     2fc0d4cf   43179 2019-05-25 05:06:57   \n",
              "2318356  48d27697  2d77aca0     f8b29160   43278 2019-05-15 05:02:34   \n",
              "\n",
              "                finish_time  surge_rate  trip_distance  trip_fare  \n",
              "0       2019-09-22 02:16:07         0.0           2.43       3.53  \n",
              "1       2019-09-14 09:40:44         0.9           3.09       7.51  \n",
              "2       2019-08-22 16:04:39         0.0           3.51       4.49  \n",
              "3       2019-05-31 20:54:29         0.0          31.70      29.24  \n",
              "4       2019-05-27 23:55:00         0.0           3.43       2.26  \n",
              "...                     ...         ...            ...        ...  \n",
              "2318352 2019-07-30 18:44:53         0.0           3.82       2.79  \n",
              "2318353 2019-06-15 07:09:06         0.0           7.78       4.04  \n",
              "2318354 2019-05-27 07:24:12         0.0           5.96       5.41  \n",
              "2318355 2019-05-25 05:26:23         0.0           2.63       2.10  \n",
              "2318356 2019-05-15 05:41:18        -0.2           6.47      16.32  \n",
              "\n",
              "[2318357 rows x 9 columns]>"
            ]
          },
          "execution_count": 14,
          "metadata": {},
          "output_type": "execute_result"
        }
      ],
      "source": [
        "trip.info"
      ]
    },
    {
      "cell_type": "code",
      "execution_count": null,
      "id": "93d2b5a4",
      "metadata": {
        "colab": {
          "base_uri": "https://localhost:8080/",
          "height": 300
        },
        "id": "93d2b5a4",
        "outputId": "daae7fb5-12e3-48ae-ace2-d11ddde1cfd2"
      },
      "outputs": [
        {
          "data": {
            "text/html": [
              "<div>\n",
              "<style scoped>\n",
              "    .dataframe tbody tr th:only-of-type {\n",
              "        vertical-align: middle;\n",
              "    }\n",
              "\n",
              "    .dataframe tbody tr th {\n",
              "        vertical-align: top;\n",
              "    }\n",
              "\n",
              "    .dataframe thead th {\n",
              "        text-align: right;\n",
              "    }\n",
              "</style>\n",
              "<table border=\"1\" class=\"dataframe\">\n",
              "  <thead>\n",
              "    <tr style=\"text-align: right;\">\n",
              "      <th></th>\n",
              "      <th>surge_rate</th>\n",
              "      <th>trip_distance</th>\n",
              "      <th>trip_fare</th>\n",
              "    </tr>\n",
              "  </thead>\n",
              "  <tbody>\n",
              "    <tr>\n",
              "      <th>count</th>\n",
              "      <td>2.318351e+06</td>\n",
              "      <td>2.295118e+06</td>\n",
              "      <td>2.318357e+06</td>\n",
              "    </tr>\n",
              "    <tr>\n",
              "      <th>mean</th>\n",
              "      <td>4.524211e-02</td>\n",
              "      <td>6.287275e+00</td>\n",
              "      <td>5.250823e+00</td>\n",
              "    </tr>\n",
              "    <tr>\n",
              "      <th>std</th>\n",
              "      <td>1.595359e-01</td>\n",
              "      <td>5.603102e+00</td>\n",
              "      <td>4.168291e+00</td>\n",
              "    </tr>\n",
              "    <tr>\n",
              "      <th>min</th>\n",
              "      <td>-1.000000e+00</td>\n",
              "      <td>-5.000000e-01</td>\n",
              "      <td>0.000000e+00</td>\n",
              "    </tr>\n",
              "    <tr>\n",
              "      <th>25%</th>\n",
              "      <td>0.000000e+00</td>\n",
              "      <td>2.580000e+00</td>\n",
              "      <td>2.740000e+00</td>\n",
              "    </tr>\n",
              "    <tr>\n",
              "      <th>50%</th>\n",
              "      <td>0.000000e+00</td>\n",
              "      <td>4.600000e+00</td>\n",
              "      <td>4.030000e+00</td>\n",
              "    </tr>\n",
              "    <tr>\n",
              "      <th>75%</th>\n",
              "      <td>0.000000e+00</td>\n",
              "      <td>8.280000e+00</td>\n",
              "      <td>6.470000e+00</td>\n",
              "    </tr>\n",
              "    <tr>\n",
              "      <th>max</th>\n",
              "      <td>4.000000e+00</td>\n",
              "      <td>2.961000e+02</td>\n",
              "      <td>1.234320e+03</td>\n",
              "    </tr>\n",
              "  </tbody>\n",
              "</table>\n",
              "</div>"
            ],
            "text/plain": [
              "         surge_rate  trip_distance     trip_fare\n",
              "count  2.318351e+06   2.295118e+06  2.318357e+06\n",
              "mean   4.524211e-02   6.287275e+00  5.250823e+00\n",
              "std    1.595359e-01   5.603102e+00  4.168291e+00\n",
              "min   -1.000000e+00  -5.000000e-01  0.000000e+00\n",
              "25%    0.000000e+00   2.580000e+00  2.740000e+00\n",
              "50%    0.000000e+00   4.600000e+00  4.030000e+00\n",
              "75%    0.000000e+00   8.280000e+00  6.470000e+00\n",
              "max    4.000000e+00   2.961000e+02  1.234320e+03"
            ]
          },
          "execution_count": 15,
          "metadata": {},
          "output_type": "execute_result"
        }
      ],
      "source": [
        "trip.describe()"
      ]
    },
    {
      "cell_type": "markdown",
      "id": "c232f26a",
      "metadata": {
        "id": "c232f26a"
      },
      "source": [
        "# Merging all the data into one big table "
      ]
    },
    {
      "cell_type": "markdown",
      "id": "bbd5dacc",
      "metadata": {
        "id": "bbd5dacc"
      },
      "source": [
        "creating a column date to make the merge"
      ]
    },
    {
      "cell_type": "code",
      "execution_count": null,
      "id": "410e3af6",
      "metadata": {
        "colab": {
          "base_uri": "https://localhost:8080/",
          "height": 206
        },
        "id": "410e3af6",
        "outputId": "d2f1edc3-7513-42e5-8058-c6ba79edc4cc"
      },
      "outputs": [
        {
          "data": {
            "text/html": [
              "<div>\n",
              "<style scoped>\n",
              "    .dataframe tbody tr th:only-of-type {\n",
              "        vertical-align: middle;\n",
              "    }\n",
              "\n",
              "    .dataframe tbody tr th {\n",
              "        vertical-align: top;\n",
              "    }\n",
              "\n",
              "    .dataframe thead th {\n",
              "        text-align: right;\n",
              "    }\n",
              "</style>\n",
              "<table border=\"1\" class=\"dataframe\">\n",
              "  <thead>\n",
              "    <tr style=\"text-align: right;\">\n",
              "      <th></th>\n",
              "      <th>id</th>\n",
              "      <th>driver_id</th>\n",
              "      <th>passenger_id</th>\n",
              "      <th>city_id</th>\n",
              "      <th>call_time</th>\n",
              "      <th>finish_time</th>\n",
              "      <th>surge_rate</th>\n",
              "      <th>trip_distance</th>\n",
              "      <th>trip_fare</th>\n",
              "      <th>date</th>\n",
              "    </tr>\n",
              "  </thead>\n",
              "  <tbody>\n",
              "    <tr>\n",
              "      <th>0</th>\n",
              "      <td>48d284eb</td>\n",
              "      <td>e3e77255</td>\n",
              "      <td>c01d24da</td>\n",
              "      <td>43006</td>\n",
              "      <td>2019-09-22 02:06:34</td>\n",
              "      <td>2019-09-22 02:16:07</td>\n",
              "      <td>0.0</td>\n",
              "      <td>2.43</td>\n",
              "      <td>3.53</td>\n",
              "      <td>2019-09-22</td>\n",
              "    </tr>\n",
              "    <tr>\n",
              "      <th>1</th>\n",
              "      <td>48d28bca</td>\n",
              "      <td>e3becca9</td>\n",
              "      <td>0c923977</td>\n",
              "      <td>43050</td>\n",
              "      <td>2019-09-14 09:24:49</td>\n",
              "      <td>2019-09-14 09:40:44</td>\n",
              "      <td>0.9</td>\n",
              "      <td>3.09</td>\n",
              "      <td>7.51</td>\n",
              "      <td>2019-09-14</td>\n",
              "    </tr>\n",
              "    <tr>\n",
              "      <th>2</th>\n",
              "      <td>48d2a250</td>\n",
              "      <td>1ac10a75</td>\n",
              "      <td>1558e026</td>\n",
              "      <td>43278</td>\n",
              "      <td>2019-08-22 15:52:24</td>\n",
              "      <td>2019-08-22 16:04:39</td>\n",
              "      <td>0.0</td>\n",
              "      <td>3.51</td>\n",
              "      <td>4.49</td>\n",
              "      <td>2019-08-22</td>\n",
              "    </tr>\n",
              "    <tr>\n",
              "      <th>3</th>\n",
              "      <td>48d2a2f2</td>\n",
              "      <td>bd4b97da</td>\n",
              "      <td>28083bb2</td>\n",
              "      <td>43116</td>\n",
              "      <td>2019-05-31 20:07:11</td>\n",
              "      <td>2019-05-31 20:54:29</td>\n",
              "      <td>0.0</td>\n",
              "      <td>31.70</td>\n",
              "      <td>29.24</td>\n",
              "      <td>2019-05-31</td>\n",
              "    </tr>\n",
              "    <tr>\n",
              "      <th>4</th>\n",
              "      <td>48d2b928</td>\n",
              "      <td>e49d3c61</td>\n",
              "      <td>0d1f049d</td>\n",
              "      <td>43278</td>\n",
              "      <td>2019-05-27 23:43:37</td>\n",
              "      <td>2019-05-27 23:55:00</td>\n",
              "      <td>0.0</td>\n",
              "      <td>3.43</td>\n",
              "      <td>2.26</td>\n",
              "      <td>2019-05-27</td>\n",
              "    </tr>\n",
              "  </tbody>\n",
              "</table>\n",
              "</div>"
            ],
            "text/plain": [
              "         id driver_id passenger_id city_id           call_time  \\\n",
              "0  48d284eb  e3e77255     c01d24da   43006 2019-09-22 02:06:34   \n",
              "1  48d28bca  e3becca9     0c923977   43050 2019-09-14 09:24:49   \n",
              "2  48d2a250  1ac10a75     1558e026   43278 2019-08-22 15:52:24   \n",
              "3  48d2a2f2  bd4b97da     28083bb2   43116 2019-05-31 20:07:11   \n",
              "4  48d2b928  e49d3c61     0d1f049d   43278 2019-05-27 23:43:37   \n",
              "\n",
              "          finish_time  surge_rate  trip_distance  trip_fare        date  \n",
              "0 2019-09-22 02:16:07         0.0           2.43       3.53  2019-09-22  \n",
              "1 2019-09-14 09:40:44         0.9           3.09       7.51  2019-09-14  \n",
              "2 2019-08-22 16:04:39         0.0           3.51       4.49  2019-08-22  \n",
              "3 2019-05-31 20:54:29         0.0          31.70      29.24  2019-05-31  \n",
              "4 2019-05-27 23:55:00         0.0           3.43       2.26  2019-05-27  "
            ]
          },
          "execution_count": 16,
          "metadata": {},
          "output_type": "execute_result"
        }
      ],
      "source": [
        "trip['date'] = pd.to_datetime(trip['call_time']).dt.date\n",
        "trip.head()"
      ]
    },
    {
      "cell_type": "code",
      "execution_count": null,
      "id": "b43d2bff",
      "metadata": {
        "id": "b43d2bff"
      },
      "outputs": [],
      "source": [
        "trip_calendar = trip.merge(calendar, left_on='date', right_on='calendar_date', suffixes=['_trip','_calendar'])"
      ]
    },
    {
      "cell_type": "code",
      "execution_count": null,
      "id": "67a1245a",
      "metadata": {
        "colab": {
          "base_uri": "https://localhost:8080/",
          "height": 206
        },
        "id": "67a1245a",
        "outputId": "e1de0b82-1436-470a-a7c7-370b80294ac1"
      },
      "outputs": [
        {
          "data": {
            "text/html": [
              "<div>\n",
              "<style scoped>\n",
              "    .dataframe tbody tr th:only-of-type {\n",
              "        vertical-align: middle;\n",
              "    }\n",
              "\n",
              "    .dataframe tbody tr th {\n",
              "        vertical-align: top;\n",
              "    }\n",
              "\n",
              "    .dataframe thead th {\n",
              "        text-align: right;\n",
              "    }\n",
              "</style>\n",
              "<table border=\"1\" class=\"dataframe\">\n",
              "  <thead>\n",
              "    <tr style=\"text-align: right;\">\n",
              "      <th></th>\n",
              "      <th>id_trip</th>\n",
              "      <th>driver_id</th>\n",
              "      <th>passenger_id</th>\n",
              "      <th>city_id</th>\n",
              "      <th>call_time</th>\n",
              "      <th>finish_time</th>\n",
              "      <th>surge_rate</th>\n",
              "      <th>trip_distance</th>\n",
              "      <th>trip_fare</th>\n",
              "      <th>date</th>\n",
              "      <th>id_calendar</th>\n",
              "      <th>calendar_date</th>\n",
              "      <th>week_day</th>\n",
              "      <th>holiday</th>\n",
              "    </tr>\n",
              "  </thead>\n",
              "  <tbody>\n",
              "    <tr>\n",
              "      <th>0</th>\n",
              "      <td>48d284eb</td>\n",
              "      <td>e3e77255</td>\n",
              "      <td>c01d24da</td>\n",
              "      <td>43006</td>\n",
              "      <td>2019-09-22 02:06:34</td>\n",
              "      <td>2019-09-22 02:16:07</td>\n",
              "      <td>0.0</td>\n",
              "      <td>2.43</td>\n",
              "      <td>3.53</td>\n",
              "      <td>2019-09-22</td>\n",
              "      <td>47353</td>\n",
              "      <td>2019-09-22</td>\n",
              "      <td>Sunday</td>\n",
              "      <td>0</td>\n",
              "    </tr>\n",
              "    <tr>\n",
              "      <th>1</th>\n",
              "      <td>48db48cf</td>\n",
              "      <td>ce2f0103</td>\n",
              "      <td>ae86a696</td>\n",
              "      <td>43006</td>\n",
              "      <td>2019-09-22 09:20:50</td>\n",
              "      <td>2019-09-22 09:31:24</td>\n",
              "      <td>0.0</td>\n",
              "      <td>3.46</td>\n",
              "      <td>2.06</td>\n",
              "      <td>2019-09-22</td>\n",
              "      <td>47353</td>\n",
              "      <td>2019-09-22</td>\n",
              "      <td>Sunday</td>\n",
              "      <td>0</td>\n",
              "    </tr>\n",
              "    <tr>\n",
              "      <th>2</th>\n",
              "      <td>48e0bfe0</td>\n",
              "      <td>8f9192dd</td>\n",
              "      <td>67eeb6b0</td>\n",
              "      <td>43179</td>\n",
              "      <td>2019-09-22 23:37:27</td>\n",
              "      <td>2019-09-22 23:59:41</td>\n",
              "      <td>0.0</td>\n",
              "      <td>10.59</td>\n",
              "      <td>8.33</td>\n",
              "      <td>2019-09-22</td>\n",
              "      <td>47353</td>\n",
              "      <td>2019-09-22</td>\n",
              "      <td>Sunday</td>\n",
              "      <td>0</td>\n",
              "    </tr>\n",
              "    <tr>\n",
              "      <th>3</th>\n",
              "      <td>48e2ca3b</td>\n",
              "      <td>80ee3fb4</td>\n",
              "      <td>3f096463</td>\n",
              "      <td>43020</td>\n",
              "      <td>2019-09-22 08:08:07</td>\n",
              "      <td>2019-09-22 08:30:28</td>\n",
              "      <td>0.0</td>\n",
              "      <td>10.64</td>\n",
              "      <td>7.90</td>\n",
              "      <td>2019-09-22</td>\n",
              "      <td>47353</td>\n",
              "      <td>2019-09-22</td>\n",
              "      <td>Sunday</td>\n",
              "      <td>0</td>\n",
              "    </tr>\n",
              "    <tr>\n",
              "      <th>4</th>\n",
              "      <td>48eb603b</td>\n",
              "      <td>80d935ed</td>\n",
              "      <td>77863390</td>\n",
              "      <td>43179</td>\n",
              "      <td>2019-09-22 16:05:14</td>\n",
              "      <td>2019-09-22 16:18:20</td>\n",
              "      <td>0.3</td>\n",
              "      <td>1.31</td>\n",
              "      <td>3.79</td>\n",
              "      <td>2019-09-22</td>\n",
              "      <td>47353</td>\n",
              "      <td>2019-09-22</td>\n",
              "      <td>Sunday</td>\n",
              "      <td>0</td>\n",
              "    </tr>\n",
              "  </tbody>\n",
              "</table>\n",
              "</div>"
            ],
            "text/plain": [
              "    id_trip driver_id passenger_id city_id           call_time  \\\n",
              "0  48d284eb  e3e77255     c01d24da   43006 2019-09-22 02:06:34   \n",
              "1  48db48cf  ce2f0103     ae86a696   43006 2019-09-22 09:20:50   \n",
              "2  48e0bfe0  8f9192dd     67eeb6b0   43179 2019-09-22 23:37:27   \n",
              "3  48e2ca3b  80ee3fb4     3f096463   43020 2019-09-22 08:08:07   \n",
              "4  48eb603b  80d935ed     77863390   43179 2019-09-22 16:05:14   \n",
              "\n",
              "          finish_time  surge_rate  trip_distance  trip_fare        date  \\\n",
              "0 2019-09-22 02:16:07         0.0           2.43       3.53  2019-09-22   \n",
              "1 2019-09-22 09:31:24         0.0           3.46       2.06  2019-09-22   \n",
              "2 2019-09-22 23:59:41         0.0          10.59       8.33  2019-09-22   \n",
              "3 2019-09-22 08:30:28         0.0          10.64       7.90  2019-09-22   \n",
              "4 2019-09-22 16:18:20         0.3           1.31       3.79  2019-09-22   \n",
              "\n",
              "   id_calendar calendar_date week_day  holiday  \n",
              "0        47353    2019-09-22   Sunday        0  \n",
              "1        47353    2019-09-22   Sunday        0  \n",
              "2        47353    2019-09-22   Sunday        0  \n",
              "3        47353    2019-09-22   Sunday        0  \n",
              "4        47353    2019-09-22   Sunday        0  "
            ]
          },
          "execution_count": 18,
          "metadata": {},
          "output_type": "execute_result"
        }
      ],
      "source": [
        "trip_calendar.head()"
      ]
    },
    {
      "cell_type": "code",
      "execution_count": null,
      "id": "f0b80c9e",
      "metadata": {
        "id": "f0b80c9e"
      },
      "outputs": [],
      "source": [
        "trip_calendar_passenger = trip_calendar.merge(passenger, left_on='passenger_id', right_on='id',how='inner', suffixes=['_trip_calendar','_passenger'])"
      ]
    },
    {
      "cell_type": "code",
      "execution_count": null,
      "id": "2723bfbf",
      "metadata": {
        "colab": {
          "base_uri": "https://localhost:8080/",
          "height": 206
        },
        "id": "2723bfbf",
        "outputId": "714c14ec-5f1b-4070-de66-984b75d126f5"
      },
      "outputs": [
        {
          "data": {
            "text/html": [
              "<div>\n",
              "<style scoped>\n",
              "    .dataframe tbody tr th:only-of-type {\n",
              "        vertical-align: middle;\n",
              "    }\n",
              "\n",
              "    .dataframe tbody tr th {\n",
              "        vertical-align: top;\n",
              "    }\n",
              "\n",
              "    .dataframe thead th {\n",
              "        text-align: right;\n",
              "    }\n",
              "</style>\n",
              "<table border=\"1\" class=\"dataframe\">\n",
              "  <thead>\n",
              "    <tr style=\"text-align: right;\">\n",
              "      <th></th>\n",
              "      <th>id_trip</th>\n",
              "      <th>driver_id</th>\n",
              "      <th>passenger_id</th>\n",
              "      <th>city_id</th>\n",
              "      <th>call_time</th>\n",
              "      <th>finish_time</th>\n",
              "      <th>surge_rate</th>\n",
              "      <th>trip_distance</th>\n",
              "      <th>trip_fare</th>\n",
              "      <th>date</th>\n",
              "      <th>id_calendar</th>\n",
              "      <th>calendar_date</th>\n",
              "      <th>week_day</th>\n",
              "      <th>holiday</th>\n",
              "      <th>id</th>\n",
              "      <th>first_call_time</th>\n",
              "    </tr>\n",
              "  </thead>\n",
              "  <tbody>\n",
              "    <tr>\n",
              "      <th>0</th>\n",
              "      <td>48d284eb</td>\n",
              "      <td>e3e77255</td>\n",
              "      <td>c01d24da</td>\n",
              "      <td>43006</td>\n",
              "      <td>2019-09-22 02:06:34</td>\n",
              "      <td>2019-09-22 02:16:07</td>\n",
              "      <td>0.0</td>\n",
              "      <td>2.43</td>\n",
              "      <td>3.53</td>\n",
              "      <td>2019-09-22</td>\n",
              "      <td>47353</td>\n",
              "      <td>2019-09-22</td>\n",
              "      <td>Sunday</td>\n",
              "      <td>0</td>\n",
              "      <td>c01d24da</td>\n",
              "      <td>2018-09-22 20:04:43</td>\n",
              "    </tr>\n",
              "    <tr>\n",
              "      <th>1</th>\n",
              "      <td>8bd39604</td>\n",
              "      <td>b199e84a</td>\n",
              "      <td>c01d24da</td>\n",
              "      <td>43006</td>\n",
              "      <td>2019-09-22 01:48:39</td>\n",
              "      <td>2019-09-22 02:00:38</td>\n",
              "      <td>0.0</td>\n",
              "      <td>2.22</td>\n",
              "      <td>1.80</td>\n",
              "      <td>2019-09-22</td>\n",
              "      <td>47353</td>\n",
              "      <td>2019-09-22</td>\n",
              "      <td>Sunday</td>\n",
              "      <td>0</td>\n",
              "      <td>c01d24da</td>\n",
              "      <td>2018-09-22 20:04:43</td>\n",
              "    </tr>\n",
              "    <tr>\n",
              "      <th>2</th>\n",
              "      <td>b03cd256</td>\n",
              "      <td>bf367601</td>\n",
              "      <td>c01d24da</td>\n",
              "      <td>43006</td>\n",
              "      <td>2019-09-12 05:38:07</td>\n",
              "      <td>2019-09-12 05:46:14</td>\n",
              "      <td>0.1</td>\n",
              "      <td>2.85</td>\n",
              "      <td>4.03</td>\n",
              "      <td>2019-09-12</td>\n",
              "      <td>47343</td>\n",
              "      <td>2019-09-12</td>\n",
              "      <td>Thursday</td>\n",
              "      <td>0</td>\n",
              "      <td>c01d24da</td>\n",
              "      <td>2018-09-22 20:04:43</td>\n",
              "    </tr>\n",
              "    <tr>\n",
              "      <th>3</th>\n",
              "      <td>b394dfb7</td>\n",
              "      <td>cb37f75b</td>\n",
              "      <td>c01d24da</td>\n",
              "      <td>43006</td>\n",
              "      <td>2019-09-20 02:28:14</td>\n",
              "      <td>2019-09-20 02:43:11</td>\n",
              "      <td>0.0</td>\n",
              "      <td>5.40</td>\n",
              "      <td>5.65</td>\n",
              "      <td>2019-09-20</td>\n",
              "      <td>47351</td>\n",
              "      <td>2019-09-20</td>\n",
              "      <td>Friday</td>\n",
              "      <td>0</td>\n",
              "      <td>c01d24da</td>\n",
              "      <td>2018-09-22 20:04:43</td>\n",
              "    </tr>\n",
              "    <tr>\n",
              "      <th>4</th>\n",
              "      <td>5232ed7c</td>\n",
              "      <td>4bb1a12a</td>\n",
              "      <td>c01d24da</td>\n",
              "      <td>43006</td>\n",
              "      <td>2019-08-31 08:34:16</td>\n",
              "      <td>2019-08-31 09:00:52</td>\n",
              "      <td>0.0</td>\n",
              "      <td>2.26</td>\n",
              "      <td>3.50</td>\n",
              "      <td>2019-08-31</td>\n",
              "      <td>47331</td>\n",
              "      <td>2019-08-31</td>\n",
              "      <td>Saturday</td>\n",
              "      <td>0</td>\n",
              "      <td>c01d24da</td>\n",
              "      <td>2018-09-22 20:04:43</td>\n",
              "    </tr>\n",
              "  </tbody>\n",
              "</table>\n",
              "</div>"
            ],
            "text/plain": [
              "    id_trip driver_id passenger_id city_id           call_time  \\\n",
              "0  48d284eb  e3e77255     c01d24da   43006 2019-09-22 02:06:34   \n",
              "1  8bd39604  b199e84a     c01d24da   43006 2019-09-22 01:48:39   \n",
              "2  b03cd256  bf367601     c01d24da   43006 2019-09-12 05:38:07   \n",
              "3  b394dfb7  cb37f75b     c01d24da   43006 2019-09-20 02:28:14   \n",
              "4  5232ed7c  4bb1a12a     c01d24da   43006 2019-08-31 08:34:16   \n",
              "\n",
              "          finish_time  surge_rate  trip_distance  trip_fare        date  \\\n",
              "0 2019-09-22 02:16:07         0.0           2.43       3.53  2019-09-22   \n",
              "1 2019-09-22 02:00:38         0.0           2.22       1.80  2019-09-22   \n",
              "2 2019-09-12 05:46:14         0.1           2.85       4.03  2019-09-12   \n",
              "3 2019-09-20 02:43:11         0.0           5.40       5.65  2019-09-20   \n",
              "4 2019-08-31 09:00:52         0.0           2.26       3.50  2019-08-31   \n",
              "\n",
              "   id_calendar calendar_date  week_day  holiday        id      first_call_time  \n",
              "0        47353    2019-09-22    Sunday        0  c01d24da  2018-09-22 20:04:43  \n",
              "1        47353    2019-09-22    Sunday        0  c01d24da  2018-09-22 20:04:43  \n",
              "2        47343    2019-09-12  Thursday        0  c01d24da  2018-09-22 20:04:43  \n",
              "3        47351    2019-09-20    Friday        0  c01d24da  2018-09-22 20:04:43  \n",
              "4        47331    2019-08-31  Saturday        0  c01d24da  2018-09-22 20:04:43  "
            ]
          },
          "execution_count": 20,
          "metadata": {},
          "output_type": "execute_result"
        }
      ],
      "source": [
        "trip_calendar_passenger.head()"
      ]
    },
    {
      "cell_type": "code",
      "execution_count": null,
      "id": "040aa1c2",
      "metadata": {
        "id": "040aa1c2"
      },
      "outputs": [],
      "source": [
        "trip_calendar_passenger['city_id'] = trip_calendar_passenger['city_id'].astype(int)\n",
        "city['id'] = city['id'].astype(int)"
      ]
    },
    {
      "cell_type": "code",
      "execution_count": null,
      "id": "ca9da557",
      "metadata": {
        "id": "ca9da557"
      },
      "outputs": [],
      "source": [
        "trip_calendar_passenger_city = trip_calendar_passenger.merge(city, left_on='city_id',right_on='id', how='inner', suffixes=['_trip_calendar_passenger','_city'])"
      ]
    },
    {
      "cell_type": "code",
      "execution_count": null,
      "id": "d7bc224f",
      "metadata": {
        "colab": {
          "base_uri": "https://localhost:8080/",
          "height": 206
        },
        "id": "d7bc224f",
        "outputId": "aabd7c7b-92ac-47c6-8c2f-c05c9f1cab35"
      },
      "outputs": [
        {
          "data": {
            "text/html": [
              "<div>\n",
              "<style scoped>\n",
              "    .dataframe tbody tr th:only-of-type {\n",
              "        vertical-align: middle;\n",
              "    }\n",
              "\n",
              "    .dataframe tbody tr th {\n",
              "        vertical-align: top;\n",
              "    }\n",
              "\n",
              "    .dataframe thead th {\n",
              "        text-align: right;\n",
              "    }\n",
              "</style>\n",
              "<table border=\"1\" class=\"dataframe\">\n",
              "  <thead>\n",
              "    <tr style=\"text-align: right;\">\n",
              "      <th></th>\n",
              "      <th>id_trip</th>\n",
              "      <th>driver_id</th>\n",
              "      <th>passenger_id</th>\n",
              "      <th>city_id</th>\n",
              "      <th>call_time</th>\n",
              "      <th>finish_time</th>\n",
              "      <th>surge_rate</th>\n",
              "      <th>trip_distance</th>\n",
              "      <th>trip_fare</th>\n",
              "      <th>date</th>\n",
              "      <th>id_calendar</th>\n",
              "      <th>calendar_date</th>\n",
              "      <th>week_day</th>\n",
              "      <th>holiday</th>\n",
              "      <th>id_trip_calendar_passenger</th>\n",
              "      <th>first_call_time</th>\n",
              "      <th>id_city</th>\n",
              "      <th>name</th>\n",
              "    </tr>\n",
              "  </thead>\n",
              "  <tbody>\n",
              "    <tr>\n",
              "      <th>0</th>\n",
              "      <td>48d284eb</td>\n",
              "      <td>e3e77255</td>\n",
              "      <td>c01d24da</td>\n",
              "      <td>43006</td>\n",
              "      <td>2019-09-22 02:06:34</td>\n",
              "      <td>2019-09-22 02:16:07</td>\n",
              "      <td>0.0</td>\n",
              "      <td>2.43</td>\n",
              "      <td>3.53</td>\n",
              "      <td>2019-09-22</td>\n",
              "      <td>47353</td>\n",
              "      <td>2019-09-22</td>\n",
              "      <td>Sunday</td>\n",
              "      <td>0</td>\n",
              "      <td>c01d24da</td>\n",
              "      <td>2018-09-22 20:04:43</td>\n",
              "      <td>43006</td>\n",
              "      <td>Minas Tirith</td>\n",
              "    </tr>\n",
              "    <tr>\n",
              "      <th>1</th>\n",
              "      <td>8bd39604</td>\n",
              "      <td>b199e84a</td>\n",
              "      <td>c01d24da</td>\n",
              "      <td>43006</td>\n",
              "      <td>2019-09-22 01:48:39</td>\n",
              "      <td>2019-09-22 02:00:38</td>\n",
              "      <td>0.0</td>\n",
              "      <td>2.22</td>\n",
              "      <td>1.80</td>\n",
              "      <td>2019-09-22</td>\n",
              "      <td>47353</td>\n",
              "      <td>2019-09-22</td>\n",
              "      <td>Sunday</td>\n",
              "      <td>0</td>\n",
              "      <td>c01d24da</td>\n",
              "      <td>2018-09-22 20:04:43</td>\n",
              "      <td>43006</td>\n",
              "      <td>Minas Tirith</td>\n",
              "    </tr>\n",
              "    <tr>\n",
              "      <th>2</th>\n",
              "      <td>b03cd256</td>\n",
              "      <td>bf367601</td>\n",
              "      <td>c01d24da</td>\n",
              "      <td>43006</td>\n",
              "      <td>2019-09-12 05:38:07</td>\n",
              "      <td>2019-09-12 05:46:14</td>\n",
              "      <td>0.1</td>\n",
              "      <td>2.85</td>\n",
              "      <td>4.03</td>\n",
              "      <td>2019-09-12</td>\n",
              "      <td>47343</td>\n",
              "      <td>2019-09-12</td>\n",
              "      <td>Thursday</td>\n",
              "      <td>0</td>\n",
              "      <td>c01d24da</td>\n",
              "      <td>2018-09-22 20:04:43</td>\n",
              "      <td>43006</td>\n",
              "      <td>Minas Tirith</td>\n",
              "    </tr>\n",
              "    <tr>\n",
              "      <th>3</th>\n",
              "      <td>b394dfb7</td>\n",
              "      <td>cb37f75b</td>\n",
              "      <td>c01d24da</td>\n",
              "      <td>43006</td>\n",
              "      <td>2019-09-20 02:28:14</td>\n",
              "      <td>2019-09-20 02:43:11</td>\n",
              "      <td>0.0</td>\n",
              "      <td>5.40</td>\n",
              "      <td>5.65</td>\n",
              "      <td>2019-09-20</td>\n",
              "      <td>47351</td>\n",
              "      <td>2019-09-20</td>\n",
              "      <td>Friday</td>\n",
              "      <td>0</td>\n",
              "      <td>c01d24da</td>\n",
              "      <td>2018-09-22 20:04:43</td>\n",
              "      <td>43006</td>\n",
              "      <td>Minas Tirith</td>\n",
              "    </tr>\n",
              "    <tr>\n",
              "      <th>4</th>\n",
              "      <td>5232ed7c</td>\n",
              "      <td>4bb1a12a</td>\n",
              "      <td>c01d24da</td>\n",
              "      <td>43006</td>\n",
              "      <td>2019-08-31 08:34:16</td>\n",
              "      <td>2019-08-31 09:00:52</td>\n",
              "      <td>0.0</td>\n",
              "      <td>2.26</td>\n",
              "      <td>3.50</td>\n",
              "      <td>2019-08-31</td>\n",
              "      <td>47331</td>\n",
              "      <td>2019-08-31</td>\n",
              "      <td>Saturday</td>\n",
              "      <td>0</td>\n",
              "      <td>c01d24da</td>\n",
              "      <td>2018-09-22 20:04:43</td>\n",
              "      <td>43006</td>\n",
              "      <td>Minas Tirith</td>\n",
              "    </tr>\n",
              "  </tbody>\n",
              "</table>\n",
              "</div>"
            ],
            "text/plain": [
              "    id_trip driver_id passenger_id  city_id           call_time  \\\n",
              "0  48d284eb  e3e77255     c01d24da    43006 2019-09-22 02:06:34   \n",
              "1  8bd39604  b199e84a     c01d24da    43006 2019-09-22 01:48:39   \n",
              "2  b03cd256  bf367601     c01d24da    43006 2019-09-12 05:38:07   \n",
              "3  b394dfb7  cb37f75b     c01d24da    43006 2019-09-20 02:28:14   \n",
              "4  5232ed7c  4bb1a12a     c01d24da    43006 2019-08-31 08:34:16   \n",
              "\n",
              "          finish_time  surge_rate  trip_distance  trip_fare        date  \\\n",
              "0 2019-09-22 02:16:07         0.0           2.43       3.53  2019-09-22   \n",
              "1 2019-09-22 02:00:38         0.0           2.22       1.80  2019-09-22   \n",
              "2 2019-09-12 05:46:14         0.1           2.85       4.03  2019-09-12   \n",
              "3 2019-09-20 02:43:11         0.0           5.40       5.65  2019-09-20   \n",
              "4 2019-08-31 09:00:52         0.0           2.26       3.50  2019-08-31   \n",
              "\n",
              "   id_calendar calendar_date  week_day  holiday id_trip_calendar_passenger  \\\n",
              "0        47353    2019-09-22    Sunday        0                   c01d24da   \n",
              "1        47353    2019-09-22    Sunday        0                   c01d24da   \n",
              "2        47343    2019-09-12  Thursday        0                   c01d24da   \n",
              "3        47351    2019-09-20    Friday        0                   c01d24da   \n",
              "4        47331    2019-08-31  Saturday        0                   c01d24da   \n",
              "\n",
              "       first_call_time  id_city          name  \n",
              "0  2018-09-22 20:04:43    43006  Minas Tirith  \n",
              "1  2018-09-22 20:04:43    43006  Minas Tirith  \n",
              "2  2018-09-22 20:04:43    43006  Minas Tirith  \n",
              "3  2018-09-22 20:04:43    43006  Minas Tirith  \n",
              "4  2018-09-22 20:04:43    43006  Minas Tirith  "
            ]
          },
          "execution_count": 23,
          "metadata": {},
          "output_type": "execute_result"
        }
      ],
      "source": [
        "trip_calendar_passenger_city.head()"
      ]
    },
    {
      "cell_type": "code",
      "execution_count": null,
      "id": "0d891482",
      "metadata": {
        "colab": {
          "base_uri": "https://localhost:8080/"
        },
        "id": "0d891482",
        "outputId": "ba9341fa-01b9-4615-9119-c8776d82201a"
      },
      "outputs": [
        {
          "data": {
            "text/plain": [
              "<bound method DataFrame.info of           id_trip driver_id passenger_id  city_id           call_time  \\\n",
              "0        48d284eb  e3e77255     c01d24da    43006 2019-09-22 02:06:34   \n",
              "1        8bd39604  b199e84a     c01d24da    43006 2019-09-22 01:48:39   \n",
              "2        b03cd256  bf367601     c01d24da    43006 2019-09-12 05:38:07   \n",
              "3        b394dfb7  cb37f75b     c01d24da    43006 2019-09-20 02:28:14   \n",
              "4        5232ed7c  4bb1a12a     c01d24da    43006 2019-08-31 08:34:16   \n",
              "...           ...       ...          ...      ...                 ...   \n",
              "2318352  448d215d  06185804     6b73f500    43050 2019-08-29 01:20:21   \n",
              "2318353  44e2ffea  6e026578     af737794    43050 2019-08-29 00:37:34   \n",
              "2318354  465654bf  d4da63ed     577a0f2c    43050 2019-08-29 00:20:15   \n",
              "2318355  46ea4d4e  53de3b11     7f3321c1    43050 2019-08-29 02:20:33   \n",
              "2318356  470fc9d1  561eefb0     5fe62436    43050 2019-08-29 18:05:03   \n",
              "\n",
              "                finish_time  surge_rate  trip_distance  trip_fare        date  \\\n",
              "0       2019-09-22 02:16:07         0.0           2.43       3.53  2019-09-22   \n",
              "1       2019-09-22 02:00:38         0.0           2.22       1.80  2019-09-22   \n",
              "2       2019-09-12 05:46:14         0.1           2.85       4.03  2019-09-12   \n",
              "3       2019-09-20 02:43:11         0.0           5.40       5.65  2019-09-20   \n",
              "4       2019-08-31 09:00:52         0.0           2.26       3.50  2019-08-31   \n",
              "...                     ...         ...            ...        ...         ...   \n",
              "2318352 2019-08-29 01:52:58         0.0           4.08       5.89  2019-08-29   \n",
              "2318353 2019-08-29 00:51:59         0.0           2.90       4.43  2019-08-29   \n",
              "2318354 2019-08-29 00:34:34         0.0           4.00       4.04  2019-08-29   \n",
              "2318355 2019-08-29 02:37:32         0.0           5.02       4.57  2019-08-29   \n",
              "2318356 2019-08-29 18:31:23         0.0           6.48       3.04  2019-08-29   \n",
              "\n",
              "         id_calendar calendar_date  week_day  holiday  \\\n",
              "0              47353    2019-09-22    Sunday        0   \n",
              "1              47353    2019-09-22    Sunday        0   \n",
              "2              47343    2019-09-12  Thursday        0   \n",
              "3              47351    2019-09-20    Friday        0   \n",
              "4              47331    2019-08-31  Saturday        0   \n",
              "...              ...           ...       ...      ...   \n",
              "2318352        47329    2019-08-29  Thursday        0   \n",
              "2318353        47329    2019-08-29  Thursday        0   \n",
              "2318354        47329    2019-08-29  Thursday        0   \n",
              "2318355        47329    2019-08-29  Thursday        0   \n",
              "2318356        47329    2019-08-29  Thursday        0   \n",
              "\n",
              "        id_trip_calendar_passenger      first_call_time  id_city          name  \n",
              "0                         c01d24da  2018-09-22 20:04:43    43006  Minas Tirith  \n",
              "1                         c01d24da  2018-09-22 20:04:43    43006  Minas Tirith  \n",
              "2                         c01d24da  2018-09-22 20:04:43    43006  Minas Tirith  \n",
              "3                         c01d24da  2018-09-22 20:04:43    43006  Minas Tirith  \n",
              "4                         c01d24da  2018-09-22 20:04:43    43006  Minas Tirith  \n",
              "...                            ...                  ...      ...           ...  \n",
              "2318352                   6b73f500  2019-07-01 19:43:10    43050        Gondor  \n",
              "2318353                   af737794  2018-05-08 06:16:09    43050        Gondor  \n",
              "2318354                   577a0f2c  2018-03-04 22:52:58    43050        Gondor  \n",
              "2318355                   7f3321c1  2018-11-22 11:18:17    43050        Gondor  \n",
              "2318356                   5fe62436  2018-09-14 02:44:09    43050        Gondor  \n",
              "\n",
              "[2318357 rows x 18 columns]>"
            ]
          },
          "execution_count": 24,
          "metadata": {},
          "output_type": "execute_result"
        }
      ],
      "source": [
        "trip_calendar_passenger_city.info"
      ]
    },
    {
      "cell_type": "markdown",
      "id": "5148b6b5",
      "metadata": {
        "id": "5148b6b5"
      },
      "source": [
        "same amount of rows as trip table /\\"
      ]
    },
    {
      "cell_type": "markdown",
      "id": "2451cc98",
      "metadata": {
        "id": "2451cc98"
      },
      "source": [
        "# 1. What is the average trip cost of holidays? How does it compare to non-holidays? \n"
      ]
    },
    {
      "cell_type": "code",
      "execution_count": null,
      "id": "8f37f56f",
      "metadata": {
        "colab": {
          "base_uri": "https://localhost:8080/"
        },
        "id": "8f37f56f",
        "outputId": "0cec681c-d8f3-48a6-e754-bf9fa002a2df"
      },
      "outputs": [
        {
          "name": "stdout",
          "output_type": "stream",
          "text": [
            "         trip_fare\n",
            "holiday           \n",
            "0         5.247633\n",
            "1         5.448893\n"
          ]
        }
      ],
      "source": [
        "hol_non_hol = trip_calendar_passenger_city.groupby('holiday').agg({'trip_fare':'mean'})\n",
        "print(hol_non_hol)"
      ]
    },
    {
      "cell_type": "code",
      "execution_count": null,
      "id": "a9c186f1",
      "metadata": {
        "colab": {
          "base_uri": "https://localhost:8080/"
        },
        "id": "a9c186f1",
        "outputId": "2fa3b8bb-10cc-41a9-c41a-ef29d4dc1ffb"
      },
      "outputs": [
        {
          "name": "stdout",
          "output_type": "stream",
          "text": [
            "The difference (in average) of the fare in non holiday days and in holiday days is -3.69%\n"
          ]
        }
      ],
      "source": [
        "non_holiday = hol_non_hol.iloc[0,0] \n",
        "holiday = hol_non_hol.iloc[1,0]\n",
        "\n",
        "diff = round(((non_holiday / holiday) -1)*100,2)\n",
        "print('The difference (in average) of the fare in non holiday days and in holiday days is '+ str(diff)+'%')"
      ]
    },
    {
      "cell_type": "code",
      "execution_count": null,
      "id": "31c4c83f",
      "metadata": {
        "colab": {
          "base_uri": "https://localhost:8080/",
          "height": 351
        },
        "id": "31c4c83f",
        "outputId": "43572f6b-2301-415f-f67e-7f7d377d3f8d"
      },
      "outputs": [
        {
          "data": {
            "text/plain": [
              "<AxesSubplot:xlabel='holiday', ylabel='trip_fare'>"
            ]
          },
          "execution_count": 27,
          "metadata": {},
          "output_type": "execute_result"
        },
        {
          "data": {
            "image/png": "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\n",
            "text/plain": [
              "<Figure size 576x360 with 1 Axes>"
            ]
          },
          "metadata": {
            "needs_background": "light"
          },
          "output_type": "display_data"
        }
      ],
      "source": [
        "plt.figure(figsize=(8,5))\n",
        "sns.barplot(x='holiday',y='trip_fare', ci='sd', data=trip_calendar_passenger_city)"
      ]
    },
    {
      "cell_type": "markdown",
      "id": "78cc71b0",
      "metadata": {
        "id": "78cc71b0"
      },
      "source": [
        "# 2. Find the average call time (the time in which a trip was requested) of the first time passengers make a trip. \n"
      ]
    },
    {
      "cell_type": "code",
      "execution_count": null,
      "id": "52d7a63a",
      "metadata": {
        "id": "52d7a63a"
      },
      "outputs": [],
      "source": [
        "trip_calendar_passenger_city['first_call_time'] = pd.to_datetime(trip_calendar_passenger_city['first_call_time'])"
      ]
    },
    {
      "cell_type": "code",
      "execution_count": null,
      "id": "2e7c2a88",
      "metadata": {
        "colab": {
          "base_uri": "https://localhost:8080/",
          "height": 424
        },
        "id": "2e7c2a88",
        "outputId": "c157c7c7-6994-45ee-fb95-39e89e1f6762"
      },
      "outputs": [
        {
          "data": {
            "text/html": [
              "<div>\n",
              "<style scoped>\n",
              "    .dataframe tbody tr th:only-of-type {\n",
              "        vertical-align: middle;\n",
              "    }\n",
              "\n",
              "    .dataframe tbody tr th {\n",
              "        vertical-align: top;\n",
              "    }\n",
              "\n",
              "    .dataframe thead th {\n",
              "        text-align: right;\n",
              "    }\n",
              "</style>\n",
              "<table border=\"1\" class=\"dataframe\">\n",
              "  <thead>\n",
              "    <tr style=\"text-align: right;\">\n",
              "      <th></th>\n",
              "      <th>id_trip</th>\n",
              "      <th>driver_id</th>\n",
              "      <th>passenger_id</th>\n",
              "      <th>city_id</th>\n",
              "      <th>call_time</th>\n",
              "      <th>finish_time</th>\n",
              "      <th>surge_rate</th>\n",
              "      <th>trip_distance</th>\n",
              "      <th>trip_fare</th>\n",
              "      <th>date</th>\n",
              "      <th>id_calendar</th>\n",
              "      <th>calendar_date</th>\n",
              "      <th>week_day</th>\n",
              "      <th>holiday</th>\n",
              "      <th>id_trip_calendar_passenger</th>\n",
              "      <th>first_call_time</th>\n",
              "      <th>id_city</th>\n",
              "      <th>name</th>\n",
              "      <th>first_call_time_hour</th>\n",
              "      <th>call_time_hour</th>\n",
              "    </tr>\n",
              "  </thead>\n",
              "  <tbody>\n",
              "    <tr>\n",
              "      <th>0</th>\n",
              "      <td>48d284eb</td>\n",
              "      <td>e3e77255</td>\n",
              "      <td>c01d24da</td>\n",
              "      <td>43006</td>\n",
              "      <td>2019-09-22 02:06:34</td>\n",
              "      <td>2019-09-22 02:16:07</td>\n",
              "      <td>0.0</td>\n",
              "      <td>2.43</td>\n",
              "      <td>3.53</td>\n",
              "      <td>2019-09-22</td>\n",
              "      <td>47353</td>\n",
              "      <td>2019-09-22</td>\n",
              "      <td>Sunday</td>\n",
              "      <td>0</td>\n",
              "      <td>c01d24da</td>\n",
              "      <td>2018-09-22 20:04:43</td>\n",
              "      <td>43006</td>\n",
              "      <td>Minas Tirith</td>\n",
              "      <td>20</td>\n",
              "      <td>2</td>\n",
              "    </tr>\n",
              "    <tr>\n",
              "      <th>1</th>\n",
              "      <td>8bd39604</td>\n",
              "      <td>b199e84a</td>\n",
              "      <td>c01d24da</td>\n",
              "      <td>43006</td>\n",
              "      <td>2019-09-22 01:48:39</td>\n",
              "      <td>2019-09-22 02:00:38</td>\n",
              "      <td>0.0</td>\n",
              "      <td>2.22</td>\n",
              "      <td>1.80</td>\n",
              "      <td>2019-09-22</td>\n",
              "      <td>47353</td>\n",
              "      <td>2019-09-22</td>\n",
              "      <td>Sunday</td>\n",
              "      <td>0</td>\n",
              "      <td>c01d24da</td>\n",
              "      <td>2018-09-22 20:04:43</td>\n",
              "      <td>43006</td>\n",
              "      <td>Minas Tirith</td>\n",
              "      <td>20</td>\n",
              "      <td>1</td>\n",
              "    </tr>\n",
              "    <tr>\n",
              "      <th>2</th>\n",
              "      <td>b03cd256</td>\n",
              "      <td>bf367601</td>\n",
              "      <td>c01d24da</td>\n",
              "      <td>43006</td>\n",
              "      <td>2019-09-12 05:38:07</td>\n",
              "      <td>2019-09-12 05:46:14</td>\n",
              "      <td>0.1</td>\n",
              "      <td>2.85</td>\n",
              "      <td>4.03</td>\n",
              "      <td>2019-09-12</td>\n",
              "      <td>47343</td>\n",
              "      <td>2019-09-12</td>\n",
              "      <td>Thursday</td>\n",
              "      <td>0</td>\n",
              "      <td>c01d24da</td>\n",
              "      <td>2018-09-22 20:04:43</td>\n",
              "      <td>43006</td>\n",
              "      <td>Minas Tirith</td>\n",
              "      <td>20</td>\n",
              "      <td>5</td>\n",
              "    </tr>\n",
              "    <tr>\n",
              "      <th>3</th>\n",
              "      <td>b394dfb7</td>\n",
              "      <td>cb37f75b</td>\n",
              "      <td>c01d24da</td>\n",
              "      <td>43006</td>\n",
              "      <td>2019-09-20 02:28:14</td>\n",
              "      <td>2019-09-20 02:43:11</td>\n",
              "      <td>0.0</td>\n",
              "      <td>5.40</td>\n",
              "      <td>5.65</td>\n",
              "      <td>2019-09-20</td>\n",
              "      <td>47351</td>\n",
              "      <td>2019-09-20</td>\n",
              "      <td>Friday</td>\n",
              "      <td>0</td>\n",
              "      <td>c01d24da</td>\n",
              "      <td>2018-09-22 20:04:43</td>\n",
              "      <td>43006</td>\n",
              "      <td>Minas Tirith</td>\n",
              "      <td>20</td>\n",
              "      <td>2</td>\n",
              "    </tr>\n",
              "    <tr>\n",
              "      <th>4</th>\n",
              "      <td>5232ed7c</td>\n",
              "      <td>4bb1a12a</td>\n",
              "      <td>c01d24da</td>\n",
              "      <td>43006</td>\n",
              "      <td>2019-08-31 08:34:16</td>\n",
              "      <td>2019-08-31 09:00:52</td>\n",
              "      <td>0.0</td>\n",
              "      <td>2.26</td>\n",
              "      <td>3.50</td>\n",
              "      <td>2019-08-31</td>\n",
              "      <td>47331</td>\n",
              "      <td>2019-08-31</td>\n",
              "      <td>Saturday</td>\n",
              "      <td>0</td>\n",
              "      <td>c01d24da</td>\n",
              "      <td>2018-09-22 20:04:43</td>\n",
              "      <td>43006</td>\n",
              "      <td>Minas Tirith</td>\n",
              "      <td>20</td>\n",
              "      <td>8</td>\n",
              "    </tr>\n",
              "    <tr>\n",
              "      <th>...</th>\n",
              "      <td>...</td>\n",
              "      <td>...</td>\n",
              "      <td>...</td>\n",
              "      <td>...</td>\n",
              "      <td>...</td>\n",
              "      <td>...</td>\n",
              "      <td>...</td>\n",
              "      <td>...</td>\n",
              "      <td>...</td>\n",
              "      <td>...</td>\n",
              "      <td>...</td>\n",
              "      <td>...</td>\n",
              "      <td>...</td>\n",
              "      <td>...</td>\n",
              "      <td>...</td>\n",
              "      <td>...</td>\n",
              "      <td>...</td>\n",
              "      <td>...</td>\n",
              "      <td>...</td>\n",
              "      <td>...</td>\n",
              "    </tr>\n",
              "    <tr>\n",
              "      <th>2318352</th>\n",
              "      <td>448d215d</td>\n",
              "      <td>06185804</td>\n",
              "      <td>6b73f500</td>\n",
              "      <td>43050</td>\n",
              "      <td>2019-08-29 01:20:21</td>\n",
              "      <td>2019-08-29 01:52:58</td>\n",
              "      <td>0.0</td>\n",
              "      <td>4.08</td>\n",
              "      <td>5.89</td>\n",
              "      <td>2019-08-29</td>\n",
              "      <td>47329</td>\n",
              "      <td>2019-08-29</td>\n",
              "      <td>Thursday</td>\n",
              "      <td>0</td>\n",
              "      <td>6b73f500</td>\n",
              "      <td>2019-07-01 19:43:10</td>\n",
              "      <td>43050</td>\n",
              "      <td>Gondor</td>\n",
              "      <td>19</td>\n",
              "      <td>1</td>\n",
              "    </tr>\n",
              "    <tr>\n",
              "      <th>2318353</th>\n",
              "      <td>44e2ffea</td>\n",
              "      <td>6e026578</td>\n",
              "      <td>af737794</td>\n",
              "      <td>43050</td>\n",
              "      <td>2019-08-29 00:37:34</td>\n",
              "      <td>2019-08-29 00:51:59</td>\n",
              "      <td>0.0</td>\n",
              "      <td>2.90</td>\n",
              "      <td>4.43</td>\n",
              "      <td>2019-08-29</td>\n",
              "      <td>47329</td>\n",
              "      <td>2019-08-29</td>\n",
              "      <td>Thursday</td>\n",
              "      <td>0</td>\n",
              "      <td>af737794</td>\n",
              "      <td>2018-05-08 06:16:09</td>\n",
              "      <td>43050</td>\n",
              "      <td>Gondor</td>\n",
              "      <td>6</td>\n",
              "      <td>0</td>\n",
              "    </tr>\n",
              "    <tr>\n",
              "      <th>2318354</th>\n",
              "      <td>465654bf</td>\n",
              "      <td>d4da63ed</td>\n",
              "      <td>577a0f2c</td>\n",
              "      <td>43050</td>\n",
              "      <td>2019-08-29 00:20:15</td>\n",
              "      <td>2019-08-29 00:34:34</td>\n",
              "      <td>0.0</td>\n",
              "      <td>4.00</td>\n",
              "      <td>4.04</td>\n",
              "      <td>2019-08-29</td>\n",
              "      <td>47329</td>\n",
              "      <td>2019-08-29</td>\n",
              "      <td>Thursday</td>\n",
              "      <td>0</td>\n",
              "      <td>577a0f2c</td>\n",
              "      <td>2018-03-04 22:52:58</td>\n",
              "      <td>43050</td>\n",
              "      <td>Gondor</td>\n",
              "      <td>22</td>\n",
              "      <td>0</td>\n",
              "    </tr>\n",
              "    <tr>\n",
              "      <th>2318355</th>\n",
              "      <td>46ea4d4e</td>\n",
              "      <td>53de3b11</td>\n",
              "      <td>7f3321c1</td>\n",
              "      <td>43050</td>\n",
              "      <td>2019-08-29 02:20:33</td>\n",
              "      <td>2019-08-29 02:37:32</td>\n",
              "      <td>0.0</td>\n",
              "      <td>5.02</td>\n",
              "      <td>4.57</td>\n",
              "      <td>2019-08-29</td>\n",
              "      <td>47329</td>\n",
              "      <td>2019-08-29</td>\n",
              "      <td>Thursday</td>\n",
              "      <td>0</td>\n",
              "      <td>7f3321c1</td>\n",
              "      <td>2018-11-22 11:18:17</td>\n",
              "      <td>43050</td>\n",
              "      <td>Gondor</td>\n",
              "      <td>11</td>\n",
              "      <td>2</td>\n",
              "    </tr>\n",
              "    <tr>\n",
              "      <th>2318356</th>\n",
              "      <td>470fc9d1</td>\n",
              "      <td>561eefb0</td>\n",
              "      <td>5fe62436</td>\n",
              "      <td>43050</td>\n",
              "      <td>2019-08-29 18:05:03</td>\n",
              "      <td>2019-08-29 18:31:23</td>\n",
              "      <td>0.0</td>\n",
              "      <td>6.48</td>\n",
              "      <td>3.04</td>\n",
              "      <td>2019-08-29</td>\n",
              "      <td>47329</td>\n",
              "      <td>2019-08-29</td>\n",
              "      <td>Thursday</td>\n",
              "      <td>0</td>\n",
              "      <td>5fe62436</td>\n",
              "      <td>2018-09-14 02:44:09</td>\n",
              "      <td>43050</td>\n",
              "      <td>Gondor</td>\n",
              "      <td>2</td>\n",
              "      <td>18</td>\n",
              "    </tr>\n",
              "  </tbody>\n",
              "</table>\n",
              "<p>2318357 rows × 20 columns</p>\n",
              "</div>"
            ],
            "text/plain": [
              "          id_trip driver_id passenger_id  city_id           call_time  \\\n",
              "0        48d284eb  e3e77255     c01d24da    43006 2019-09-22 02:06:34   \n",
              "1        8bd39604  b199e84a     c01d24da    43006 2019-09-22 01:48:39   \n",
              "2        b03cd256  bf367601     c01d24da    43006 2019-09-12 05:38:07   \n",
              "3        b394dfb7  cb37f75b     c01d24da    43006 2019-09-20 02:28:14   \n",
              "4        5232ed7c  4bb1a12a     c01d24da    43006 2019-08-31 08:34:16   \n",
              "...           ...       ...          ...      ...                 ...   \n",
              "2318352  448d215d  06185804     6b73f500    43050 2019-08-29 01:20:21   \n",
              "2318353  44e2ffea  6e026578     af737794    43050 2019-08-29 00:37:34   \n",
              "2318354  465654bf  d4da63ed     577a0f2c    43050 2019-08-29 00:20:15   \n",
              "2318355  46ea4d4e  53de3b11     7f3321c1    43050 2019-08-29 02:20:33   \n",
              "2318356  470fc9d1  561eefb0     5fe62436    43050 2019-08-29 18:05:03   \n",
              "\n",
              "                finish_time  surge_rate  trip_distance  trip_fare        date  \\\n",
              "0       2019-09-22 02:16:07         0.0           2.43       3.53  2019-09-22   \n",
              "1       2019-09-22 02:00:38         0.0           2.22       1.80  2019-09-22   \n",
              "2       2019-09-12 05:46:14         0.1           2.85       4.03  2019-09-12   \n",
              "3       2019-09-20 02:43:11         0.0           5.40       5.65  2019-09-20   \n",
              "4       2019-08-31 09:00:52         0.0           2.26       3.50  2019-08-31   \n",
              "...                     ...         ...            ...        ...         ...   \n",
              "2318352 2019-08-29 01:52:58         0.0           4.08       5.89  2019-08-29   \n",
              "2318353 2019-08-29 00:51:59         0.0           2.90       4.43  2019-08-29   \n",
              "2318354 2019-08-29 00:34:34         0.0           4.00       4.04  2019-08-29   \n",
              "2318355 2019-08-29 02:37:32         0.0           5.02       4.57  2019-08-29   \n",
              "2318356 2019-08-29 18:31:23         0.0           6.48       3.04  2019-08-29   \n",
              "\n",
              "         id_calendar calendar_date  week_day  holiday  \\\n",
              "0              47353    2019-09-22    Sunday        0   \n",
              "1              47353    2019-09-22    Sunday        0   \n",
              "2              47343    2019-09-12  Thursday        0   \n",
              "3              47351    2019-09-20    Friday        0   \n",
              "4              47331    2019-08-31  Saturday        0   \n",
              "...              ...           ...       ...      ...   \n",
              "2318352        47329    2019-08-29  Thursday        0   \n",
              "2318353        47329    2019-08-29  Thursday        0   \n",
              "2318354        47329    2019-08-29  Thursday        0   \n",
              "2318355        47329    2019-08-29  Thursday        0   \n",
              "2318356        47329    2019-08-29  Thursday        0   \n",
              "\n",
              "        id_trip_calendar_passenger     first_call_time  id_city          name  \\\n",
              "0                         c01d24da 2018-09-22 20:04:43    43006  Minas Tirith   \n",
              "1                         c01d24da 2018-09-22 20:04:43    43006  Minas Tirith   \n",
              "2                         c01d24da 2018-09-22 20:04:43    43006  Minas Tirith   \n",
              "3                         c01d24da 2018-09-22 20:04:43    43006  Minas Tirith   \n",
              "4                         c01d24da 2018-09-22 20:04:43    43006  Minas Tirith   \n",
              "...                            ...                 ...      ...           ...   \n",
              "2318352                   6b73f500 2019-07-01 19:43:10    43050        Gondor   \n",
              "2318353                   af737794 2018-05-08 06:16:09    43050        Gondor   \n",
              "2318354                   577a0f2c 2018-03-04 22:52:58    43050        Gondor   \n",
              "2318355                   7f3321c1 2018-11-22 11:18:17    43050        Gondor   \n",
              "2318356                   5fe62436 2018-09-14 02:44:09    43050        Gondor   \n",
              "\n",
              "         first_call_time_hour  call_time_hour  \n",
              "0                          20               2  \n",
              "1                          20               1  \n",
              "2                          20               5  \n",
              "3                          20               2  \n",
              "4                          20               8  \n",
              "...                       ...             ...  \n",
              "2318352                    19               1  \n",
              "2318353                     6               0  \n",
              "2318354                    22               0  \n",
              "2318355                    11               2  \n",
              "2318356                     2              18  \n",
              "\n",
              "[2318357 rows x 20 columns]"
            ]
          },
          "execution_count": 29,
          "metadata": {},
          "output_type": "execute_result"
        }
      ],
      "source": [
        "trip_calendar_passenger_city['first_call_time_hour'] = trip_calendar_passenger_city['first_call_time'].dt.hour\n",
        "trip_calendar_passenger_city['call_time_hour'] = trip_calendar_passenger_city['call_time'].dt.hour\n",
        "\n",
        "trip_calendar_passenger_city"
      ]
    },
    {
      "cell_type": "code",
      "execution_count": null,
      "id": "558bf0fd",
      "metadata": {
        "colab": {
          "base_uri": "https://localhost:8080/",
          "height": 455
        },
        "id": "558bf0fd",
        "outputId": "ba55b99a-614a-4400-e2ab-0c6da21a7eff"
      },
      "outputs": [
        {
          "data": {
            "text/html": [
              "<div>\n",
              "<style scoped>\n",
              "    .dataframe tbody tr th:only-of-type {\n",
              "        vertical-align: middle;\n",
              "    }\n",
              "\n",
              "    .dataframe tbody tr th {\n",
              "        vertical-align: top;\n",
              "    }\n",
              "\n",
              "    .dataframe thead th {\n",
              "        text-align: right;\n",
              "    }\n",
              "</style>\n",
              "<table border=\"1\" class=\"dataframe\">\n",
              "  <thead>\n",
              "    <tr style=\"text-align: right;\">\n",
              "      <th></th>\n",
              "      <th>first_call_time_hour</th>\n",
              "    </tr>\n",
              "    <tr>\n",
              "      <th>id_trip_calendar_passenger</th>\n",
              "      <th></th>\n",
              "    </tr>\n",
              "  </thead>\n",
              "  <tbody>\n",
              "    <tr>\n",
              "      <th>00000fab</th>\n",
              "      <td>20.0</td>\n",
              "    </tr>\n",
              "    <tr>\n",
              "      <th>0000149d</th>\n",
              "      <td>21.0</td>\n",
              "    </tr>\n",
              "    <tr>\n",
              "      <th>00002b66</th>\n",
              "      <td>21.0</td>\n",
              "    </tr>\n",
              "    <tr>\n",
              "      <th>00002bc7</th>\n",
              "      <td>11.0</td>\n",
              "    </tr>\n",
              "    <tr>\n",
              "      <th>0000332e</th>\n",
              "      <td>23.0</td>\n",
              "    </tr>\n",
              "    <tr>\n",
              "      <th>...</th>\n",
              "      <td>...</td>\n",
              "    </tr>\n",
              "    <tr>\n",
              "      <th>ffffc015</th>\n",
              "      <td>3.0</td>\n",
              "    </tr>\n",
              "    <tr>\n",
              "      <th>ffffc4f2</th>\n",
              "      <td>6.0</td>\n",
              "    </tr>\n",
              "    <tr>\n",
              "      <th>ffffcb5d</th>\n",
              "      <td>0.0</td>\n",
              "    </tr>\n",
              "    <tr>\n",
              "      <th>fffffa8e</th>\n",
              "      <td>6.0</td>\n",
              "    </tr>\n",
              "    <tr>\n",
              "      <th>fffffca2</th>\n",
              "      <td>7.0</td>\n",
              "    </tr>\n",
              "  </tbody>\n",
              "</table>\n",
              "<p>1195765 rows × 1 columns</p>\n",
              "</div>"
            ],
            "text/plain": [
              "                            first_call_time_hour\n",
              "id_trip_calendar_passenger                      \n",
              "00000fab                                    20.0\n",
              "0000149d                                    21.0\n",
              "00002b66                                    21.0\n",
              "00002bc7                                    11.0\n",
              "0000332e                                    23.0\n",
              "...                                          ...\n",
              "ffffc015                                     3.0\n",
              "ffffc4f2                                     6.0\n",
              "ffffcb5d                                     0.0\n",
              "fffffa8e                                     6.0\n",
              "fffffca2                                     7.0\n",
              "\n",
              "[1195765 rows x 1 columns]"
            ]
          },
          "execution_count": 30,
          "metadata": {},
          "output_type": "execute_result"
        }
      ],
      "source": [
        "grouped_call_time_hour = trip_calendar_passenger_city.groupby('id_trip_calendar_passenger').agg({'first_call_time_hour':'mean'})\n",
        "grouped_call_time_hour"
      ]
    },
    {
      "cell_type": "code",
      "execution_count": null,
      "id": "5a681dc1",
      "metadata": {
        "colab": {
          "base_uri": "https://localhost:8080/",
          "height": 404
        },
        "id": "5a681dc1",
        "outputId": "d292fd93-adeb-4749-f0f5-d7a475461cee"
      },
      "outputs": [
        {
          "data": {
            "text/plain": [
              "<seaborn.axisgrid.FacetGrid at 0x14d52c65400>"
            ]
          },
          "execution_count": 31,
          "metadata": {},
          "output_type": "execute_result"
        },
        {
          "data": {
            "text/plain": [
              "<Figure size 1440x1440 with 0 Axes>"
            ]
          },
          "metadata": {},
          "output_type": "display_data"
        },
        {
          "data": {
            "image/png": "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\n",
            "text/plain": [
              "<Figure size 360x360 with 1 Axes>"
            ]
          },
          "metadata": {
            "needs_background": "light"
          },
          "output_type": "display_data"
        }
      ],
      "source": [
        "plt.figure(figsize=(20,20))\n",
        "x_labels = list(range(0,24))\n",
        "g = sns.catplot(x='first_call_time_hour',kind='count', data=grouped_call_time_hour, palette='Spectral')\n",
        "g.set(xticklabels=x_labels)"
      ]
    },
    {
      "cell_type": "code",
      "execution_count": null,
      "id": "18313538",
      "metadata": {
        "colab": {
          "base_uri": "https://localhost:8080/"
        },
        "id": "18313538",
        "outputId": "d8e2e8fd-b7a3-4250-87ec-11113aebff09"
      },
      "outputs": [
        {
          "data": {
            "text/plain": [
              "{5: 0.073,\n",
              " 6: 0.07,\n",
              " 4: 0.065,\n",
              " 0: 0.062,\n",
              " 1: 0.059,\n",
              " 3: 0.058,\n",
              " 23: 0.057,\n",
              " 2: 0.056,\n",
              " 7: 0.056,\n",
              " 8: 0.05,\n",
              " 22: 0.049,\n",
              " 19: 0.047,\n",
              " 20: 0.046,\n",
              " 21: 0.046,\n",
              " 9: 0.043,\n",
              " 18: 0.043,\n",
              " 10: 0.029,\n",
              " 17: 0.027,\n",
              " 11: 0.018,\n",
              " 16: 0.012,\n",
              " 12: 0.011,\n",
              " 13: 0.008,\n",
              " 15: 0.007,\n",
              " 14: 0.007}"
            ]
          },
          "execution_count": 32,
          "metadata": {},
          "output_type": "execute_result"
        }
      ],
      "source": [
        "as_percent = dict(round(trip_calendar_passenger_city['first_call_time_hour'].value_counts(normalize=True),3))\n",
        "as_percent"
      ]
    },
    {
      "cell_type": "code",
      "execution_count": null,
      "id": "237573ff",
      "metadata": {
        "id": "237573ff"
      },
      "outputs": [],
      "source": [
        "answer = list(as_percent.keys())[0]"
      ]
    },
    {
      "cell_type": "code",
      "execution_count": null,
      "id": "80930a8a",
      "metadata": {
        "colab": {
          "base_uri": "https://localhost:8080/"
        },
        "id": "80930a8a",
        "outputId": "ea843cf9-1965-4e5e-ee92-cbae51afc3cb"
      },
      "outputs": [
        {
          "name": "stdout",
          "output_type": "stream",
          "text": [
            "The hour with the most first calls is 5h AM\n"
          ]
        }
      ],
      "source": [
        "print('The hour with the most first calls is ' + str(answer)+'h AM')"
      ]
    },
    {
      "cell_type": "markdown",
      "id": "9b378d6e",
      "metadata": {
        "id": "9b378d6e"
      },
      "source": [
        "BONUS"
      ]
    },
    {
      "cell_type": "code",
      "execution_count": null,
      "id": "c6470a00",
      "metadata": {
        "colab": {
          "base_uri": "https://localhost:8080/",
          "height": 404
        },
        "id": "c6470a00",
        "outputId": "09bccea8-fc5a-4b6b-c637-0b7c2c8db538"
      },
      "outputs": [
        {
          "data": {
            "text/plain": [
              "<seaborn.axisgrid.FacetGrid at 0x14d52cec640>"
            ]
          },
          "execution_count": 35,
          "metadata": {},
          "output_type": "execute_result"
        },
        {
          "data": {
            "text/plain": [
              "<Figure size 1440x1440 with 0 Axes>"
            ]
          },
          "metadata": {},
          "output_type": "display_data"
        },
        {
          "data": {
            "image/png": "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\n",
            "text/plain": [
              "<Figure size 360x360 with 1 Axes>"
            ]
          },
          "metadata": {
            "needs_background": "light"
          },
          "output_type": "display_data"
        }
      ],
      "source": [
        "plt.figure(figsize=(20,20))\n",
        "sns.catplot(x='call_time_hour',kind='count', data=trip_calendar_passenger_city, palette='Spectral')"
      ]
    },
    {
      "cell_type": "code",
      "execution_count": null,
      "id": "5bed7454",
      "metadata": {
        "colab": {
          "base_uri": "https://localhost:8080/"
        },
        "id": "5bed7454",
        "outputId": "13ea8ec9-9cfc-4d7c-e67c-37c88020f0ee"
      },
      "outputs": [
        {
          "data": {
            "text/plain": [
              "{5: 0.069,\n",
              " 6: 0.066,\n",
              " 4: 0.066,\n",
              " 3: 0.061,\n",
              " 0: 0.061,\n",
              " 2: 0.059,\n",
              " 1: 0.059,\n",
              " 23: 0.058,\n",
              " 7: 0.055,\n",
              " 22: 0.052,\n",
              " 19: 0.049,\n",
              " 20: 0.049,\n",
              " 8: 0.049,\n",
              " 21: 0.049,\n",
              " 18: 0.043,\n",
              " 9: 0.04,\n",
              " 10: 0.028,\n",
              " 17: 0.024,\n",
              " 11: 0.019,\n",
              " 12: 0.012,\n",
              " 16: 0.01,\n",
              " 13: 0.008,\n",
              " 14: 0.007,\n",
              " 15: 0.006}"
            ]
          },
          "execution_count": 36,
          "metadata": {},
          "output_type": "execute_result"
        }
      ],
      "source": [
        "as_percent_call_time = dict(round(trip_calendar_passenger_city['call_time_hour'].value_counts(normalize=True),3))\n",
        "as_percent_call_time"
      ]
    },
    {
      "cell_type": "markdown",
      "id": "5e46ce38",
      "metadata": {
        "id": "5e46ce38"
      },
      "source": [
        "# 3. Find the average number of trips per driver for every week day. \n"
      ]
    },
    {
      "cell_type": "code",
      "execution_count": null,
      "id": "75ddaafe",
      "metadata": {
        "id": "75ddaafe"
      },
      "outputs": [],
      "source": [
        "pivottable = pd.pivot_table(data=trip_calendar_passenger_city,\n",
        "                            index='driver_id',\n",
        "                            columns='week_day',\n",
        "                            values='id_trip',\n",
        "                            aggfunc='count',\n",
        "                            fill_value=0,\n",
        "                            margins=True,\n",
        "                            sort=True)\n",
        "cols = pivottable.columns.tolist()"
      ]
    },
    {
      "cell_type": "code",
      "execution_count": null,
      "id": "1ebe12fb",
      "metadata": {
        "colab": {
          "base_uri": "https://localhost:8080/",
          "height": 455
        },
        "id": "1ebe12fb",
        "outputId": "cef3fe71-7952-48df-de41-5bb1dd464b30"
      },
      "outputs": [
        {
          "data": {
            "text/html": [
              "<div>\n",
              "<style scoped>\n",
              "    .dataframe tbody tr th:only-of-type {\n",
              "        vertical-align: middle;\n",
              "    }\n",
              "\n",
              "    .dataframe tbody tr th {\n",
              "        vertical-align: top;\n",
              "    }\n",
              "\n",
              "    .dataframe thead th {\n",
              "        text-align: right;\n",
              "    }\n",
              "</style>\n",
              "<table border=\"1\" class=\"dataframe\">\n",
              "  <thead>\n",
              "    <tr style=\"text-align: right;\">\n",
              "      <th>week_day</th>\n",
              "      <th>Monday</th>\n",
              "      <th>Tuesday</th>\n",
              "      <th>Wednesday</th>\n",
              "      <th>Thursday</th>\n",
              "      <th>Friday</th>\n",
              "      <th>Saturday</th>\n",
              "      <th>Sunday</th>\n",
              "      <th>All</th>\n",
              "    </tr>\n",
              "    <tr>\n",
              "      <th>driver_id</th>\n",
              "      <th></th>\n",
              "      <th></th>\n",
              "      <th></th>\n",
              "      <th></th>\n",
              "      <th></th>\n",
              "      <th></th>\n",
              "      <th></th>\n",
              "      <th></th>\n",
              "    </tr>\n",
              "  </thead>\n",
              "  <tbody>\n",
              "    <tr>\n",
              "      <th>00003225</th>\n",
              "      <td>0</td>\n",
              "      <td>1</td>\n",
              "      <td>0</td>\n",
              "      <td>0</td>\n",
              "      <td>0</td>\n",
              "      <td>0</td>\n",
              "      <td>0</td>\n",
              "      <td>1</td>\n",
              "    </tr>\n",
              "    <tr>\n",
              "      <th>00004bc7</th>\n",
              "      <td>0</td>\n",
              "      <td>1</td>\n",
              "      <td>0</td>\n",
              "      <td>0</td>\n",
              "      <td>0</td>\n",
              "      <td>0</td>\n",
              "      <td>0</td>\n",
              "      <td>1</td>\n",
              "    </tr>\n",
              "    <tr>\n",
              "      <th>0000a85b</th>\n",
              "      <td>0</td>\n",
              "      <td>0</td>\n",
              "      <td>1</td>\n",
              "      <td>3</td>\n",
              "      <td>0</td>\n",
              "      <td>1</td>\n",
              "      <td>1</td>\n",
              "      <td>6</td>\n",
              "    </tr>\n",
              "    <tr>\n",
              "      <th>00010001</th>\n",
              "      <td>5</td>\n",
              "      <td>13</td>\n",
              "      <td>10</td>\n",
              "      <td>10</td>\n",
              "      <td>7</td>\n",
              "      <td>8</td>\n",
              "      <td>2</td>\n",
              "      <td>55</td>\n",
              "    </tr>\n",
              "    <tr>\n",
              "      <th>0001dd02</th>\n",
              "      <td>0</td>\n",
              "      <td>1</td>\n",
              "      <td>0</td>\n",
              "      <td>2</td>\n",
              "      <td>3</td>\n",
              "      <td>5</td>\n",
              "      <td>0</td>\n",
              "      <td>11</td>\n",
              "    </tr>\n",
              "    <tr>\n",
              "      <th>...</th>\n",
              "      <td>...</td>\n",
              "      <td>...</td>\n",
              "      <td>...</td>\n",
              "      <td>...</td>\n",
              "      <td>...</td>\n",
              "      <td>...</td>\n",
              "      <td>...</td>\n",
              "      <td>...</td>\n",
              "    </tr>\n",
              "    <tr>\n",
              "      <th>fffe967b</th>\n",
              "      <td>0</td>\n",
              "      <td>0</td>\n",
              "      <td>0</td>\n",
              "      <td>1</td>\n",
              "      <td>0</td>\n",
              "      <td>0</td>\n",
              "      <td>0</td>\n",
              "      <td>1</td>\n",
              "    </tr>\n",
              "    <tr>\n",
              "      <th>fffec447</th>\n",
              "      <td>0</td>\n",
              "      <td>0</td>\n",
              "      <td>1</td>\n",
              "      <td>0</td>\n",
              "      <td>0</td>\n",
              "      <td>1</td>\n",
              "      <td>0</td>\n",
              "      <td>2</td>\n",
              "    </tr>\n",
              "    <tr>\n",
              "      <th>ffff20ba</th>\n",
              "      <td>0</td>\n",
              "      <td>0</td>\n",
              "      <td>1</td>\n",
              "      <td>0</td>\n",
              "      <td>1</td>\n",
              "      <td>1</td>\n",
              "      <td>2</td>\n",
              "      <td>5</td>\n",
              "    </tr>\n",
              "    <tr>\n",
              "      <th>ffffc6f0</th>\n",
              "      <td>0</td>\n",
              "      <td>1</td>\n",
              "      <td>0</td>\n",
              "      <td>1</td>\n",
              "      <td>0</td>\n",
              "      <td>0</td>\n",
              "      <td>0</td>\n",
              "      <td>2</td>\n",
              "    </tr>\n",
              "    <tr>\n",
              "      <th>All</th>\n",
              "      <td>315033</td>\n",
              "      <td>287873</td>\n",
              "      <td>300167</td>\n",
              "      <td>312550</td>\n",
              "      <td>335609</td>\n",
              "      <td>385554</td>\n",
              "      <td>381571</td>\n",
              "      <td>2318357</td>\n",
              "    </tr>\n",
              "  </tbody>\n",
              "</table>\n",
              "<p>145612 rows × 8 columns</p>\n",
              "</div>"
            ],
            "text/plain": [
              "week_day   Monday  Tuesday  Wednesday  Thursday  Friday  Saturday  Sunday  \\\n",
              "driver_id                                                                   \n",
              "00003225        0        1          0         0       0         0       0   \n",
              "00004bc7        0        1          0         0       0         0       0   \n",
              "0000a85b        0        0          1         3       0         1       1   \n",
              "00010001        5       13         10        10       7         8       2   \n",
              "0001dd02        0        1          0         2       3         5       0   \n",
              "...           ...      ...        ...       ...     ...       ...     ...   \n",
              "fffe967b        0        0          0         1       0         0       0   \n",
              "fffec447        0        0          1         0       0         1       0   \n",
              "ffff20ba        0        0          1         0       1         1       2   \n",
              "ffffc6f0        0        1          0         1       0         0       0   \n",
              "All        315033   287873     300167    312550  335609    385554  381571   \n",
              "\n",
              "week_day       All  \n",
              "driver_id           \n",
              "00003225         1  \n",
              "00004bc7         1  \n",
              "0000a85b         6  \n",
              "00010001        55  \n",
              "0001dd02        11  \n",
              "...            ...  \n",
              "fffe967b         1  \n",
              "fffec447         2  \n",
              "ffff20ba         5  \n",
              "ffffc6f0         2  \n",
              "All        2318357  \n",
              "\n",
              "[145612 rows x 8 columns]"
            ]
          },
          "execution_count": 38,
          "metadata": {},
          "output_type": "execute_result"
        }
      ],
      "source": [
        "pivottable.reindex(columns= ['Monday', 'Tuesday','Wednesday','Thursday','Friday','Saturday','Sunday','All'])"
      ]
    },
    {
      "cell_type": "markdown",
      "id": "f1260e76",
      "metadata": {
        "id": "f1260e76"
      },
      "source": [
        "# 4. Which day of the week drivers usually drive the most distance on average? \n"
      ]
    },
    {
      "cell_type": "code",
      "execution_count": null,
      "id": "30017355",
      "metadata": {
        "id": "30017355"
      },
      "outputs": [],
      "source": [
        "dow = ['Monday', 'Tuesday','Wednesday','Thursday','Friday','Saturday','Sunday']"
      ]
    },
    {
      "cell_type": "code",
      "execution_count": null,
      "id": "bd3f60fe",
      "metadata": {
        "colab": {
          "base_uri": "https://localhost:8080/",
          "height": 300
        },
        "id": "bd3f60fe",
        "outputId": "120278e7-dfa0-49f8-8f0c-5112c4b4ad8a"
      },
      "outputs": [
        {
          "data": {
            "text/html": [
              "<div>\n",
              "<style scoped>\n",
              "    .dataframe tbody tr th:only-of-type {\n",
              "        vertical-align: middle;\n",
              "    }\n",
              "\n",
              "    .dataframe tbody tr th {\n",
              "        vertical-align: top;\n",
              "    }\n",
              "\n",
              "    .dataframe thead th {\n",
              "        text-align: right;\n",
              "    }\n",
              "</style>\n",
              "<table border=\"1\" class=\"dataframe\">\n",
              "  <thead>\n",
              "    <tr style=\"text-align: right;\">\n",
              "      <th></th>\n",
              "      <th>trip_distance</th>\n",
              "    </tr>\n",
              "    <tr>\n",
              "      <th>week_day</th>\n",
              "      <th></th>\n",
              "    </tr>\n",
              "  </thead>\n",
              "  <tbody>\n",
              "    <tr>\n",
              "      <th>Monday</th>\n",
              "      <td>6.485964</td>\n",
              "    </tr>\n",
              "    <tr>\n",
              "      <th>Tuesday</th>\n",
              "      <td>6.127666</td>\n",
              "    </tr>\n",
              "    <tr>\n",
              "      <th>Wednesday</th>\n",
              "      <td>6.056078</td>\n",
              "    </tr>\n",
              "    <tr>\n",
              "      <th>Thursday</th>\n",
              "      <td>6.089861</td>\n",
              "    </tr>\n",
              "    <tr>\n",
              "      <th>Friday</th>\n",
              "      <td>6.174418</td>\n",
              "    </tr>\n",
              "    <tr>\n",
              "      <th>Saturday</th>\n",
              "      <td>6.342677</td>\n",
              "    </tr>\n",
              "    <tr>\n",
              "      <th>Sunday</th>\n",
              "      <td>6.630458</td>\n",
              "    </tr>\n",
              "  </tbody>\n",
              "</table>\n",
              "</div>"
            ],
            "text/plain": [
              "           trip_distance\n",
              "week_day                \n",
              "Monday          6.485964\n",
              "Tuesday         6.127666\n",
              "Wednesday       6.056078\n",
              "Thursday        6.089861\n",
              "Friday          6.174418\n",
              "Saturday        6.342677\n",
              "Sunday          6.630458"
            ]
          },
          "execution_count": 40,
          "metadata": {},
          "output_type": "execute_result"
        }
      ],
      "source": [
        "trip_dist_groupedby_weekday = trip_calendar_passenger_city.groupby('week_day').agg({'trip_distance':'mean'})\n",
        "trip_dist_groupedby_weekday.reindex(dow)"
      ]
    },
    {
      "cell_type": "code",
      "execution_count": null,
      "id": "484da8c4",
      "metadata": {
        "colab": {
          "base_uri": "https://localhost:8080/",
          "height": 297
        },
        "id": "484da8c4",
        "outputId": "59030758-58fc-4fe3-c7b4-2b1258396211"
      },
      "outputs": [
        {
          "data": {
            "text/plain": [
              "<AxesSubplot:xlabel='week_day', ylabel='trip_distance'>"
            ]
          },
          "execution_count": 41,
          "metadata": {},
          "output_type": "execute_result"
        },
        {
          "data": {
            "image/png": "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\n",
            "text/plain": [
              "<Figure size 432x288 with 1 Axes>"
            ]
          },
          "metadata": {
            "needs_background": "light"
          },
          "output_type": "display_data"
        }
      ],
      "source": [
        "sns.barplot(y='trip_distance', x='week_day', order=dow , ci='sd', data=trip_calendar_passenger_city)"
      ]
    },
    {
      "cell_type": "markdown",
      "id": "3fd47392",
      "metadata": {
        "id": "3fd47392"
      },
      "source": [
        "# 5. What was the growth percentage of rides month over month? \n"
      ]
    },
    {
      "cell_type": "code",
      "execution_count": null,
      "id": "385939c7",
      "metadata": {
        "colab": {
          "base_uri": "https://localhost:8080/",
          "height": 206
        },
        "id": "385939c7",
        "outputId": "8b1fb677-e27e-41ea-e6aa-7ade27227e39"
      },
      "outputs": [
        {
          "data": {
            "text/html": [
              "<div>\n",
              "<style scoped>\n",
              "    .dataframe tbody tr th:only-of-type {\n",
              "        vertical-align: middle;\n",
              "    }\n",
              "\n",
              "    .dataframe tbody tr th {\n",
              "        vertical-align: top;\n",
              "    }\n",
              "\n",
              "    .dataframe thead th {\n",
              "        text-align: right;\n",
              "    }\n",
              "</style>\n",
              "<table border=\"1\" class=\"dataframe\">\n",
              "  <thead>\n",
              "    <tr style=\"text-align: right;\">\n",
              "      <th></th>\n",
              "      <th>id_trip</th>\n",
              "      <th>driver_id</th>\n",
              "      <th>passenger_id</th>\n",
              "      <th>city_id</th>\n",
              "      <th>call_time</th>\n",
              "      <th>finish_time</th>\n",
              "      <th>surge_rate</th>\n",
              "      <th>trip_distance</th>\n",
              "      <th>trip_fare</th>\n",
              "      <th>date</th>\n",
              "      <th>id_calendar</th>\n",
              "      <th>calendar_date</th>\n",
              "      <th>week_day</th>\n",
              "      <th>holiday</th>\n",
              "      <th>id_trip_calendar_passenger</th>\n",
              "      <th>first_call_time</th>\n",
              "      <th>id_city</th>\n",
              "      <th>name</th>\n",
              "      <th>first_call_time_hour</th>\n",
              "      <th>call_time_hour</th>\n",
              "    </tr>\n",
              "  </thead>\n",
              "  <tbody>\n",
              "    <tr>\n",
              "      <th>0</th>\n",
              "      <td>48d284eb</td>\n",
              "      <td>e3e77255</td>\n",
              "      <td>c01d24da</td>\n",
              "      <td>43006</td>\n",
              "      <td>2019-09-22 02:06:34</td>\n",
              "      <td>2019-09-22 02:16:07</td>\n",
              "      <td>0.0</td>\n",
              "      <td>2.43</td>\n",
              "      <td>3.53</td>\n",
              "      <td>2019-09-22</td>\n",
              "      <td>47353</td>\n",
              "      <td>2019-09-22</td>\n",
              "      <td>Sunday</td>\n",
              "      <td>0</td>\n",
              "      <td>c01d24da</td>\n",
              "      <td>2018-09-22 20:04:43</td>\n",
              "      <td>43006</td>\n",
              "      <td>Minas Tirith</td>\n",
              "      <td>20</td>\n",
              "      <td>2</td>\n",
              "    </tr>\n",
              "    <tr>\n",
              "      <th>1</th>\n",
              "      <td>8bd39604</td>\n",
              "      <td>b199e84a</td>\n",
              "      <td>c01d24da</td>\n",
              "      <td>43006</td>\n",
              "      <td>2019-09-22 01:48:39</td>\n",
              "      <td>2019-09-22 02:00:38</td>\n",
              "      <td>0.0</td>\n",
              "      <td>2.22</td>\n",
              "      <td>1.80</td>\n",
              "      <td>2019-09-22</td>\n",
              "      <td>47353</td>\n",
              "      <td>2019-09-22</td>\n",
              "      <td>Sunday</td>\n",
              "      <td>0</td>\n",
              "      <td>c01d24da</td>\n",
              "      <td>2018-09-22 20:04:43</td>\n",
              "      <td>43006</td>\n",
              "      <td>Minas Tirith</td>\n",
              "      <td>20</td>\n",
              "      <td>1</td>\n",
              "    </tr>\n",
              "    <tr>\n",
              "      <th>2</th>\n",
              "      <td>b03cd256</td>\n",
              "      <td>bf367601</td>\n",
              "      <td>c01d24da</td>\n",
              "      <td>43006</td>\n",
              "      <td>2019-09-12 05:38:07</td>\n",
              "      <td>2019-09-12 05:46:14</td>\n",
              "      <td>0.1</td>\n",
              "      <td>2.85</td>\n",
              "      <td>4.03</td>\n",
              "      <td>2019-09-12</td>\n",
              "      <td>47343</td>\n",
              "      <td>2019-09-12</td>\n",
              "      <td>Thursday</td>\n",
              "      <td>0</td>\n",
              "      <td>c01d24da</td>\n",
              "      <td>2018-09-22 20:04:43</td>\n",
              "      <td>43006</td>\n",
              "      <td>Minas Tirith</td>\n",
              "      <td>20</td>\n",
              "      <td>5</td>\n",
              "    </tr>\n",
              "    <tr>\n",
              "      <th>3</th>\n",
              "      <td>b394dfb7</td>\n",
              "      <td>cb37f75b</td>\n",
              "      <td>c01d24da</td>\n",
              "      <td>43006</td>\n",
              "      <td>2019-09-20 02:28:14</td>\n",
              "      <td>2019-09-20 02:43:11</td>\n",
              "      <td>0.0</td>\n",
              "      <td>5.40</td>\n",
              "      <td>5.65</td>\n",
              "      <td>2019-09-20</td>\n",
              "      <td>47351</td>\n",
              "      <td>2019-09-20</td>\n",
              "      <td>Friday</td>\n",
              "      <td>0</td>\n",
              "      <td>c01d24da</td>\n",
              "      <td>2018-09-22 20:04:43</td>\n",
              "      <td>43006</td>\n",
              "      <td>Minas Tirith</td>\n",
              "      <td>20</td>\n",
              "      <td>2</td>\n",
              "    </tr>\n",
              "    <tr>\n",
              "      <th>4</th>\n",
              "      <td>5232ed7c</td>\n",
              "      <td>4bb1a12a</td>\n",
              "      <td>c01d24da</td>\n",
              "      <td>43006</td>\n",
              "      <td>2019-08-31 08:34:16</td>\n",
              "      <td>2019-08-31 09:00:52</td>\n",
              "      <td>0.0</td>\n",
              "      <td>2.26</td>\n",
              "      <td>3.50</td>\n",
              "      <td>2019-08-31</td>\n",
              "      <td>47331</td>\n",
              "      <td>2019-08-31</td>\n",
              "      <td>Saturday</td>\n",
              "      <td>0</td>\n",
              "      <td>c01d24da</td>\n",
              "      <td>2018-09-22 20:04:43</td>\n",
              "      <td>43006</td>\n",
              "      <td>Minas Tirith</td>\n",
              "      <td>20</td>\n",
              "      <td>8</td>\n",
              "    </tr>\n",
              "  </tbody>\n",
              "</table>\n",
              "</div>"
            ],
            "text/plain": [
              "    id_trip driver_id passenger_id  city_id           call_time  \\\n",
              "0  48d284eb  e3e77255     c01d24da    43006 2019-09-22 02:06:34   \n",
              "1  8bd39604  b199e84a     c01d24da    43006 2019-09-22 01:48:39   \n",
              "2  b03cd256  bf367601     c01d24da    43006 2019-09-12 05:38:07   \n",
              "3  b394dfb7  cb37f75b     c01d24da    43006 2019-09-20 02:28:14   \n",
              "4  5232ed7c  4bb1a12a     c01d24da    43006 2019-08-31 08:34:16   \n",
              "\n",
              "          finish_time  surge_rate  trip_distance  trip_fare        date  \\\n",
              "0 2019-09-22 02:16:07         0.0           2.43       3.53  2019-09-22   \n",
              "1 2019-09-22 02:00:38         0.0           2.22       1.80  2019-09-22   \n",
              "2 2019-09-12 05:46:14         0.1           2.85       4.03  2019-09-12   \n",
              "3 2019-09-20 02:43:11         0.0           5.40       5.65  2019-09-20   \n",
              "4 2019-08-31 09:00:52         0.0           2.26       3.50  2019-08-31   \n",
              "\n",
              "   id_calendar calendar_date  week_day  holiday id_trip_calendar_passenger  \\\n",
              "0        47353    2019-09-22    Sunday        0                   c01d24da   \n",
              "1        47353    2019-09-22    Sunday        0                   c01d24da   \n",
              "2        47343    2019-09-12  Thursday        0                   c01d24da   \n",
              "3        47351    2019-09-20    Friday        0                   c01d24da   \n",
              "4        47331    2019-08-31  Saturday        0                   c01d24da   \n",
              "\n",
              "      first_call_time  id_city          name  first_call_time_hour  \\\n",
              "0 2018-09-22 20:04:43    43006  Minas Tirith                    20   \n",
              "1 2018-09-22 20:04:43    43006  Minas Tirith                    20   \n",
              "2 2018-09-22 20:04:43    43006  Minas Tirith                    20   \n",
              "3 2018-09-22 20:04:43    43006  Minas Tirith                    20   \n",
              "4 2018-09-22 20:04:43    43006  Minas Tirith                    20   \n",
              "\n",
              "   call_time_hour  \n",
              "0               2  \n",
              "1               1  \n",
              "2               5  \n",
              "3               2  \n",
              "4               8  "
            ]
          },
          "execution_count": 42,
          "metadata": {},
          "output_type": "execute_result"
        }
      ],
      "source": [
        "trip_calendar_passenger_city.head()"
      ]
    },
    {
      "cell_type": "code",
      "execution_count": null,
      "id": "2331adae",
      "metadata": {
        "id": "2331adae"
      },
      "outputs": [],
      "source": [
        "trip_calendar_passenger_city['date'] = pd.to_datetime(trip_calendar_passenger_city['date'])\n",
        "trip_calendar_passenger_city['month_year'] = trip_calendar_passenger_city['date'].dt.to_period('M')"
      ]
    },
    {
      "cell_type": "code",
      "execution_count": null,
      "id": "7e75709d",
      "metadata": {
        "colab": {
          "base_uri": "https://localhost:8080/",
          "height": 238
        },
        "id": "7e75709d",
        "outputId": "01a8faa4-e536-46a0-ae71-f5e5ccbf651b"
      },
      "outputs": [
        {
          "data": {
            "text/html": [
              "<div>\n",
              "<style scoped>\n",
              "    .dataframe tbody tr th:only-of-type {\n",
              "        vertical-align: middle;\n",
              "    }\n",
              "\n",
              "    .dataframe tbody tr th {\n",
              "        vertical-align: top;\n",
              "    }\n",
              "\n",
              "    .dataframe thead th {\n",
              "        text-align: right;\n",
              "    }\n",
              "</style>\n",
              "<table border=\"1\" class=\"dataframe\">\n",
              "  <thead>\n",
              "    <tr style=\"text-align: right;\">\n",
              "      <th></th>\n",
              "      <th>id_trip</th>\n",
              "    </tr>\n",
              "    <tr>\n",
              "      <th>month_year</th>\n",
              "      <th></th>\n",
              "    </tr>\n",
              "  </thead>\n",
              "  <tbody>\n",
              "    <tr>\n",
              "      <th>2019-05</th>\n",
              "      <td>439732</td>\n",
              "    </tr>\n",
              "    <tr>\n",
              "      <th>2019-06</th>\n",
              "      <td>479822</td>\n",
              "    </tr>\n",
              "    <tr>\n",
              "      <th>2019-07</th>\n",
              "      <td>479476</td>\n",
              "    </tr>\n",
              "    <tr>\n",
              "      <th>2019-08</th>\n",
              "      <td>515401</td>\n",
              "    </tr>\n",
              "    <tr>\n",
              "      <th>2019-09</th>\n",
              "      <td>403926</td>\n",
              "    </tr>\n",
              "  </tbody>\n",
              "</table>\n",
              "</div>"
            ],
            "text/plain": [
              "            id_trip\n",
              "month_year         \n",
              "2019-05      439732\n",
              "2019-06      479822\n",
              "2019-07      479476\n",
              "2019-08      515401\n",
              "2019-09      403926"
            ]
          },
          "execution_count": 44,
          "metadata": {},
          "output_type": "execute_result"
        }
      ],
      "source": [
        "rides_groupedby_month = trip_calendar_passenger_city.groupby('month_year').agg({'id_trip':'count'})\n",
        "rides_groupedby_month"
      ]
    },
    {
      "cell_type": "code",
      "execution_count": null,
      "id": "414faffb",
      "metadata": {
        "id": "414faffb"
      },
      "outputs": [],
      "source": [
        "var = []\n",
        "indexer = 0\n",
        "\n",
        "for lab , row in rides_groupedby_month.iterrows() :\n",
        "    if indexer > 0:\n",
        "        var.append((rides_groupedby_month['id_trip'][indexer] / rides_groupedby_month['id_trip'][indexer-1] - 1)*100)\n",
        "    else :\n",
        "        var.append(0)\n",
        "    indexer += 1"
      ]
    },
    {
      "cell_type": "code",
      "execution_count": null,
      "id": "771b4c29",
      "metadata": {
        "colab": {
          "base_uri": "https://localhost:8080/"
        },
        "id": "771b4c29",
        "outputId": "4ee5c838-2d8d-455d-8c86-a541335d9a2c"
      },
      "outputs": [
        {
          "data": {
            "text/plain": [
              "[0,\n",
              " 9.116916667424713,\n",
              " -0.07211007415249826,\n",
              " 7.492554371855942,\n",
              " -21.628790010108634]"
            ]
          },
          "execution_count": 46,
          "metadata": {},
          "output_type": "execute_result"
        }
      ],
      "source": [
        "var"
      ]
    },
    {
      "cell_type": "code",
      "execution_count": null,
      "id": "c150c401",
      "metadata": {
        "colab": {
          "base_uri": "https://localhost:8080/",
          "height": 238
        },
        "id": "c150c401",
        "outputId": "175fd037-4269-4c54-fde4-c0bc1669543d"
      },
      "outputs": [
        {
          "data": {
            "text/html": [
              "<div>\n",
              "<style scoped>\n",
              "    .dataframe tbody tr th:only-of-type {\n",
              "        vertical-align: middle;\n",
              "    }\n",
              "\n",
              "    .dataframe tbody tr th {\n",
              "        vertical-align: top;\n",
              "    }\n",
              "\n",
              "    .dataframe thead th {\n",
              "        text-align: right;\n",
              "    }\n",
              "</style>\n",
              "<table border=\"1\" class=\"dataframe\">\n",
              "  <thead>\n",
              "    <tr style=\"text-align: right;\">\n",
              "      <th></th>\n",
              "      <th>id_trip</th>\n",
              "      <th>variation</th>\n",
              "    </tr>\n",
              "    <tr>\n",
              "      <th>month_year</th>\n",
              "      <th></th>\n",
              "      <th></th>\n",
              "    </tr>\n",
              "  </thead>\n",
              "  <tbody>\n",
              "    <tr>\n",
              "      <th>2019-05</th>\n",
              "      <td>439732</td>\n",
              "      <td>0.000000</td>\n",
              "    </tr>\n",
              "    <tr>\n",
              "      <th>2019-06</th>\n",
              "      <td>479822</td>\n",
              "      <td>9.116917</td>\n",
              "    </tr>\n",
              "    <tr>\n",
              "      <th>2019-07</th>\n",
              "      <td>479476</td>\n",
              "      <td>-0.072110</td>\n",
              "    </tr>\n",
              "    <tr>\n",
              "      <th>2019-08</th>\n",
              "      <td>515401</td>\n",
              "      <td>7.492554</td>\n",
              "    </tr>\n",
              "    <tr>\n",
              "      <th>2019-09</th>\n",
              "      <td>403926</td>\n",
              "      <td>-21.628790</td>\n",
              "    </tr>\n",
              "  </tbody>\n",
              "</table>\n",
              "</div>"
            ],
            "text/plain": [
              "            id_trip  variation\n",
              "month_year                    \n",
              "2019-05      439732   0.000000\n",
              "2019-06      479822   9.116917\n",
              "2019-07      479476  -0.072110\n",
              "2019-08      515401   7.492554\n",
              "2019-09      403926 -21.628790"
            ]
          },
          "execution_count": 47,
          "metadata": {},
          "output_type": "execute_result"
        }
      ],
      "source": [
        "rides_groupedby_month['variation'] = var\n",
        "rides_groupedby_month"
      ]
    },
    {
      "cell_type": "code",
      "execution_count": null,
      "id": "a769ab12",
      "metadata": {
        "colab": {
          "base_uri": "https://localhost:8080/",
          "height": 238
        },
        "id": "a769ab12",
        "outputId": "b1fca88c-b27c-4182-dabe-55db7b2ddf71"
      },
      "outputs": [
        {
          "data": {
            "text/html": [
              "<div>\n",
              "<style scoped>\n",
              "    .dataframe tbody tr th:only-of-type {\n",
              "        vertical-align: middle;\n",
              "    }\n",
              "\n",
              "    .dataframe tbody tr th {\n",
              "        vertical-align: top;\n",
              "    }\n",
              "\n",
              "    .dataframe thead th {\n",
              "        text-align: right;\n",
              "    }\n",
              "</style>\n",
              "<table border=\"1\" class=\"dataframe\">\n",
              "  <thead>\n",
              "    <tr style=\"text-align: right;\">\n",
              "      <th></th>\n",
              "      <th>id_trip</th>\n",
              "      <th>variation</th>\n",
              "      <th>month_year_</th>\n",
              "    </tr>\n",
              "    <tr>\n",
              "      <th>month_year</th>\n",
              "      <th></th>\n",
              "      <th></th>\n",
              "      <th></th>\n",
              "    </tr>\n",
              "  </thead>\n",
              "  <tbody>\n",
              "    <tr>\n",
              "      <th>2019-05</th>\n",
              "      <td>439732</td>\n",
              "      <td>0.000000</td>\n",
              "      <td>2019-05</td>\n",
              "    </tr>\n",
              "    <tr>\n",
              "      <th>2019-06</th>\n",
              "      <td>479822</td>\n",
              "      <td>9.116917</td>\n",
              "      <td>2019-06</td>\n",
              "    </tr>\n",
              "    <tr>\n",
              "      <th>2019-07</th>\n",
              "      <td>479476</td>\n",
              "      <td>-0.072110</td>\n",
              "      <td>2019-07</td>\n",
              "    </tr>\n",
              "    <tr>\n",
              "      <th>2019-08</th>\n",
              "      <td>515401</td>\n",
              "      <td>7.492554</td>\n",
              "      <td>2019-08</td>\n",
              "    </tr>\n",
              "    <tr>\n",
              "      <th>2019-09</th>\n",
              "      <td>403926</td>\n",
              "      <td>-21.628790</td>\n",
              "      <td>2019-09</td>\n",
              "    </tr>\n",
              "  </tbody>\n",
              "</table>\n",
              "</div>"
            ],
            "text/plain": [
              "            id_trip  variation month_year_\n",
              "month_year                                \n",
              "2019-05      439732   0.000000     2019-05\n",
              "2019-06      479822   9.116917     2019-06\n",
              "2019-07      479476  -0.072110     2019-07\n",
              "2019-08      515401   7.492554     2019-08\n",
              "2019-09      403926 -21.628790     2019-09"
            ]
          },
          "execution_count": 48,
          "metadata": {},
          "output_type": "execute_result"
        }
      ],
      "source": [
        "rides_groupedby_month['month_year_'] = rides_groupedby_month.index.astype(str)\n",
        "rides_groupedby_month"
      ]
    },
    {
      "cell_type": "code",
      "execution_count": null,
      "id": "7f60bf54",
      "metadata": {
        "colab": {
          "base_uri": "https://localhost:8080/",
          "height": 498
        },
        "id": "7f60bf54",
        "outputId": "d546e5a3-a002-4a0f-89e3-33e907bd56c1"
      },
      "outputs": [
        {
          "data": {
            "image/png": "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\n",
            "text/plain": [
              "<Figure size 1080x576 with 2 Axes>"
            ]
          },
          "metadata": {
            "needs_background": "light"
          },
          "output_type": "display_data"
        }
      ],
      "source": [
        "plt.figure(figsize=(15, 8))\n",
        "ax = sns.barplot(x='month_year_', y='id_trip', palette='viridis', data=rides_groupedby_month)\n",
        "\n",
        "ax2 = ax.twinx()\n",
        "sns.lineplot(x='month_year_', y='variation', data=rides_groupedby_month, marker='o', color='crimson', lw=3,alpha=0.5,ax=ax2)\n",
        "\n",
        "plt.show()"
      ]
    },
    {
      "cell_type": "markdown",
      "id": "9ae97651",
      "metadata": {
        "id": "9ae97651"
      },
      "source": [
        "# 6. Optional. List the top 5 drivers per number of trips in the top 5 largest cities. \n"
      ]
    },
    {
      "cell_type": "code",
      "execution_count": null,
      "id": "41a7ba52",
      "metadata": {
        "colab": {
          "base_uri": "https://localhost:8080/"
        },
        "id": "41a7ba52",
        "outputId": "13cd1e29-045c-4880-a894-705bb4c50829"
      },
      "outputs": [
        {
          "data": {
            "text/plain": [
              "(10, 2)"
            ]
          },
          "execution_count": 50,
          "metadata": {},
          "output_type": "execute_result"
        }
      ],
      "source": [
        "city.shape"
      ]
    },
    {
      "cell_type": "code",
      "execution_count": null,
      "id": "87f181ae",
      "metadata": {
        "id": "87f181ae"
      },
      "outputs": [],
      "source": [
        "tripsby_city = trip_calendar_passenger_city.groupby(['name', 'city_id']).agg({'id_trip':'count'}).sort_values('id_trip', ascending=False)"
      ]
    },
    {
      "cell_type": "code",
      "execution_count": null,
      "id": "7a3f06cc",
      "metadata": {
        "colab": {
          "base_uri": "https://localhost:8080/",
          "height": 269
        },
        "id": "7a3f06cc",
        "outputId": "f4d2a23d-9e53-4a9b-d7b4-6eaffe0e7b50"
      },
      "outputs": [
        {
          "data": {
            "text/html": [
              "<div>\n",
              "<style scoped>\n",
              "    .dataframe tbody tr th:only-of-type {\n",
              "        vertical-align: middle;\n",
              "    }\n",
              "\n",
              "    .dataframe tbody tr th {\n",
              "        vertical-align: top;\n",
              "    }\n",
              "\n",
              "    .dataframe thead th {\n",
              "        text-align: right;\n",
              "    }\n",
              "</style>\n",
              "<table border=\"1\" class=\"dataframe\">\n",
              "  <thead>\n",
              "    <tr style=\"text-align: right;\">\n",
              "      <th></th>\n",
              "      <th></th>\n",
              "      <th>id_trip</th>\n",
              "    </tr>\n",
              "    <tr>\n",
              "      <th>name</th>\n",
              "      <th>city_id</th>\n",
              "      <th></th>\n",
              "    </tr>\n",
              "  </thead>\n",
              "  <tbody>\n",
              "    <tr>\n",
              "      <th>The Shire</th>\n",
              "      <th>43278</th>\n",
              "      <td>489454</td>\n",
              "    </tr>\n",
              "    <tr>\n",
              "      <th>Minas Tirith</th>\n",
              "      <th>43006</th>\n",
              "      <td>418895</td>\n",
              "    </tr>\n",
              "    <tr>\n",
              "      <th>Rivendell</th>\n",
              "      <th>43179</th>\n",
              "      <td>388464</td>\n",
              "    </tr>\n",
              "    <tr>\n",
              "      <th>Rohan</th>\n",
              "      <th>43116</th>\n",
              "      <td>365397</td>\n",
              "    </tr>\n",
              "    <tr>\n",
              "      <th>Isengard</th>\n",
              "      <th>43020</th>\n",
              "      <td>337648</td>\n",
              "    </tr>\n",
              "    <tr>\n",
              "      <th>Gondor</th>\n",
              "      <th>43050</th>\n",
              "      <td>318499</td>\n",
              "    </tr>\n",
              "  </tbody>\n",
              "</table>\n",
              "</div>"
            ],
            "text/plain": [
              "                      id_trip\n",
              "name         city_id         \n",
              "The Shire    43278     489454\n",
              "Minas Tirith 43006     418895\n",
              "Rivendell    43179     388464\n",
              "Rohan        43116     365397\n",
              "Isengard     43020     337648\n",
              "Gondor       43050     318499"
            ]
          },
          "execution_count": 52,
          "metadata": {},
          "output_type": "execute_result"
        }
      ],
      "source": [
        "tripsby_city"
      ]
    },
    {
      "cell_type": "code",
      "execution_count": null,
      "id": "8a1268c3",
      "metadata": {
        "id": "8a1268c3"
      },
      "outputs": [],
      "source": [
        "top_cities_names = list(tripsby_city.index.get_level_values(0))\n",
        "top_cities_id = list(tripsby_city.index.get_level_values(1))"
      ]
    },
    {
      "cell_type": "code",
      "execution_count": null,
      "id": "7d51e62c",
      "metadata": {
        "colab": {
          "base_uri": "https://localhost:8080/"
        },
        "id": "7d51e62c",
        "outputId": "219b22d1-4cc6-4da8-823e-65e91f0c62e7"
      },
      "outputs": [
        {
          "data": {
            "text/plain": [
              "['The Shire', 'Minas Tirith', 'Rivendell', 'Rohan', 'Isengard']"
            ]
          },
          "execution_count": 54,
          "metadata": {},
          "output_type": "execute_result"
        }
      ],
      "source": [
        "top5cities_names = top_cities_names[0:5]\n",
        "top5cities_names"
      ]
    },
    {
      "cell_type": "code",
      "execution_count": null,
      "id": "e9829eda",
      "metadata": {
        "colab": {
          "base_uri": "https://localhost:8080/"
        },
        "id": "e9829eda",
        "outputId": "3c9af1e8-0382-4708-e3ba-19919a3ca10d"
      },
      "outputs": [
        {
          "data": {
            "text/plain": [
              "[43278, 43006, 43179, 43116, 43020]"
            ]
          },
          "execution_count": 55,
          "metadata": {},
          "output_type": "execute_result"
        }
      ],
      "source": [
        "top5cities_id = top_cities_id[0:5]\n",
        "top5cities_id"
      ]
    },
    {
      "cell_type": "markdown",
      "id": "4fcfab74",
      "metadata": {
        "id": "4fcfab74"
      },
      "source": [
        "I'll assume the cities with more trips are the biggests cities"
      ]
    },
    {
      "cell_type": "code",
      "execution_count": null,
      "id": "d7dae08a",
      "metadata": {
        "colab": {
          "base_uri": "https://localhost:8080/",
          "height": 424
        },
        "id": "d7dae08a",
        "outputId": "949e43a9-acbc-47b5-9b6d-e27c561009ad"
      },
      "outputs": [
        {
          "data": {
            "text/html": [
              "<div>\n",
              "<style scoped>\n",
              "    .dataframe tbody tr th:only-of-type {\n",
              "        vertical-align: middle;\n",
              "    }\n",
              "\n",
              "    .dataframe tbody tr th {\n",
              "        vertical-align: top;\n",
              "    }\n",
              "\n",
              "    .dataframe thead th {\n",
              "        text-align: right;\n",
              "    }\n",
              "</style>\n",
              "<table border=\"1\" class=\"dataframe\">\n",
              "  <thead>\n",
              "    <tr style=\"text-align: right;\">\n",
              "      <th></th>\n",
              "      <th>id_trip</th>\n",
              "      <th>driver_id</th>\n",
              "      <th>passenger_id</th>\n",
              "      <th>city_id</th>\n",
              "      <th>call_time</th>\n",
              "      <th>finish_time</th>\n",
              "      <th>surge_rate</th>\n",
              "      <th>trip_distance</th>\n",
              "      <th>trip_fare</th>\n",
              "      <th>date</th>\n",
              "      <th>...</th>\n",
              "      <th>calendar_date</th>\n",
              "      <th>week_day</th>\n",
              "      <th>holiday</th>\n",
              "      <th>id_trip_calendar_passenger</th>\n",
              "      <th>first_call_time</th>\n",
              "      <th>id_city</th>\n",
              "      <th>name</th>\n",
              "      <th>first_call_time_hour</th>\n",
              "      <th>call_time_hour</th>\n",
              "      <th>month_year</th>\n",
              "    </tr>\n",
              "  </thead>\n",
              "  <tbody>\n",
              "    <tr>\n",
              "      <th>0</th>\n",
              "      <td>48d284eb</td>\n",
              "      <td>e3e77255</td>\n",
              "      <td>c01d24da</td>\n",
              "      <td>43006</td>\n",
              "      <td>2019-09-22 02:06:34</td>\n",
              "      <td>2019-09-22 02:16:07</td>\n",
              "      <td>0.0</td>\n",
              "      <td>2.43</td>\n",
              "      <td>3.53</td>\n",
              "      <td>2019-09-22</td>\n",
              "      <td>...</td>\n",
              "      <td>2019-09-22</td>\n",
              "      <td>Sunday</td>\n",
              "      <td>0</td>\n",
              "      <td>c01d24da</td>\n",
              "      <td>2018-09-22 20:04:43</td>\n",
              "      <td>43006</td>\n",
              "      <td>Minas Tirith</td>\n",
              "      <td>20</td>\n",
              "      <td>2</td>\n",
              "      <td>2019-09</td>\n",
              "    </tr>\n",
              "    <tr>\n",
              "      <th>1</th>\n",
              "      <td>8bd39604</td>\n",
              "      <td>b199e84a</td>\n",
              "      <td>c01d24da</td>\n",
              "      <td>43006</td>\n",
              "      <td>2019-09-22 01:48:39</td>\n",
              "      <td>2019-09-22 02:00:38</td>\n",
              "      <td>0.0</td>\n",
              "      <td>2.22</td>\n",
              "      <td>1.80</td>\n",
              "      <td>2019-09-22</td>\n",
              "      <td>...</td>\n",
              "      <td>2019-09-22</td>\n",
              "      <td>Sunday</td>\n",
              "      <td>0</td>\n",
              "      <td>c01d24da</td>\n",
              "      <td>2018-09-22 20:04:43</td>\n",
              "      <td>43006</td>\n",
              "      <td>Minas Tirith</td>\n",
              "      <td>20</td>\n",
              "      <td>1</td>\n",
              "      <td>2019-09</td>\n",
              "    </tr>\n",
              "    <tr>\n",
              "      <th>2</th>\n",
              "      <td>b03cd256</td>\n",
              "      <td>bf367601</td>\n",
              "      <td>c01d24da</td>\n",
              "      <td>43006</td>\n",
              "      <td>2019-09-12 05:38:07</td>\n",
              "      <td>2019-09-12 05:46:14</td>\n",
              "      <td>0.1</td>\n",
              "      <td>2.85</td>\n",
              "      <td>4.03</td>\n",
              "      <td>2019-09-12</td>\n",
              "      <td>...</td>\n",
              "      <td>2019-09-12</td>\n",
              "      <td>Thursday</td>\n",
              "      <td>0</td>\n",
              "      <td>c01d24da</td>\n",
              "      <td>2018-09-22 20:04:43</td>\n",
              "      <td>43006</td>\n",
              "      <td>Minas Tirith</td>\n",
              "      <td>20</td>\n",
              "      <td>5</td>\n",
              "      <td>2019-09</td>\n",
              "    </tr>\n",
              "    <tr>\n",
              "      <th>3</th>\n",
              "      <td>b394dfb7</td>\n",
              "      <td>cb37f75b</td>\n",
              "      <td>c01d24da</td>\n",
              "      <td>43006</td>\n",
              "      <td>2019-09-20 02:28:14</td>\n",
              "      <td>2019-09-20 02:43:11</td>\n",
              "      <td>0.0</td>\n",
              "      <td>5.40</td>\n",
              "      <td>5.65</td>\n",
              "      <td>2019-09-20</td>\n",
              "      <td>...</td>\n",
              "      <td>2019-09-20</td>\n",
              "      <td>Friday</td>\n",
              "      <td>0</td>\n",
              "      <td>c01d24da</td>\n",
              "      <td>2018-09-22 20:04:43</td>\n",
              "      <td>43006</td>\n",
              "      <td>Minas Tirith</td>\n",
              "      <td>20</td>\n",
              "      <td>2</td>\n",
              "      <td>2019-09</td>\n",
              "    </tr>\n",
              "    <tr>\n",
              "      <th>4</th>\n",
              "      <td>5232ed7c</td>\n",
              "      <td>4bb1a12a</td>\n",
              "      <td>c01d24da</td>\n",
              "      <td>43006</td>\n",
              "      <td>2019-08-31 08:34:16</td>\n",
              "      <td>2019-08-31 09:00:52</td>\n",
              "      <td>0.0</td>\n",
              "      <td>2.26</td>\n",
              "      <td>3.50</td>\n",
              "      <td>2019-08-31</td>\n",
              "      <td>...</td>\n",
              "      <td>2019-08-31</td>\n",
              "      <td>Saturday</td>\n",
              "      <td>0</td>\n",
              "      <td>c01d24da</td>\n",
              "      <td>2018-09-22 20:04:43</td>\n",
              "      <td>43006</td>\n",
              "      <td>Minas Tirith</td>\n",
              "      <td>20</td>\n",
              "      <td>8</td>\n",
              "      <td>2019-08</td>\n",
              "    </tr>\n",
              "    <tr>\n",
              "      <th>...</th>\n",
              "      <td>...</td>\n",
              "      <td>...</td>\n",
              "      <td>...</td>\n",
              "      <td>...</td>\n",
              "      <td>...</td>\n",
              "      <td>...</td>\n",
              "      <td>...</td>\n",
              "      <td>...</td>\n",
              "      <td>...</td>\n",
              "      <td>...</td>\n",
              "      <td>...</td>\n",
              "      <td>...</td>\n",
              "      <td>...</td>\n",
              "      <td>...</td>\n",
              "      <td>...</td>\n",
              "      <td>...</td>\n",
              "      <td>...</td>\n",
              "      <td>...</td>\n",
              "      <td>...</td>\n",
              "      <td>...</td>\n",
              "      <td>...</td>\n",
              "    </tr>\n",
              "    <tr>\n",
              "      <th>1999853</th>\n",
              "      <td>44560157</td>\n",
              "      <td>6f150724</td>\n",
              "      <td>b22d228f</td>\n",
              "      <td>43278</td>\n",
              "      <td>2019-08-29 22:52:59</td>\n",
              "      <td>2019-08-29 23:04:21</td>\n",
              "      <td>0.0</td>\n",
              "      <td>2.96</td>\n",
              "      <td>2.52</td>\n",
              "      <td>2019-08-29</td>\n",
              "      <td>...</td>\n",
              "      <td>2019-08-29</td>\n",
              "      <td>Thursday</td>\n",
              "      <td>0</td>\n",
              "      <td>b22d228f</td>\n",
              "      <td>2018-12-15 18:21:01</td>\n",
              "      <td>43278</td>\n",
              "      <td>The Shire</td>\n",
              "      <td>18</td>\n",
              "      <td>22</td>\n",
              "      <td>2019-08</td>\n",
              "    </tr>\n",
              "    <tr>\n",
              "      <th>1999854</th>\n",
              "      <td>45387049</td>\n",
              "      <td>27ee4e52</td>\n",
              "      <td>97d98448</td>\n",
              "      <td>43278</td>\n",
              "      <td>2019-08-29 23:04:27</td>\n",
              "      <td>2019-08-29 23:18:33</td>\n",
              "      <td>0.0</td>\n",
              "      <td>5.38</td>\n",
              "      <td>5.99</td>\n",
              "      <td>2019-08-29</td>\n",
              "      <td>...</td>\n",
              "      <td>2019-08-29</td>\n",
              "      <td>Thursday</td>\n",
              "      <td>0</td>\n",
              "      <td>97d98448</td>\n",
              "      <td>2019-08-29 22:14:31</td>\n",
              "      <td>43278</td>\n",
              "      <td>The Shire</td>\n",
              "      <td>22</td>\n",
              "      <td>23</td>\n",
              "      <td>2019-08</td>\n",
              "    </tr>\n",
              "    <tr>\n",
              "      <th>1999855</th>\n",
              "      <td>4622c3d6</td>\n",
              "      <td>d0ecf865</td>\n",
              "      <td>fd561b98</td>\n",
              "      <td>43278</td>\n",
              "      <td>2019-08-29 21:07:52</td>\n",
              "      <td>2019-08-29 21:21:40</td>\n",
              "      <td>0.0</td>\n",
              "      <td>3.63</td>\n",
              "      <td>3.22</td>\n",
              "      <td>2019-08-29</td>\n",
              "      <td>...</td>\n",
              "      <td>2019-08-29</td>\n",
              "      <td>Thursday</td>\n",
              "      <td>0</td>\n",
              "      <td>fd561b98</td>\n",
              "      <td>2018-08-11 19:56:39</td>\n",
              "      <td>43278</td>\n",
              "      <td>The Shire</td>\n",
              "      <td>19</td>\n",
              "      <td>21</td>\n",
              "      <td>2019-08</td>\n",
              "    </tr>\n",
              "    <tr>\n",
              "      <th>1999856</th>\n",
              "      <td>4645208f</td>\n",
              "      <td>c06744cc</td>\n",
              "      <td>bf0aa6cd</td>\n",
              "      <td>43278</td>\n",
              "      <td>2019-08-29 04:36:04</td>\n",
              "      <td>2019-08-29 04:45:24</td>\n",
              "      <td>0.0</td>\n",
              "      <td>1.80</td>\n",
              "      <td>2.56</td>\n",
              "      <td>2019-08-29</td>\n",
              "      <td>...</td>\n",
              "      <td>2019-08-29</td>\n",
              "      <td>Thursday</td>\n",
              "      <td>0</td>\n",
              "      <td>bf0aa6cd</td>\n",
              "      <td>2019-08-07 06:32:17</td>\n",
              "      <td>43278</td>\n",
              "      <td>The Shire</td>\n",
              "      <td>6</td>\n",
              "      <td>4</td>\n",
              "      <td>2019-08</td>\n",
              "    </tr>\n",
              "    <tr>\n",
              "      <th>1999857</th>\n",
              "      <td>4764afa7</td>\n",
              "      <td>18e4b1f4</td>\n",
              "      <td>d02c8324</td>\n",
              "      <td>43278</td>\n",
              "      <td>2019-08-29 23:37:32</td>\n",
              "      <td>2019-08-29 23:59:14</td>\n",
              "      <td>0.0</td>\n",
              "      <td>9.86</td>\n",
              "      <td>8.03</td>\n",
              "      <td>2019-08-29</td>\n",
              "      <td>...</td>\n",
              "      <td>2019-08-29</td>\n",
              "      <td>Thursday</td>\n",
              "      <td>0</td>\n",
              "      <td>d02c8324</td>\n",
              "      <td>2017-09-26 09:48:55</td>\n",
              "      <td>43278</td>\n",
              "      <td>The Shire</td>\n",
              "      <td>9</td>\n",
              "      <td>23</td>\n",
              "      <td>2019-08</td>\n",
              "    </tr>\n",
              "  </tbody>\n",
              "</table>\n",
              "<p>1999858 rows × 21 columns</p>\n",
              "</div>"
            ],
            "text/plain": [
              "          id_trip driver_id passenger_id  city_id           call_time  \\\n",
              "0        48d284eb  e3e77255     c01d24da    43006 2019-09-22 02:06:34   \n",
              "1        8bd39604  b199e84a     c01d24da    43006 2019-09-22 01:48:39   \n",
              "2        b03cd256  bf367601     c01d24da    43006 2019-09-12 05:38:07   \n",
              "3        b394dfb7  cb37f75b     c01d24da    43006 2019-09-20 02:28:14   \n",
              "4        5232ed7c  4bb1a12a     c01d24da    43006 2019-08-31 08:34:16   \n",
              "...           ...       ...          ...      ...                 ...   \n",
              "1999853  44560157  6f150724     b22d228f    43278 2019-08-29 22:52:59   \n",
              "1999854  45387049  27ee4e52     97d98448    43278 2019-08-29 23:04:27   \n",
              "1999855  4622c3d6  d0ecf865     fd561b98    43278 2019-08-29 21:07:52   \n",
              "1999856  4645208f  c06744cc     bf0aa6cd    43278 2019-08-29 04:36:04   \n",
              "1999857  4764afa7  18e4b1f4     d02c8324    43278 2019-08-29 23:37:32   \n",
              "\n",
              "                finish_time  surge_rate  trip_distance  trip_fare       date  \\\n",
              "0       2019-09-22 02:16:07         0.0           2.43       3.53 2019-09-22   \n",
              "1       2019-09-22 02:00:38         0.0           2.22       1.80 2019-09-22   \n",
              "2       2019-09-12 05:46:14         0.1           2.85       4.03 2019-09-12   \n",
              "3       2019-09-20 02:43:11         0.0           5.40       5.65 2019-09-20   \n",
              "4       2019-08-31 09:00:52         0.0           2.26       3.50 2019-08-31   \n",
              "...                     ...         ...            ...        ...        ...   \n",
              "1999853 2019-08-29 23:04:21         0.0           2.96       2.52 2019-08-29   \n",
              "1999854 2019-08-29 23:18:33         0.0           5.38       5.99 2019-08-29   \n",
              "1999855 2019-08-29 21:21:40         0.0           3.63       3.22 2019-08-29   \n",
              "1999856 2019-08-29 04:45:24         0.0           1.80       2.56 2019-08-29   \n",
              "1999857 2019-08-29 23:59:14         0.0           9.86       8.03 2019-08-29   \n",
              "\n",
              "         ...  calendar_date  week_day holiday  id_trip_calendar_passenger  \\\n",
              "0        ...     2019-09-22    Sunday       0                    c01d24da   \n",
              "1        ...     2019-09-22    Sunday       0                    c01d24da   \n",
              "2        ...     2019-09-12  Thursday       0                    c01d24da   \n",
              "3        ...     2019-09-20    Friday       0                    c01d24da   \n",
              "4        ...     2019-08-31  Saturday       0                    c01d24da   \n",
              "...      ...            ...       ...     ...                         ...   \n",
              "1999853  ...     2019-08-29  Thursday       0                    b22d228f   \n",
              "1999854  ...     2019-08-29  Thursday       0                    97d98448   \n",
              "1999855  ...     2019-08-29  Thursday       0                    fd561b98   \n",
              "1999856  ...     2019-08-29  Thursday       0                    bf0aa6cd   \n",
              "1999857  ...     2019-08-29  Thursday       0                    d02c8324   \n",
              "\n",
              "            first_call_time id_city          name first_call_time_hour  \\\n",
              "0       2018-09-22 20:04:43   43006  Minas Tirith                   20   \n",
              "1       2018-09-22 20:04:43   43006  Minas Tirith                   20   \n",
              "2       2018-09-22 20:04:43   43006  Minas Tirith                   20   \n",
              "3       2018-09-22 20:04:43   43006  Minas Tirith                   20   \n",
              "4       2018-09-22 20:04:43   43006  Minas Tirith                   20   \n",
              "...                     ...     ...           ...                  ...   \n",
              "1999853 2018-12-15 18:21:01   43278     The Shire                   18   \n",
              "1999854 2019-08-29 22:14:31   43278     The Shire                   22   \n",
              "1999855 2018-08-11 19:56:39   43278     The Shire                   19   \n",
              "1999856 2019-08-07 06:32:17   43278     The Shire                    6   \n",
              "1999857 2017-09-26 09:48:55   43278     The Shire                    9   \n",
              "\n",
              "         call_time_hour  month_year  \n",
              "0                     2     2019-09  \n",
              "1                     1     2019-09  \n",
              "2                     5     2019-09  \n",
              "3                     2     2019-09  \n",
              "4                     8     2019-08  \n",
              "...                 ...         ...  \n",
              "1999853              22     2019-08  \n",
              "1999854              23     2019-08  \n",
              "1999855              21     2019-08  \n",
              "1999856               4     2019-08  \n",
              "1999857              23     2019-08  \n",
              "\n",
              "[1999858 rows x 21 columns]"
            ]
          },
          "execution_count": 56,
          "metadata": {},
          "output_type": "execute_result"
        }
      ],
      "source": [
        "sliced_df = trip_calendar_passenger_city[trip_calendar_passenger_city['city_id'].isin(top5cities_id)]\n",
        "sliced_df"
      ]
    },
    {
      "cell_type": "code",
      "execution_count": null,
      "id": "6f701f01",
      "metadata": {
        "colab": {
          "base_uri": "https://localhost:8080/"
        },
        "id": "6f701f01",
        "outputId": "5ab91f58-8216-4d4c-f43f-9616bf43a664"
      },
      "outputs": [
        {
          "data": {
            "text/plain": [
              "array([43006, 43179, 43020, 43116, 43278])"
            ]
          },
          "execution_count": 57,
          "metadata": {},
          "output_type": "execute_result"
        }
      ],
      "source": [
        "sliced_df['city_id'].unique()"
      ]
    },
    {
      "cell_type": "code",
      "execution_count": null,
      "id": "3605f692",
      "metadata": {
        "colab": {
          "base_uri": "https://localhost:8080/",
          "height": 455
        },
        "id": "3605f692",
        "outputId": "8d8d1b19-96db-42f8-d619-08e88d753642",
        "scrolled": true
      },
      "outputs": [
        {
          "data": {
            "text/html": [
              "<div>\n",
              "<style scoped>\n",
              "    .dataframe tbody tr th:only-of-type {\n",
              "        vertical-align: middle;\n",
              "    }\n",
              "\n",
              "    .dataframe tbody tr th {\n",
              "        vertical-align: top;\n",
              "    }\n",
              "\n",
              "    .dataframe thead th {\n",
              "        text-align: right;\n",
              "    }\n",
              "</style>\n",
              "<table border=\"1\" class=\"dataframe\">\n",
              "  <thead>\n",
              "    <tr style=\"text-align: right;\">\n",
              "      <th></th>\n",
              "      <th>id_trip</th>\n",
              "    </tr>\n",
              "    <tr>\n",
              "      <th>driver_id</th>\n",
              "      <th></th>\n",
              "    </tr>\n",
              "  </thead>\n",
              "  <tbody>\n",
              "    <tr>\n",
              "      <th>e38a1cc4</th>\n",
              "      <td>197</td>\n",
              "    </tr>\n",
              "    <tr>\n",
              "      <th>0729b626</th>\n",
              "      <td>179</td>\n",
              "    </tr>\n",
              "    <tr>\n",
              "      <th>28925239</th>\n",
              "      <td>172</td>\n",
              "    </tr>\n",
              "    <tr>\n",
              "      <th>5b0e66b0</th>\n",
              "      <td>161</td>\n",
              "    </tr>\n",
              "    <tr>\n",
              "      <th>66e525c0</th>\n",
              "      <td>156</td>\n",
              "    </tr>\n",
              "    <tr>\n",
              "      <th>...</th>\n",
              "      <td>...</td>\n",
              "    </tr>\n",
              "    <tr>\n",
              "      <th>e79d90cf</th>\n",
              "      <td>1</td>\n",
              "    </tr>\n",
              "    <tr>\n",
              "      <th>7e746f41</th>\n",
              "      <td>1</td>\n",
              "    </tr>\n",
              "    <tr>\n",
              "      <th>7e6bbcab</th>\n",
              "      <td>1</td>\n",
              "    </tr>\n",
              "    <tr>\n",
              "      <th>7e6a5a08</th>\n",
              "      <td>1</td>\n",
              "    </tr>\n",
              "    <tr>\n",
              "      <th>00003225</th>\n",
              "      <td>1</td>\n",
              "    </tr>\n",
              "  </tbody>\n",
              "</table>\n",
              "<p>128388 rows × 1 columns</p>\n",
              "</div>"
            ],
            "text/plain": [
              "           id_trip\n",
              "driver_id         \n",
              "e38a1cc4       197\n",
              "0729b626       179\n",
              "28925239       172\n",
              "5b0e66b0       161\n",
              "66e525c0       156\n",
              "...            ...\n",
              "e79d90cf         1\n",
              "7e746f41         1\n",
              "7e6bbcab         1\n",
              "7e6a5a08         1\n",
              "00003225         1\n",
              "\n",
              "[128388 rows x 1 columns]"
            ]
          },
          "execution_count": 58,
          "metadata": {},
          "output_type": "execute_result"
        }
      ],
      "source": [
        "drivers_trips = sliced_df.groupby('driver_id').agg({'id_trip':'count'}).sort_values('id_trip', ascending=False)\n",
        "drivers_trips"
      ]
    },
    {
      "cell_type": "code",
      "execution_count": null,
      "id": "5dac6d2b",
      "metadata": {
        "colab": {
          "base_uri": "https://localhost:8080/"
        },
        "id": "5dac6d2b",
        "outputId": "a760a9ec-0d38-4206-9e92-b90a0f37a7eb"
      },
      "outputs": [
        {
          "data": {
            "text/plain": [
              "{'e38a1cc4': 197,\n",
              " '0729b626': 179,\n",
              " '28925239': 172,\n",
              " '5b0e66b0': 161,\n",
              " '66e525c0': 156}"
            ]
          },
          "execution_count": 59,
          "metadata": {},
          "output_type": "execute_result"
        }
      ],
      "source": [
        "top5_drivers = dict(drivers_trips.iloc[0:5,0])\n",
        "top5_drivers"
      ]
    },
    {
      "cell_type": "code",
      "execution_count": null,
      "id": "2c2371c3",
      "metadata": {
        "colab": {
          "base_uri": "https://localhost:8080/"
        },
        "id": "2c2371c3",
        "outputId": "6e36fbd5-8308-410f-cf22-d4d0b2bd286d",
        "scrolled": true
      },
      "outputs": [
        {
          "name": "stdout",
          "output_type": "stream",
          "text": [
            "The top 5 drivers of the 5 biggest cities are ['e38a1cc4', '0729b626', '28925239', '5b0e66b0', '66e525c0']\n"
          ]
        }
      ],
      "source": [
        "print('The top 5 drivers of the 5 biggest cities are '+ str(list(top5_drivers.keys())) )"
      ]
    },
    {
      "cell_type": "markdown",
      "id": "6d7d986a",
      "metadata": {
        "id": "6d7d986a"
      },
      "source": [
        "# Second understanding of the question 6"
      ]
    },
    {
      "cell_type": "markdown",
      "id": "8ecdcacb",
      "metadata": {
        "id": "8ecdcacb"
      },
      "source": [
        "------------------------------------------------------------------------------------------------"
      ]
    },
    {
      "cell_type": "code",
      "execution_count": null,
      "id": "9d463517",
      "metadata": {
        "id": "9d463517",
        "outputId": "9e651bd4-d8bb-48fc-f589-bbe6e8225c85"
      },
      "outputs": [
        {
          "data": {
            "text/html": [
              "<div>\n",
              "<style scoped>\n",
              "    .dataframe tbody tr th:only-of-type {\n",
              "        vertical-align: middle;\n",
              "    }\n",
              "\n",
              "    .dataframe tbody tr th {\n",
              "        vertical-align: top;\n",
              "    }\n",
              "\n",
              "    .dataframe thead th {\n",
              "        text-align: right;\n",
              "    }\n",
              "</style>\n",
              "<table border=\"1\" class=\"dataframe\">\n",
              "  <thead>\n",
              "    <tr style=\"text-align: right;\">\n",
              "      <th></th>\n",
              "      <th>city_id</th>\n",
              "      <th>driver_id</th>\n",
              "      <th>id_trip</th>\n",
              "    </tr>\n",
              "  </thead>\n",
              "  <tbody>\n",
              "    <tr>\n",
              "      <th>0</th>\n",
              "      <td>43006</td>\n",
              "      <td>0001ff52</td>\n",
              "      <td>6</td>\n",
              "    </tr>\n",
              "    <tr>\n",
              "      <th>1</th>\n",
              "      <td>43006</td>\n",
              "      <td>00047a47</td>\n",
              "      <td>13</td>\n",
              "    </tr>\n",
              "    <tr>\n",
              "      <th>2</th>\n",
              "      <td>43006</td>\n",
              "      <td>000c3977</td>\n",
              "      <td>34</td>\n",
              "    </tr>\n",
              "    <tr>\n",
              "      <th>3</th>\n",
              "      <td>43006</td>\n",
              "      <td>000c4cae</td>\n",
              "      <td>10</td>\n",
              "    </tr>\n",
              "    <tr>\n",
              "      <th>4</th>\n",
              "      <td>43006</td>\n",
              "      <td>0012253c</td>\n",
              "      <td>3</td>\n",
              "    </tr>\n",
              "    <tr>\n",
              "      <th>...</th>\n",
              "      <td>...</td>\n",
              "      <td>...</td>\n",
              "      <td>...</td>\n",
              "    </tr>\n",
              "    <tr>\n",
              "      <th>128685</th>\n",
              "      <td>43278</td>\n",
              "      <td>fff523ba</td>\n",
              "      <td>3</td>\n",
              "    </tr>\n",
              "    <tr>\n",
              "      <th>128686</th>\n",
              "      <td>43278</td>\n",
              "      <td>fff737f7</td>\n",
              "      <td>8</td>\n",
              "    </tr>\n",
              "    <tr>\n",
              "      <th>128687</th>\n",
              "      <td>43278</td>\n",
              "      <td>fffabf37</td>\n",
              "      <td>4</td>\n",
              "    </tr>\n",
              "    <tr>\n",
              "      <th>128688</th>\n",
              "      <td>43278</td>\n",
              "      <td>ffff20ba</td>\n",
              "      <td>5</td>\n",
              "    </tr>\n",
              "    <tr>\n",
              "      <th>128689</th>\n",
              "      <td>43278</td>\n",
              "      <td>ffffc6f0</td>\n",
              "      <td>2</td>\n",
              "    </tr>\n",
              "  </tbody>\n",
              "</table>\n",
              "<p>128690 rows × 3 columns</p>\n",
              "</div>"
            ],
            "text/plain": [
              "        city_id driver_id  id_trip\n",
              "0         43006  0001ff52        6\n",
              "1         43006  00047a47       13\n",
              "2         43006  000c3977       34\n",
              "3         43006  000c4cae       10\n",
              "4         43006  0012253c        3\n",
              "...         ...       ...      ...\n",
              "128685    43278  fff523ba        3\n",
              "128686    43278  fff737f7        8\n",
              "128687    43278  fffabf37        4\n",
              "128688    43278  ffff20ba        5\n",
              "128689    43278  ffffc6f0        2\n",
              "\n",
              "[128690 rows x 3 columns]"
            ]
          },
          "execution_count": 61,
          "metadata": {},
          "output_type": "execute_result"
        }
      ],
      "source": [
        "city_drivers = sliced_df.groupby(['city_id','driver_id']).agg({'id_trip':'count'}).reset_index()\n",
        "city_drivers"
      ]
    },
    {
      "cell_type": "code",
      "execution_count": null,
      "id": "86e24036",
      "metadata": {
        "id": "86e24036",
        "outputId": "53555b19-9353-4986-c674-7342201456d1"
      },
      "outputs": [
        {
          "data": {
            "text/html": [
              "<div>\n",
              "<style scoped>\n",
              "    .dataframe tbody tr th:only-of-type {\n",
              "        vertical-align: middle;\n",
              "    }\n",
              "\n",
              "    .dataframe tbody tr th {\n",
              "        vertical-align: top;\n",
              "    }\n",
              "\n",
              "    .dataframe thead th {\n",
              "        text-align: right;\n",
              "    }\n",
              "</style>\n",
              "<table border=\"1\" class=\"dataframe\">\n",
              "  <thead>\n",
              "    <tr style=\"text-align: right;\">\n",
              "      <th></th>\n",
              "      <th></th>\n",
              "      <th>city_id</th>\n",
              "      <th>driver_id</th>\n",
              "      <th>id_trip</th>\n",
              "    </tr>\n",
              "    <tr>\n",
              "      <th>city_id</th>\n",
              "      <th></th>\n",
              "      <th></th>\n",
              "      <th></th>\n",
              "      <th></th>\n",
              "    </tr>\n",
              "  </thead>\n",
              "  <tbody>\n",
              "    <tr>\n",
              "      <th rowspan=\"15\" valign=\"top\">43006</th>\n",
              "      <th>0</th>\n",
              "      <td>43006</td>\n",
              "      <td>e38a1cc4</td>\n",
              "      <td>197</td>\n",
              "    </tr>\n",
              "    <tr>\n",
              "      <th>1</th>\n",
              "      <td>43006</td>\n",
              "      <td>0729b626</td>\n",
              "      <td>153</td>\n",
              "    </tr>\n",
              "    <tr>\n",
              "      <th>2</th>\n",
              "      <td>43006</td>\n",
              "      <td>ae160405</td>\n",
              "      <td>144</td>\n",
              "    </tr>\n",
              "    <tr>\n",
              "      <th>3</th>\n",
              "      <td>43006</td>\n",
              "      <td>6294c442</td>\n",
              "      <td>143</td>\n",
              "    </tr>\n",
              "    <tr>\n",
              "      <th>4</th>\n",
              "      <td>43006</td>\n",
              "      <td>db9f74db</td>\n",
              "      <td>143</td>\n",
              "    </tr>\n",
              "    <tr>\n",
              "      <th>5</th>\n",
              "      <td>43006</td>\n",
              "      <td>44aff567</td>\n",
              "      <td>137</td>\n",
              "    </tr>\n",
              "    <tr>\n",
              "      <th>6</th>\n",
              "      <td>43006</td>\n",
              "      <td>73c6e414</td>\n",
              "      <td>137</td>\n",
              "    </tr>\n",
              "    <tr>\n",
              "      <th>7</th>\n",
              "      <td>43006</td>\n",
              "      <td>ad0c09ad</td>\n",
              "      <td>134</td>\n",
              "    </tr>\n",
              "    <tr>\n",
              "      <th>8</th>\n",
              "      <td>43006</td>\n",
              "      <td>24998dd3</td>\n",
              "      <td>134</td>\n",
              "    </tr>\n",
              "    <tr>\n",
              "      <th>9</th>\n",
              "      <td>43006</td>\n",
              "      <td>06cade4b</td>\n",
              "      <td>134</td>\n",
              "    </tr>\n",
              "    <tr>\n",
              "      <th>10</th>\n",
              "      <td>43006</td>\n",
              "      <td>52144046</td>\n",
              "      <td>130</td>\n",
              "    </tr>\n",
              "    <tr>\n",
              "      <th>11</th>\n",
              "      <td>43006</td>\n",
              "      <td>f841c58d</td>\n",
              "      <td>130</td>\n",
              "    </tr>\n",
              "    <tr>\n",
              "      <th>12</th>\n",
              "      <td>43006</td>\n",
              "      <td>fff32023</td>\n",
              "      <td>129</td>\n",
              "    </tr>\n",
              "    <tr>\n",
              "      <th>13</th>\n",
              "      <td>43006</td>\n",
              "      <td>51e6b79c</td>\n",
              "      <td>128</td>\n",
              "    </tr>\n",
              "    <tr>\n",
              "      <th>14</th>\n",
              "      <td>43006</td>\n",
              "      <td>c658c176</td>\n",
              "      <td>128</td>\n",
              "    </tr>\n",
              "  </tbody>\n",
              "</table>\n",
              "</div>"
            ],
            "text/plain": [
              "            city_id driver_id  id_trip\n",
              "city_id                               \n",
              "43006   0     43006  e38a1cc4      197\n",
              "        1     43006  0729b626      153\n",
              "        2     43006  ae160405      144\n",
              "        3     43006  6294c442      143\n",
              "        4     43006  db9f74db      143\n",
              "        5     43006  44aff567      137\n",
              "        6     43006  73c6e414      137\n",
              "        7     43006  ad0c09ad      134\n",
              "        8     43006  24998dd3      134\n",
              "        9     43006  06cade4b      134\n",
              "        10    43006  52144046      130\n",
              "        11    43006  f841c58d      130\n",
              "        12    43006  fff32023      129\n",
              "        13    43006  51e6b79c      128\n",
              "        14    43006  c658c176      128"
            ]
          },
          "execution_count": 62,
          "metadata": {},
          "output_type": "execute_result"
        }
      ],
      "source": [
        "sorteddf = city_drivers.groupby(['city_id']).apply(lambda x: x.sort_values(['id_trip'], ascending=False).reset_index(drop=True))\n",
        "sorteddf.head(15)"
      ]
    },
    {
      "cell_type": "code",
      "execution_count": null,
      "id": "20998d0d",
      "metadata": {
        "id": "20998d0d"
      },
      "outputs": [],
      "source": [
        "sorteddf = sorteddf.reset_index(drop=True)"
      ]
    },
    {
      "cell_type": "code",
      "execution_count": null,
      "id": "78f42e04",
      "metadata": {
        "id": "78f42e04"
      },
      "outputs": [],
      "source": [
        "top5dc = sorteddf.groupby('city_id').head(5)"
      ]
    },
    {
      "cell_type": "code",
      "execution_count": null,
      "id": "64e1f012",
      "metadata": {
        "id": "64e1f012",
        "outputId": "fdaac614-9c6f-4211-f8ad-501abec79f0f"
      },
      "outputs": [
        {
          "data": {
            "text/plain": [
              "(25, 3)"
            ]
          },
          "execution_count": 65,
          "metadata": {},
          "output_type": "execute_result"
        }
      ],
      "source": [
        "top5dc.shape"
      ]
    },
    {
      "cell_type": "code",
      "execution_count": null,
      "id": "27ec6956",
      "metadata": {
        "id": "27ec6956",
        "outputId": "f780320d-c866-4d91-8c04-6b1488062c42"
      },
      "outputs": [
        {
          "name": "stdout",
          "output_type": "stream",
          "text": [
            "       city_id driver_id  id_trip\n",
            "0        43006  e38a1cc4      197\n",
            "1        43006  0729b626      153\n",
            "2        43006  ae160405      144\n",
            "3        43006  6294c442      143\n",
            "4        43006  db9f74db      143\n",
            "23985    43020  957ca30b      148\n",
            "23986    43020  ee25c3b5      139\n",
            "23987    43020  7d0c4185      139\n",
            "23988    43020  934bae83      136\n",
            "23989    43020  683bbf62      134\n",
            "48824    43116  28925239      172\n",
            "48825    43116  b4dde07c      152\n",
            "48826    43116  0d3159ba      148\n",
            "48827    43116  5f17a268      146\n",
            "48828    43116  f343c362      145\n",
            "69909    43179  a947550b      143\n",
            "69910    43179  c5d1405e      142\n",
            "69911    43179  5cfeb4fa      138\n",
            "69912    43179  aeafa773      130\n",
            "69913    43179  df233c3c      129\n",
            "98657    43278  5b0e66b0      161\n",
            "98658    43278  66e525c0      156\n",
            "98659    43278  7405b635      155\n",
            "98660    43278  2922568d      151\n",
            "98661    43278  0f2da8f1      146\n"
          ]
        }
      ],
      "source": [
        "print(top5dc)"
      ]
    },
    {
      "cell_type": "code",
      "execution_count": null,
      "id": "8adb1738",
      "metadata": {
        "id": "8adb1738"
      },
      "outputs": [],
      "source": [
        "top25 = list(top5dc['driver_id'])"
      ]
    },
    {
      "cell_type": "code",
      "execution_count": null,
      "id": "cec9bc4b",
      "metadata": {
        "id": "cec9bc4b",
        "outputId": "95b5a640-f092-4613-e41e-5b7faa0b45c2"
      },
      "outputs": [
        {
          "name": "stdout",
          "output_type": "stream",
          "text": [
            "The top 5 drivers of the five biggest cities are: ['e38a1cc4', '0729b626', 'ae160405', '6294c442', 'db9f74db', '957ca30b', 'ee25c3b5', '7d0c4185', '934bae83', '683bbf62', '28925239', 'b4dde07c', '0d3159ba', '5f17a268', 'f343c362', 'a947550b', 'c5d1405e', '5cfeb4fa', 'aeafa773', 'df233c3c', '5b0e66b0', '66e525c0', '7405b635', '2922568d', '0f2da8f1']\n"
          ]
        }
      ],
      "source": [
        "print('The top 5 drivers of the five biggest cities are: '+str(top25))"
      ]
    },
    {
      "cell_type": "markdown",
      "id": "eb4cdcd0",
      "metadata": {
        "id": "eb4cdcd0"
      },
      "source": [
        "# Part 2 Analytical"
      ]
    },
    {
      "cell_type": "markdown",
      "id": "a6115b89",
      "metadata": {
        "id": "a6115b89"
      },
      "source": [
        "# 1. Let's say it's 2019-09-23 and a new Operations manager for The Shire was just hired. She has 5 minutes during the Ops weekly meeting to present an overview of the business in the city, and since she's just arrived, she asked your help to do it. What would you prepare for this 5 minutes presentation? Please provide 1-2 slides with your idea. "
      ]
    },
    {
      "cell_type": "code",
      "execution_count": null,
      "id": "5faa0b1d",
      "metadata": {
        "id": "5faa0b1d",
        "outputId": "19e42698-dd6c-466a-f0c4-dde4731d9b01"
      },
      "outputs": [
        {
          "data": {
            "text/html": [
              "<div>\n",
              "<style scoped>\n",
              "    .dataframe tbody tr th:only-of-type {\n",
              "        vertical-align: middle;\n",
              "    }\n",
              "\n",
              "    .dataframe tbody tr th {\n",
              "        vertical-align: top;\n",
              "    }\n",
              "\n",
              "    .dataframe thead th {\n",
              "        text-align: right;\n",
              "    }\n",
              "</style>\n",
              "<table border=\"1\" class=\"dataframe\">\n",
              "  <thead>\n",
              "    <tr style=\"text-align: right;\">\n",
              "      <th></th>\n",
              "      <th>id_trip</th>\n",
              "      <th>driver_id</th>\n",
              "      <th>passenger_id</th>\n",
              "      <th>city_id</th>\n",
              "      <th>call_time</th>\n",
              "      <th>finish_time</th>\n",
              "      <th>surge_rate</th>\n",
              "      <th>trip_distance</th>\n",
              "      <th>trip_fare</th>\n",
              "      <th>date</th>\n",
              "      <th>...</th>\n",
              "      <th>calendar_date</th>\n",
              "      <th>week_day</th>\n",
              "      <th>holiday</th>\n",
              "      <th>id_trip_calendar_passenger</th>\n",
              "      <th>first_call_time</th>\n",
              "      <th>id_city</th>\n",
              "      <th>name</th>\n",
              "      <th>first_call_time_hour</th>\n",
              "      <th>call_time_hour</th>\n",
              "      <th>month_year</th>\n",
              "    </tr>\n",
              "  </thead>\n",
              "  <tbody>\n",
              "    <tr>\n",
              "      <th>0</th>\n",
              "      <td>48d284eb</td>\n",
              "      <td>e3e77255</td>\n",
              "      <td>c01d24da</td>\n",
              "      <td>43006</td>\n",
              "      <td>2019-09-22 02:06:34</td>\n",
              "      <td>2019-09-22 02:16:07</td>\n",
              "      <td>0.0</td>\n",
              "      <td>2.43</td>\n",
              "      <td>3.53</td>\n",
              "      <td>2019-09-22</td>\n",
              "      <td>...</td>\n",
              "      <td>2019-09-22</td>\n",
              "      <td>Sunday</td>\n",
              "      <td>0</td>\n",
              "      <td>c01d24da</td>\n",
              "      <td>2018-09-22 20:04:43</td>\n",
              "      <td>43006</td>\n",
              "      <td>Minas Tirith</td>\n",
              "      <td>20</td>\n",
              "      <td>2</td>\n",
              "      <td>2019-09</td>\n",
              "    </tr>\n",
              "  </tbody>\n",
              "</table>\n",
              "<p>1 rows × 21 columns</p>\n",
              "</div>"
            ],
            "text/plain": [
              "    id_trip driver_id passenger_id  city_id           call_time  \\\n",
              "0  48d284eb  e3e77255     c01d24da    43006 2019-09-22 02:06:34   \n",
              "\n",
              "          finish_time  surge_rate  trip_distance  trip_fare       date  ...  \\\n",
              "0 2019-09-22 02:16:07         0.0           2.43       3.53 2019-09-22  ...   \n",
              "\n",
              "   calendar_date week_day holiday  id_trip_calendar_passenger  \\\n",
              "0     2019-09-22   Sunday       0                    c01d24da   \n",
              "\n",
              "      first_call_time id_city          name first_call_time_hour  \\\n",
              "0 2018-09-22 20:04:43   43006  Minas Tirith                   20   \n",
              "\n",
              "   call_time_hour  month_year  \n",
              "0               2     2019-09  \n",
              "\n",
              "[1 rows x 21 columns]"
            ]
          },
          "execution_count": 69,
          "metadata": {},
          "output_type": "execute_result"
        }
      ],
      "source": [
        "trip_calendar_passenger_city.head(1)"
      ]
    },
    {
      "cell_type": "code",
      "execution_count": null,
      "id": "5a57992d",
      "metadata": {
        "id": "5a57992d",
        "outputId": "a12e08b4-b98d-4392-b733-eaf6d8fd5af9"
      },
      "outputs": [
        {
          "data": {
            "text/html": [
              "<div>\n",
              "<style scoped>\n",
              "    .dataframe tbody tr th:only-of-type {\n",
              "        vertical-align: middle;\n",
              "    }\n",
              "\n",
              "    .dataframe tbody tr th {\n",
              "        vertical-align: top;\n",
              "    }\n",
              "\n",
              "    .dataframe thead tr th {\n",
              "        text-align: left;\n",
              "    }\n",
              "\n",
              "    .dataframe thead tr:last-of-type th {\n",
              "        text-align: right;\n",
              "    }\n",
              "</style>\n",
              "<table border=\"1\" class=\"dataframe\">\n",
              "  <thead>\n",
              "    <tr>\n",
              "      <th></th>\n",
              "      <th colspan=\"3\" halign=\"left\">Max</th>\n",
              "      <th colspan=\"3\" halign=\"left\">Mean</th>\n",
              "      <th colspan=\"3\" halign=\"left\">Min</th>\n",
              "    </tr>\n",
              "    <tr>\n",
              "      <th></th>\n",
              "      <th>Surge Rate</th>\n",
              "      <th>Trip Distance</th>\n",
              "      <th>Trip Fare</th>\n",
              "      <th>Surge Rate</th>\n",
              "      <th>Trip Distance</th>\n",
              "      <th>Trip Fare</th>\n",
              "      <th>Surge Rate</th>\n",
              "      <th>Trip Distance</th>\n",
              "      <th>Trip Fare</th>\n",
              "    </tr>\n",
              "    <tr>\n",
              "      <th>name</th>\n",
              "      <th></th>\n",
              "      <th></th>\n",
              "      <th></th>\n",
              "      <th></th>\n",
              "      <th></th>\n",
              "      <th></th>\n",
              "      <th></th>\n",
              "      <th></th>\n",
              "      <th></th>\n",
              "    </tr>\n",
              "  </thead>\n",
              "  <tbody>\n",
              "    <tr>\n",
              "      <th>Gondor</th>\n",
              "      <td>2.5</td>\n",
              "      <td>217.24</td>\n",
              "      <td>223.86</td>\n",
              "      <td>0.055481</td>\n",
              "      <td>5.033415</td>\n",
              "      <td>5.136079</td>\n",
              "      <td>-1.0</td>\n",
              "      <td>-0.5</td>\n",
              "      <td>0.00</td>\n",
              "    </tr>\n",
              "    <tr>\n",
              "      <th>Isengard</th>\n",
              "      <td>3.2</td>\n",
              "      <td>204.66</td>\n",
              "      <td>167.77</td>\n",
              "      <td>0.036011</td>\n",
              "      <td>7.660828</td>\n",
              "      <td>5.553150</td>\n",
              "      <td>-1.0</td>\n",
              "      <td>-0.5</td>\n",
              "      <td>0.01</td>\n",
              "    </tr>\n",
              "    <tr>\n",
              "      <th>Minas Tirith</th>\n",
              "      <td>4.0</td>\n",
              "      <td>202.11</td>\n",
              "      <td>237.66</td>\n",
              "      <td>0.034939</td>\n",
              "      <td>6.521810</td>\n",
              "      <td>4.974044</td>\n",
              "      <td>-1.0</td>\n",
              "      <td>-0.5</td>\n",
              "      <td>0.00</td>\n",
              "    </tr>\n",
              "    <tr>\n",
              "      <th>Rivendell</th>\n",
              "      <td>4.0</td>\n",
              "      <td>244.82</td>\n",
              "      <td>274.78</td>\n",
              "      <td>0.070741</td>\n",
              "      <td>6.875432</td>\n",
              "      <td>5.671999</td>\n",
              "      <td>-1.0</td>\n",
              "      <td>-0.5</td>\n",
              "      <td>0.00</td>\n",
              "    </tr>\n",
              "    <tr>\n",
              "      <th>Rohan</th>\n",
              "      <td>4.0</td>\n",
              "      <td>296.10</td>\n",
              "      <td>233.61</td>\n",
              "      <td>0.059538</td>\n",
              "      <td>6.111380</td>\n",
              "      <td>5.278823</td>\n",
              "      <td>-1.0</td>\n",
              "      <td>-0.5</td>\n",
              "      <td>0.00</td>\n",
              "    </tr>\n",
              "    <tr>\n",
              "      <th>The Shire</th>\n",
              "      <td>4.0</td>\n",
              "      <td>202.74</td>\n",
              "      <td>1234.32</td>\n",
              "      <td>0.022856</td>\n",
              "      <td>5.619366</td>\n",
              "      <td>4.998631</td>\n",
              "      <td>-1.0</td>\n",
              "      <td>-0.5</td>\n",
              "      <td>0.00</td>\n",
              "    </tr>\n",
              "  </tbody>\n",
              "</table>\n",
              "</div>"
            ],
            "text/plain": [
              "                    Max                               Mean                \\\n",
              "             Surge Rate Trip Distance Trip Fare Surge Rate Trip Distance   \n",
              "name                                                                       \n",
              "Gondor              2.5        217.24    223.86   0.055481      5.033415   \n",
              "Isengard            3.2        204.66    167.77   0.036011      7.660828   \n",
              "Minas Tirith        4.0        202.11    237.66   0.034939      6.521810   \n",
              "Rivendell           4.0        244.82    274.78   0.070741      6.875432   \n",
              "Rohan               4.0        296.10    233.61   0.059538      6.111380   \n",
              "The Shire           4.0        202.74   1234.32   0.022856      5.619366   \n",
              "\n",
              "                              Min                          \n",
              "             Trip Fare Surge Rate Trip Distance Trip Fare  \n",
              "name                                                       \n",
              "Gondor        5.136079       -1.0          -0.5      0.00  \n",
              "Isengard      5.553150       -1.0          -0.5      0.01  \n",
              "Minas Tirith  4.974044       -1.0          -0.5      0.00  \n",
              "Rivendell     5.671999       -1.0          -0.5      0.00  \n",
              "Rohan         5.278823       -1.0          -0.5      0.00  \n",
              "The Shire     4.998631       -1.0          -0.5      0.00  "
            ]
          },
          "execution_count": 86,
          "metadata": {},
          "output_type": "execute_result"
        }
      ],
      "source": [
        "table_pivot = trip_calendar_passenger_city.pivot_table(index='name',\n",
        "                                         values=['surge_rate','trip_distance','trip_fare'],\n",
        "                                         aggfunc=[np.max, np.mean,np.min])\n",
        "table_pivot.rename(columns={'amax':'Max','mean':'Mean','amin':'Min','surge_rate':'Surge Rate','trip_distance':'Trip Distance','trip_fare':'Trip Fare'},inplace=True)\n",
        "table_pivot"
      ]
    },
    {
      "cell_type": "code",
      "execution_count": null,
      "id": "029ed54b",
      "metadata": {
        "id": "029ed54b",
        "outputId": "c52e7bb4-29b8-4607-e85e-de7111dec490"
      },
      "outputs": [
        {
          "data": {
            "text/html": [
              "<div>\n",
              "<style scoped>\n",
              "    .dataframe tbody tr th:only-of-type {\n",
              "        vertical-align: middle;\n",
              "    }\n",
              "\n",
              "    .dataframe tbody tr th {\n",
              "        vertical-align: top;\n",
              "    }\n",
              "\n",
              "    .dataframe thead th {\n",
              "        text-align: right;\n",
              "    }\n",
              "</style>\n",
              "<table border=\"1\" class=\"dataframe\">\n",
              "  <thead>\n",
              "    <tr style=\"text-align: right;\">\n",
              "      <th></th>\n",
              "      <th>Total of trips</th>\n",
              "      <th>Total of drivers</th>\n",
              "      <th>Total of customers</th>\n",
              "    </tr>\n",
              "    <tr>\n",
              "      <th>name</th>\n",
              "      <th></th>\n",
              "      <th></th>\n",
              "      <th></th>\n",
              "    </tr>\n",
              "  </thead>\n",
              "  <tbody>\n",
              "    <tr>\n",
              "      <th>Gondor</th>\n",
              "      <td>318499</td>\n",
              "      <td>17263</td>\n",
              "      <td>162989</td>\n",
              "    </tr>\n",
              "    <tr>\n",
              "      <th>Isengard</th>\n",
              "      <td>337648</td>\n",
              "      <td>24839</td>\n",
              "      <td>177288</td>\n",
              "    </tr>\n",
              "    <tr>\n",
              "      <th>Minas Tirith</th>\n",
              "      <td>418895</td>\n",
              "      <td>23985</td>\n",
              "      <td>203147</td>\n",
              "    </tr>\n",
              "    <tr>\n",
              "      <th>Rivendell</th>\n",
              "      <td>388464</td>\n",
              "      <td>28748</td>\n",
              "      <td>218389</td>\n",
              "    </tr>\n",
              "    <tr>\n",
              "      <th>Rohan</th>\n",
              "      <td>365397</td>\n",
              "      <td>21085</td>\n",
              "      <td>195425</td>\n",
              "    </tr>\n",
              "    <tr>\n",
              "      <th>The Shire</th>\n",
              "      <td>489454</td>\n",
              "      <td>30033</td>\n",
              "      <td>243792</td>\n",
              "    </tr>\n",
              "  </tbody>\n",
              "</table>\n",
              "</div>"
            ],
            "text/plain": [
              "              Total of trips  Total of drivers  Total of customers\n",
              "name                                                              \n",
              "Gondor                318499             17263              162989\n",
              "Isengard              337648             24839              177288\n",
              "Minas Tirith          418895             23985              203147\n",
              "Rivendell             388464             28748              218389\n",
              "Rohan                 365397             21085              195425\n",
              "The Shire             489454             30033              243792"
            ]
          },
          "execution_count": 72,
          "metadata": {},
          "output_type": "execute_result"
        }
      ],
      "source": [
        "grouped = trip_calendar_passenger_city.groupby('name').agg({'id_trip':'nunique','driver_id':'nunique','passenger_id':'nunique'})\n",
        "grouped.rename(columns={'id_trip':'Total of trips','driver_id':'Total of drivers','passenger_id':'Total of customers'})"
      ]
    },
    {
      "cell_type": "code",
      "execution_count": null,
      "id": "40a09bde",
      "metadata": {
        "id": "40a09bde",
        "outputId": "c676436b-5c6c-43b7-8e13-fdd50e7a1481"
      },
      "outputs": [
        {
          "data": {
            "text/html": [
              "<div>\n",
              "<style scoped>\n",
              "    .dataframe tbody tr th:only-of-type {\n",
              "        vertical-align: middle;\n",
              "    }\n",
              "\n",
              "    .dataframe tbody tr th {\n",
              "        vertical-align: top;\n",
              "    }\n",
              "\n",
              "    .dataframe thead th {\n",
              "        text-align: right;\n",
              "    }\n",
              "</style>\n",
              "<table border=\"1\" class=\"dataframe\">\n",
              "  <thead>\n",
              "    <tr style=\"text-align: right;\">\n",
              "      <th></th>\n",
              "      <th>month_year</th>\n",
              "      <th>name</th>\n",
              "      <th>id_trip</th>\n",
              "    </tr>\n",
              "  </thead>\n",
              "  <tbody>\n",
              "    <tr>\n",
              "      <th>0</th>\n",
              "      <td>2019-05</td>\n",
              "      <td>Gondor</td>\n",
              "      <td>57952</td>\n",
              "    </tr>\n",
              "    <tr>\n",
              "      <th>1</th>\n",
              "      <td>2019-05</td>\n",
              "      <td>Isengard</td>\n",
              "      <td>66520</td>\n",
              "    </tr>\n",
              "    <tr>\n",
              "      <th>2</th>\n",
              "      <td>2019-05</td>\n",
              "      <td>Minas Tirith</td>\n",
              "      <td>75630</td>\n",
              "    </tr>\n",
              "    <tr>\n",
              "      <th>3</th>\n",
              "      <td>2019-05</td>\n",
              "      <td>Rivendell</td>\n",
              "      <td>71330</td>\n",
              "    </tr>\n",
              "    <tr>\n",
              "      <th>4</th>\n",
              "      <td>2019-05</td>\n",
              "      <td>Rohan</td>\n",
              "      <td>66152</td>\n",
              "    </tr>\n",
              "    <tr>\n",
              "      <th>5</th>\n",
              "      <td>2019-05</td>\n",
              "      <td>The Shire</td>\n",
              "      <td>102148</td>\n",
              "    </tr>\n",
              "    <tr>\n",
              "      <th>6</th>\n",
              "      <td>2019-06</td>\n",
              "      <td>Gondor</td>\n",
              "      <td>69065</td>\n",
              "    </tr>\n",
              "    <tr>\n",
              "      <th>7</th>\n",
              "      <td>2019-06</td>\n",
              "      <td>Isengard</td>\n",
              "      <td>67562</td>\n",
              "    </tr>\n",
              "    <tr>\n",
              "      <th>8</th>\n",
              "      <td>2019-06</td>\n",
              "      <td>Minas Tirith</td>\n",
              "      <td>86309</td>\n",
              "    </tr>\n",
              "    <tr>\n",
              "      <th>9</th>\n",
              "      <td>2019-06</td>\n",
              "      <td>Rivendell</td>\n",
              "      <td>77223</td>\n",
              "    </tr>\n",
              "    <tr>\n",
              "      <th>10</th>\n",
              "      <td>2019-06</td>\n",
              "      <td>Rohan</td>\n",
              "      <td>75453</td>\n",
              "    </tr>\n",
              "    <tr>\n",
              "      <th>11</th>\n",
              "      <td>2019-06</td>\n",
              "      <td>The Shire</td>\n",
              "      <td>104210</td>\n",
              "    </tr>\n",
              "    <tr>\n",
              "      <th>12</th>\n",
              "      <td>2019-07</td>\n",
              "      <td>Gondor</td>\n",
              "      <td>63962</td>\n",
              "    </tr>\n",
              "    <tr>\n",
              "      <th>13</th>\n",
              "      <td>2019-07</td>\n",
              "      <td>Isengard</td>\n",
              "      <td>70056</td>\n",
              "    </tr>\n",
              "    <tr>\n",
              "      <th>14</th>\n",
              "      <td>2019-07</td>\n",
              "      <td>Minas Tirith</td>\n",
              "      <td>84737</td>\n",
              "    </tr>\n",
              "    <tr>\n",
              "      <th>15</th>\n",
              "      <td>2019-07</td>\n",
              "      <td>Rivendell</td>\n",
              "      <td>81923</td>\n",
              "    </tr>\n",
              "    <tr>\n",
              "      <th>16</th>\n",
              "      <td>2019-07</td>\n",
              "      <td>Rohan</td>\n",
              "      <td>79135</td>\n",
              "    </tr>\n",
              "    <tr>\n",
              "      <th>17</th>\n",
              "      <td>2019-07</td>\n",
              "      <td>The Shire</td>\n",
              "      <td>99663</td>\n",
              "    </tr>\n",
              "    <tr>\n",
              "      <th>18</th>\n",
              "      <td>2019-08</td>\n",
              "      <td>Gondor</td>\n",
              "      <td>69473</td>\n",
              "    </tr>\n",
              "    <tr>\n",
              "      <th>19</th>\n",
              "      <td>2019-08</td>\n",
              "      <td>Isengard</td>\n",
              "      <td>75672</td>\n",
              "    </tr>\n",
              "    <tr>\n",
              "      <th>20</th>\n",
              "      <td>2019-08</td>\n",
              "      <td>Minas Tirith</td>\n",
              "      <td>97229</td>\n",
              "    </tr>\n",
              "    <tr>\n",
              "      <th>21</th>\n",
              "      <td>2019-08</td>\n",
              "      <td>Rivendell</td>\n",
              "      <td>88508</td>\n",
              "    </tr>\n",
              "    <tr>\n",
              "      <th>22</th>\n",
              "      <td>2019-08</td>\n",
              "      <td>Rohan</td>\n",
              "      <td>81847</td>\n",
              "    </tr>\n",
              "    <tr>\n",
              "      <th>23</th>\n",
              "      <td>2019-08</td>\n",
              "      <td>The Shire</td>\n",
              "      <td>102672</td>\n",
              "    </tr>\n",
              "    <tr>\n",
              "      <th>24</th>\n",
              "      <td>2019-09</td>\n",
              "      <td>Gondor</td>\n",
              "      <td>58047</td>\n",
              "    </tr>\n",
              "    <tr>\n",
              "      <th>25</th>\n",
              "      <td>2019-09</td>\n",
              "      <td>Isengard</td>\n",
              "      <td>57838</td>\n",
              "    </tr>\n",
              "    <tr>\n",
              "      <th>26</th>\n",
              "      <td>2019-09</td>\n",
              "      <td>Minas Tirith</td>\n",
              "      <td>74990</td>\n",
              "    </tr>\n",
              "    <tr>\n",
              "      <th>27</th>\n",
              "      <td>2019-09</td>\n",
              "      <td>Rivendell</td>\n",
              "      <td>69480</td>\n",
              "    </tr>\n",
              "    <tr>\n",
              "      <th>28</th>\n",
              "      <td>2019-09</td>\n",
              "      <td>Rohan</td>\n",
              "      <td>62810</td>\n",
              "    </tr>\n",
              "    <tr>\n",
              "      <th>29</th>\n",
              "      <td>2019-09</td>\n",
              "      <td>The Shire</td>\n",
              "      <td>80761</td>\n",
              "    </tr>\n",
              "  </tbody>\n",
              "</table>\n",
              "</div>"
            ],
            "text/plain": [
              "   month_year          name  id_trip\n",
              "0     2019-05        Gondor    57952\n",
              "1     2019-05      Isengard    66520\n",
              "2     2019-05  Minas Tirith    75630\n",
              "3     2019-05     Rivendell    71330\n",
              "4     2019-05         Rohan    66152\n",
              "5     2019-05     The Shire   102148\n",
              "6     2019-06        Gondor    69065\n",
              "7     2019-06      Isengard    67562\n",
              "8     2019-06  Minas Tirith    86309\n",
              "9     2019-06     Rivendell    77223\n",
              "10    2019-06         Rohan    75453\n",
              "11    2019-06     The Shire   104210\n",
              "12    2019-07        Gondor    63962\n",
              "13    2019-07      Isengard    70056\n",
              "14    2019-07  Minas Tirith    84737\n",
              "15    2019-07     Rivendell    81923\n",
              "16    2019-07         Rohan    79135\n",
              "17    2019-07     The Shire    99663\n",
              "18    2019-08        Gondor    69473\n",
              "19    2019-08      Isengard    75672\n",
              "20    2019-08  Minas Tirith    97229\n",
              "21    2019-08     Rivendell    88508\n",
              "22    2019-08         Rohan    81847\n",
              "23    2019-08     The Shire   102672\n",
              "24    2019-09        Gondor    58047\n",
              "25    2019-09      Isengard    57838\n",
              "26    2019-09  Minas Tirith    74990\n",
              "27    2019-09     Rivendell    69480\n",
              "28    2019-09         Rohan    62810\n",
              "29    2019-09     The Shire    80761"
            ]
          },
          "execution_count": 73,
          "metadata": {},
          "output_type": "execute_result"
        }
      ],
      "source": [
        "tripsby_city = trip_calendar_passenger_city.groupby(['month_year','name']).agg({'id_trip':'count'}).reset_index(drop=False)\n",
        "tripsby_city['month_year'] = tripsby_city['month_year'].astype(str)\n",
        "tripsby_city"
      ]
    },
    {
      "cell_type": "code",
      "execution_count": null,
      "id": "963c5b10",
      "metadata": {
        "id": "963c5b10",
        "outputId": "7bebefeb-7847-49c2-f3f3-b94679e6bf4b"
      },
      "outputs": [
        {
          "data": {
            "text/plain": [
              "Text(0.5, 1.0, 'Trips by month')"
            ]
          },
          "execution_count": 74,
          "metadata": {},
          "output_type": "execute_result"
        },
        {
          "data": {
            "image/png": "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\n",
            "text/plain": [
              "<Figure size 1080x432 with 1 Axes>"
            ]
          },
          "metadata": {
            "needs_background": "light"
          },
          "output_type": "display_data"
        }
      ],
      "source": [
        "plt.figure(figsize=(15,6))\n",
        "sns.lineplot(x='month_year',y='id_trip', hue='name',marker='o', data=tripsby_city)\n",
        "plt.xlabel('Date by month')\n",
        "plt.ylabel('Amount of trips')\n",
        "plt.title('Trips by month')\n"
      ]
    },
    {
      "cell_type": "markdown",
      "id": "e1da6fbd",
      "metadata": {
        "id": "e1da6fbd"
      },
      "source": [
        "# 2. She also mentioned she has a budget to invest in promoting the business. What kind of metrics and performance indicators would you use in order to help her decide if she should invest it into the passenger side or the driver side? Extra point if you provide data-backed recommendations. \n"
      ]
    },
    {
      "cell_type": "code",
      "execution_count": null,
      "id": "bb756543",
      "metadata": {
        "scrolled": true,
        "id": "bb756543",
        "outputId": "a4cd0984-1f6a-47b2-ffd3-c240628af2d9"
      },
      "outputs": [
        {
          "data": {
            "text/html": [
              "<div>\n",
              "<style scoped>\n",
              "    .dataframe tbody tr th:only-of-type {\n",
              "        vertical-align: middle;\n",
              "    }\n",
              "\n",
              "    .dataframe tbody tr th {\n",
              "        vertical-align: top;\n",
              "    }\n",
              "\n",
              "    .dataframe thead th {\n",
              "        text-align: right;\n",
              "    }\n",
              "</style>\n",
              "<table border=\"1\" class=\"dataframe\">\n",
              "  <thead>\n",
              "    <tr style=\"text-align: right;\">\n",
              "      <th></th>\n",
              "      <th>Total of trips</th>\n",
              "      <th>Total of drivers</th>\n",
              "      <th>Total of customers</th>\n",
              "      <th>Mean of distance</th>\n",
              "    </tr>\n",
              "    <tr>\n",
              "      <th>name</th>\n",
              "      <th></th>\n",
              "      <th></th>\n",
              "      <th></th>\n",
              "      <th></th>\n",
              "    </tr>\n",
              "  </thead>\n",
              "  <tbody>\n",
              "    <tr>\n",
              "      <th>Gondor</th>\n",
              "      <td>318499</td>\n",
              "      <td>17263</td>\n",
              "      <td>162989</td>\n",
              "      <td>5.033415</td>\n",
              "    </tr>\n",
              "    <tr>\n",
              "      <th>Isengard</th>\n",
              "      <td>337648</td>\n",
              "      <td>24839</td>\n",
              "      <td>177288</td>\n",
              "      <td>7.660828</td>\n",
              "    </tr>\n",
              "    <tr>\n",
              "      <th>Minas Tirith</th>\n",
              "      <td>418895</td>\n",
              "      <td>23985</td>\n",
              "      <td>203147</td>\n",
              "      <td>6.521810</td>\n",
              "    </tr>\n",
              "    <tr>\n",
              "      <th>Rivendell</th>\n",
              "      <td>388464</td>\n",
              "      <td>28748</td>\n",
              "      <td>218389</td>\n",
              "      <td>6.875432</td>\n",
              "    </tr>\n",
              "    <tr>\n",
              "      <th>Rohan</th>\n",
              "      <td>365397</td>\n",
              "      <td>21085</td>\n",
              "      <td>195425</td>\n",
              "      <td>6.111380</td>\n",
              "    </tr>\n",
              "    <tr>\n",
              "      <th>The Shire</th>\n",
              "      <td>489454</td>\n",
              "      <td>30033</td>\n",
              "      <td>243792</td>\n",
              "      <td>5.619366</td>\n",
              "    </tr>\n",
              "  </tbody>\n",
              "</table>\n",
              "</div>"
            ],
            "text/plain": [
              "              Total of trips  Total of drivers  Total of customers  \\\n",
              "name                                                                 \n",
              "Gondor                318499             17263              162989   \n",
              "Isengard              337648             24839              177288   \n",
              "Minas Tirith          418895             23985              203147   \n",
              "Rivendell             388464             28748              218389   \n",
              "Rohan                 365397             21085              195425   \n",
              "The Shire             489454             30033              243792   \n",
              "\n",
              "              Mean of distance  \n",
              "name                            \n",
              "Gondor                5.033415  \n",
              "Isengard              7.660828  \n",
              "Minas Tirith          6.521810  \n",
              "Rivendell             6.875432  \n",
              "Rohan                 6.111380  \n",
              "The Shire             5.619366  "
            ]
          },
          "execution_count": 81,
          "metadata": {},
          "output_type": "execute_result"
        }
      ],
      "source": [
        "grouped2 = trip_calendar_passenger_city.groupby('name').agg({'id_trip':'nunique','driver_id':'nunique','passenger_id':'nunique','trip_distance':'mean'})\n",
        "grouped2 = grouped2.rename(columns={'id_trip':'Total of trips','driver_id':'Total of drivers','passenger_id':'Total of customers','trip_distance':'Mean of distance'})\n",
        "grouped2"
      ]
    },
    {
      "cell_type": "code",
      "execution_count": null,
      "id": "b14e8761",
      "metadata": {
        "id": "b14e8761"
      },
      "outputs": [],
      "source": [
        "grouped3 = grouped2"
      ]
    },
    {
      "cell_type": "code",
      "execution_count": null,
      "id": "039e73ee",
      "metadata": {
        "id": "039e73ee"
      },
      "outputs": [],
      "source": [
        "grouped3['trips_by_drivers'] = grouped3['id_trip'] / grouped3['driver_id']\n",
        "grouped3['trips_by_passengers'] = grouped3['id_trip'] / grouped3['passenger_id']\n"
      ]
    },
    {
      "cell_type": "code",
      "execution_count": null,
      "id": "ebdb358e",
      "metadata": {
        "id": "ebdb358e",
        "outputId": "7138d39b-327e-4166-958e-fb25699251c6"
      },
      "outputs": [
        {
          "data": {
            "text/html": [
              "<div>\n",
              "<style scoped>\n",
              "    .dataframe tbody tr th:only-of-type {\n",
              "        vertical-align: middle;\n",
              "    }\n",
              "\n",
              "    .dataframe tbody tr th {\n",
              "        vertical-align: top;\n",
              "    }\n",
              "\n",
              "    .dataframe thead th {\n",
              "        text-align: right;\n",
              "    }\n",
              "</style>\n",
              "<table border=\"1\" class=\"dataframe\">\n",
              "  <thead>\n",
              "    <tr style=\"text-align: right;\">\n",
              "      <th></th>\n",
              "      <th>Total of trips</th>\n",
              "      <th>Total of drivers</th>\n",
              "      <th>Total of customers</th>\n",
              "      <th>Mean of distance</th>\n",
              "      <th>Trips by driver</th>\n",
              "      <th>Trips by passenger</th>\n",
              "    </tr>\n",
              "    <tr>\n",
              "      <th>name</th>\n",
              "      <th></th>\n",
              "      <th></th>\n",
              "      <th></th>\n",
              "      <th></th>\n",
              "      <th></th>\n",
              "      <th></th>\n",
              "    </tr>\n",
              "  </thead>\n",
              "  <tbody>\n",
              "    <tr>\n",
              "      <th>Gondor</th>\n",
              "      <td>318499</td>\n",
              "      <td>17263</td>\n",
              "      <td>162989</td>\n",
              "      <td>5.033415</td>\n",
              "      <td>18.449806</td>\n",
              "      <td>1.954113</td>\n",
              "    </tr>\n",
              "    <tr>\n",
              "      <th>Isengard</th>\n",
              "      <td>337648</td>\n",
              "      <td>24839</td>\n",
              "      <td>177288</td>\n",
              "      <td>7.660828</td>\n",
              "      <td>13.593462</td>\n",
              "      <td>1.904517</td>\n",
              "    </tr>\n",
              "    <tr>\n",
              "      <th>Minas Tirith</th>\n",
              "      <td>418895</td>\n",
              "      <td>23985</td>\n",
              "      <td>203147</td>\n",
              "      <td>6.521810</td>\n",
              "      <td>17.464874</td>\n",
              "      <td>2.062029</td>\n",
              "    </tr>\n",
              "    <tr>\n",
              "      <th>Rivendell</th>\n",
              "      <td>388464</td>\n",
              "      <td>28748</td>\n",
              "      <td>218389</td>\n",
              "      <td>6.875432</td>\n",
              "      <td>13.512731</td>\n",
              "      <td>1.778771</td>\n",
              "    </tr>\n",
              "    <tr>\n",
              "      <th>Rohan</th>\n",
              "      <td>365397</td>\n",
              "      <td>21085</td>\n",
              "      <td>195425</td>\n",
              "      <td>6.111380</td>\n",
              "      <td>17.329713</td>\n",
              "      <td>1.869756</td>\n",
              "    </tr>\n",
              "    <tr>\n",
              "      <th>The Shire</th>\n",
              "      <td>489454</td>\n",
              "      <td>30033</td>\n",
              "      <td>243792</td>\n",
              "      <td>5.619366</td>\n",
              "      <td>16.297206</td>\n",
              "      <td>2.007670</td>\n",
              "    </tr>\n",
              "  </tbody>\n",
              "</table>\n",
              "</div>"
            ],
            "text/plain": [
              "              Total of trips  Total of drivers  Total of customers  \\\n",
              "name                                                                 \n",
              "Gondor                318499             17263              162989   \n",
              "Isengard              337648             24839              177288   \n",
              "Minas Tirith          418895             23985              203147   \n",
              "Rivendell             388464             28748              218389   \n",
              "Rohan                 365397             21085              195425   \n",
              "The Shire             489454             30033              243792   \n",
              "\n",
              "              Mean of distance  Trips by driver  Trips by passenger  \n",
              "name                                                                 \n",
              "Gondor                5.033415        18.449806            1.954113  \n",
              "Isengard              7.660828        13.593462            1.904517  \n",
              "Minas Tirith          6.521810        17.464874            2.062029  \n",
              "Rivendell             6.875432        13.512731            1.778771  \n",
              "Rohan                 6.111380        17.329713            1.869756  \n",
              "The Shire             5.619366        16.297206            2.007670  "
            ]
          },
          "execution_count": 82,
          "metadata": {},
          "output_type": "execute_result"
        }
      ],
      "source": [
        "grouped3 = grouped3.rename(columns={'id_trip':'Total of trips','driver_id':'Total of drivers','passenger_id':'Total of customers','trip_distance':'Mean of distance','trips_by_drivers':'Trips by driver','trips_by_passengers':'Trips by passenger'})\n",
        "grouped3"
      ]
    },
    {
      "cell_type": "code",
      "execution_count": null,
      "id": "e8917080",
      "metadata": {
        "id": "e8917080"
      },
      "outputs": [],
      "source": [
        "conn.close"
      ]
    },
    {
      "cell_type": "code",
      "execution_count": null,
      "id": "105c867b",
      "metadata": {
        "id": "105c867b"
      },
      "outputs": [],
      "source": [
        "cur.close()"
      ]
    }
  ],
  "metadata": {
    "colab": {
      "collapsed_sections": [],
      "name": "transportation_app_interview.ipynb",
      "provenance": [],
      "include_colab_link": true
    },
    "kernelspec": {
      "display_name": "Python 3 (ipykernel)",
      "language": "python",
      "name": "python3"
    },
    "language_info": {
      "codemirror_mode": {
        "name": "ipython",
        "version": 3
      },
      "file_extension": ".py",
      "mimetype": "text/x-python",
      "name": "python",
      "nbconvert_exporter": "python",
      "pygments_lexer": "ipython3",
      "version": "3.9.7"
    }
  },
  "nbformat": 4,
  "nbformat_minor": 5
}
