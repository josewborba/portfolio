{
  "cells": [
    {
      "cell_type": "markdown",
      "metadata": {
        "id": "view-in-github",
        "colab_type": "text"
      },
      "source": [
        "<a href=\"https://colab.research.google.com/github/josewborba/portfolio/blob/main/Practice_Exercise_Common_Statistical_Tests_Questions.ipynb\" target=\"_parent\"><img src=\"https://colab.research.google.com/assets/colab-badge.svg\" alt=\"Open In Colab\"/></a>"
      ]
    },
    {
      "cell_type": "markdown",
      "metadata": {
        "id": "xfiEfGMSTyOE"
      },
      "source": [
        "### Importing the necessary libraries"
      ]
    },
    {
      "cell_type": "code",
      "execution_count": 1,
      "metadata": {
        "colab": {
          "base_uri": "https://localhost:8080/"
        },
        "id": "3o6mcxBYTyOH",
        "outputId": "8e4dd01f-a0cc-47c7-d82c-1efcc284d1b8"
      },
      "outputs": [
        {
          "output_type": "stream",
          "name": "stdout",
          "text": [
            "Looking in indexes: https://pypi.org/simple, https://us-python.pkg.dev/colab-wheels/public/simple/\n",
            "Requirement already satisfied: scipy in /usr/local/lib/python3.7/dist-packages (1.7.3)\n",
            "Requirement already satisfied: numpy<1.23.0,>=1.16.5 in /usr/local/lib/python3.7/dist-packages (from scipy) (1.21.6)\n"
          ]
        }
      ],
      "source": [
        "import numpy as np\n",
        "import pandas as pd\n",
        "import matplotlib.pyplot as plt\n",
        "import scipy.stats as stats\n",
        "!pip install scipy --upgrade"
      ]
    },
    {
      "cell_type": "markdown",
      "metadata": {
        "_cell_guid": "9b9566bb-e9b5-4b48-9b45-0194167d2b2b",
        "_uuid": "6256e72b89e829fc8583163418120a3e50aaa156",
        "id": "euOWOovJE43G"
      },
      "source": [
        "# 1. One-sample t-test \n",
        "\n",
        "The mass of a sample of N = 20 acorns from a forest subjected to acid rain from a coal power plant are m = [8.8, 6.6, 9.5, 11.2, 10.2, 7.4, 8.0, 9.6, 9.9, 9.0, 7.6, 7.4, 10.4, 11.1, 8.5, 10.0, 11.6, 10.7, 10.3, and 7.0 g. ]\n",
        "\n",
        "Does this sample provide enough evidence (alpha = 0.05) to say that the average mass of all acorns is different from 10 g?"
      ]
    },
    {
      "cell_type": "markdown",
      "metadata": {
        "id": "R-VTYOuwTyOI"
      },
      "source": [
        "**a) Formulate the null and alternate hypothesis**"
      ]
    },
    {
      "cell_type": "markdown",
      "source": [
        "h0 = mass = 10\n",
        "\n",
        "ha = mass != 10"
      ],
      "metadata": {
        "id": "UQr1i1fuT_g_"
      }
    },
    {
      "cell_type": "markdown",
      "metadata": {
        "id": "5kkDRQr7TyOJ"
      },
      "source": [
        "**b) Calculate the test-statistic and based on the p-value provide a conclusion.**"
      ]
    },
    {
      "cell_type": "code",
      "execution_count": 2,
      "metadata": {
        "id": "KEfYq5u5TyOJ"
      },
      "outputs": [],
      "source": [
        "m = [8.8, 6.6, 9.5, 11.2, 10.2, 7.4, 8.0, 9.6, 9.9, 9.0, 7.6, 7.4, 10.4, 11.1, 8.5, 10.0, 11.6, 10.7, 10.3, 7.0]"
      ]
    },
    {
      "cell_type": "code",
      "source": [
        "from scipy.stats import ttest_1samp\n",
        "\n",
        "mu = 10\n"
      ],
      "metadata": {
        "id": "TaSVvr7FUYMt"
      },
      "execution_count": 8,
      "outputs": []
    },
    {
      "cell_type": "code",
      "source": [
        "test_stat, p_value = ttest_1samp(m, popmean = mu, alternative = 'two-sided')\n",
        "test_stat, p_value"
      ],
      "metadata": {
        "colab": {
          "base_uri": "https://localhost:8080/"
        },
        "id": "7Lle-_XPUmOH",
        "outputId": "2415dcf4-39c6-48b5-f335-613c3cba75dd"
      },
      "execution_count": 10,
      "outputs": [
        {
          "output_type": "execute_result",
          "data": {
            "text/plain": [
              "(-2.2491611580763973, 0.03655562279112415)"
            ]
          },
          "metadata": {},
          "execution_count": 10
        }
      ]
    },
    {
      "cell_type": "markdown",
      "source": [
        "The p-value is smaller than alfa which means we succeed to reject h0 which indicates that the mass is different of 10g\n",
        "\n"
      ],
      "metadata": {
        "id": "rzDj8DFsWPIc"
      }
    },
    {
      "cell_type": "markdown",
      "metadata": {
        "_cell_guid": "fd17fd23-4f92-403e-aada-0b61433b22e9",
        "_uuid": "948240552a9daac38010e7ec652d02adbdfab6f7",
        "id": "ulAnmKcwE43M"
      },
      "source": [
        "# 2. Independent (unpaired) two-sample t-test\n",
        "\n",
        "The mass of N<sub>1</sub> = 20 acorns from oak trees up wind from a coal power plant and N<sub>2</sub> = 30 acorns from oak trees down wind from the same coal power plant are measured. Is the mass of acorns from trees down wind different from the ones from up wind at a significance level of 0.05? The sample sizes are not equal but we will assume that the population variance for sample 1 and sample 2 are equal.\n",
        "\n",
        "#### sample up wind:\n",
        "x1 = [10.8, 10.0, 8.2, 9.9, 11.6, 10.1, 11.3, 10.3, 10.7, 9.7, \n",
        "      7.8, 9.6, 9.7, 11.6, 10.3, 9.8, 12.3, 11.0, 10.4, 10.4]\n",
        "\n",
        "#### sample down wind:\n",
        "x2 = [7.8, 7.5, 9.5, 11.7, 8.1, 8.8, 8.8, 7.7, 9.7, 7.0, \n",
        "      9.0, 9.7, 11.3, 8.7, 8.8, 10.9, 10.3, 9.6, 8.4, 6.6,\n",
        "      7.2, 7.6, 11.5, 6.6, 8.6, 10.5, 8.4, 8.5, 10.2, 9.2]"
      ]
    },
    {
      "cell_type": "markdown",
      "metadata": {
        "id": "fGNCbV3yTyOK"
      },
      "source": [
        "**a) Formulate the null and alternate hypothesis.**"
      ]
    },
    {
      "cell_type": "markdown",
      "source": [
        "h0 = The mass of n1 is equal to the mass of n2\n",
        "\n",
        "ha = the mass of n1 is different to the of n2"
      ],
      "metadata": {
        "id": "FiUDuR4-W66z"
      }
    },
    {
      "cell_type": "markdown",
      "metadata": {
        "id": "rbD7RF7iTyOL"
      },
      "source": [
        "**b) Calculate the test-statistic and based on the p-value provide a conclusion.**"
      ]
    },
    {
      "cell_type": "code",
      "execution_count": 11,
      "metadata": {
        "colab": {
          "base_uri": "https://localhost:8080/"
        },
        "id": "iDqJDZvcTyOM",
        "outputId": "90ffa841-e6aa-446d-ef56-5c322501fe60"
      },
      "outputs": [
        {
          "output_type": "execute_result",
          "data": {
            "text/plain": [
              "(3.5981947686898033, 0.0007560337478801464)"
            ]
          },
          "metadata": {},
          "execution_count": 11
        }
      ],
      "source": [
        "from scipy.stats import ttest_ind\n",
        "\n",
        "x1 = [10.8, 10.0, 8.2, 9.9, 11.6, 10.1, 11.3, 10.3, 10.7, 9.7, 7.8, 9.6, 9.7, 11.6, 10.3, 9.8, 12.3, 11.0, 10.4, 10.4]\n",
        "x2 = [7.8, 7.5, 9.5, 11.7, 8.1, 8.8, 8.8, 7.7, 9.7, 7.0, 9.0, 9.7, 11.3, 8.7, 8.8, 10.9, 10.3, 9.6, 8.4, 6.6, 7.2, 7.6, 11.5, 6.6, 8.6, 10.5, 8.4, 8.5, 10.2, 9.2]\n",
        "\n",
        "test_stat, p_value = ttest_ind(x1, x2, equal_var = True, alternative = 'two-sided')\n",
        "test_stat, p_value"
      ]
    },
    {
      "cell_type": "markdown",
      "source": [
        "The p-value is 0.00 which means we succed to reject the null hypothesis and conclude that the mass of n1 and n2 are different"
      ],
      "metadata": {
        "id": "wpFKqkZHXk48"
      }
    },
    {
      "cell_type": "markdown",
      "metadata": {
        "_cell_guid": "9b5d97b5-9c0c-4a45-b333-36d3bdeecdcc",
        "_uuid": "8520e337989f942369ad861e6aebece17394efe3",
        "collapsed": true,
        "id": "1qEyYs3GE43P"
      },
      "source": [
        "# 3. Paired samples t-test\n",
        "\n",
        "The average mass of acorns from the same N = 30 trees downwind of a power plant is measured before (x<sub>1</sub>) and after (x<sub>2</sub>) the power plant converts from burning coal to burning natural gas. Does the mass of the acorns change after the conversion from coal to natural gas at a significance level of 0.05? \n",
        "\n",
        "### sample before conversion to natural gas\n",
        "x1 = np.array([10.8, 6.4, 8.3, 7.6, 11.4, 9.9, 10.6, 8.7, 8.1, 10.9,\n",
        "      11.0, 11.8, 7.3, 9.6, 9.3, 9.9, 9.0, 9.5, 10.6, 10.3,\n",
        "      8.8, 12.3, 8.9, 10.5, 11.6, 7.6, 8.9, 10.4, 10.2, 8.8])\n",
        "\n",
        "### sample after conversion to natural gas\n",
        "x2 = np.array([10.1, 6.9, 8.6, 8.8, 12.1, 11.3, 12.4, 9.3, 9.3, 10.8,\n",
        "      12.4, 11.5, 7.4, 10.0, 11.1, 10.6, 9.4, 9.5, 10.0, 10.0,\n",
        "      9.7, 13.5, 9.6, 11.6, 11.7, 7.9, 8.6, 10.8, 9.5, 9.6])\n"
      ]
    },
    {
      "cell_type": "markdown",
      "metadata": {
        "id": "kj-Odr1STyOM"
      },
      "source": [
        "**a) Formulate the null and alternate hypothesis.**"
      ]
    },
    {
      "cell_type": "markdown",
      "source": [
        "h0 = the mass doesn't change\n",
        "\n",
        "ha = the mass changes"
      ],
      "metadata": {
        "id": "UulBJKgmYI09"
      }
    },
    {
      "cell_type": "markdown",
      "metadata": {
        "id": "-tcu6wA_TyON"
      },
      "source": [
        "**b) Calculate the test-statistic and based on the p-value provide a conclusion.**"
      ]
    },
    {
      "cell_type": "code",
      "execution_count": 12,
      "metadata": {
        "colab": {
          "base_uri": "https://localhost:8080/"
        },
        "id": "SBeFfaXzTyON",
        "outputId": "a6d266f9-370e-4c3e-dbb7-696e0da023ca"
      },
      "outputs": [
        {
          "output_type": "stream",
          "name": "stdout",
          "text": [
            "The p-value is  0.0005168689824684378\n"
          ]
        }
      ],
      "source": [
        "#import the required functions\n",
        "from scipy.stats import ttest_rel\n",
        "\n",
        "x1 = np.array([10.8, 6.4, 8.3, 7.6, 11.4, 9.9, 10.6, 8.7, 8.1, 10.9, 11.0, 11.8, 7.3, 9.6, 9.3, 9.9, 9.0, 9.5, 10.6, 10.3, 8.8, 12.3, 8.9, 10.5, 11.6, 7.6, 8.9, 10.4, 10.2, 8.8])\n",
        "\n",
        "x2 = np.array([10.1, 6.9, 8.6, 8.8, 12.1, 11.3, 12.4, 9.3, 9.3, 10.8, 12.4, 11.5, 7.4, 10.0, 11.1, 10.6, 9.4, 9.5, 10.0, 10.0, 9.7, 13.5, 9.6, 11.6, 11.7, 7.9, 8.6, 10.8, 9.5, 9.6])\n",
        "\n",
        "\n",
        "# find the p-value\n",
        "test_stat, p_value = ttest_rel(x1, x2, alternative = 'two-sided')\n",
        "print('The p-value is ', p_value)"
      ]
    },
    {
      "cell_type": "markdown",
      "source": [
        "The p-value is  0.0005168689824684378 which means we can reject the null hypothesis and assume that  the mean changed"
      ],
      "metadata": {
        "id": "WYivhmLEZD7e"
      }
    },
    {
      "cell_type": "markdown",
      "metadata": {
        "id": "JT1icULaTyON"
      },
      "source": [
        "# 4. ANOVA test\n",
        "\n",
        "The marks obtained by 5 randomly picked students in Mathematics exam from three sections A, B, and C are as follows:\n",
        "\n",
        "### Marks of 5 randomly picked students from Section A\n",
        "A = [51, 45, 33, 45, 67]\n",
        "\n",
        "### Marks of 5 randomly picked students from Section B\n",
        "B = [23, 43, 23, 43, 45]\n",
        "\n",
        "### Marks of 5 randomly picked students from Section C\n",
        "C = [56, 76, 74, 87, 56]\n",
        "\n",
        "Does the sample provide enough evidence to say that the mean marks of students in the three sections are different?"
      ]
    },
    {
      "cell_type": "markdown",
      "metadata": {
        "id": "K6fejwH9TyOO"
      },
      "source": [
        "**a) Formulate the null and alternate hypothesis.**"
      ]
    },
    {
      "cell_type": "markdown",
      "source": [
        "h0 = the means are equal\n",
        "\n",
        "ha = the means are different"
      ],
      "metadata": {
        "id": "8ldi07wmZdhL"
      }
    },
    {
      "cell_type": "markdown",
      "metadata": {
        "id": "5qZeshPtTyOO"
      },
      "source": [
        "**b) Calculate the test-statistic and based on the p-value provide a conclusion.**"
      ]
    },
    {
      "cell_type": "code",
      "execution_count": 14,
      "metadata": {
        "colab": {
          "base_uri": "https://localhost:8080/"
        },
        "id": "4tkTaQFUTyOO",
        "outputId": "e0abcf59-88f0-4b94-dbc4-adf278a57787"
      },
      "outputs": [
        {
          "output_type": "stream",
          "name": "stdout",
          "text": [
            "The p-value is 0.0030597541434430556\n"
          ]
        }
      ],
      "source": [
        "#import the required function\n",
        "from scipy.stats import f_oneway\n",
        "\n",
        "A = [51, 45, 33, 45, 67]\n",
        "\n",
        "B = [23, 43, 23, 43, 45]\n",
        "\n",
        "C = [56, 76, 74, 87, 56]\n",
        "\n",
        "# perform one-way anova test\n",
        "test_stat, p_value = f_oneway(A,B,C)\n",
        "print('The p-value is ' + str(p_value))"
      ]
    },
    {
      "cell_type": "markdown",
      "source": [
        "The p-value is 0.0030597541434430556 hence we can reject the null hypothesis and have statistical significance to conclude that the mean marks are different"
      ],
      "metadata": {
        "id": "mUpG27zSZ1nQ"
      }
    },
    {
      "cell_type": "code",
      "source": [
        ""
      ],
      "metadata": {
        "id": "VxPCz-TSZ-7M"
      },
      "execution_count": null,
      "outputs": []
    }
  ],
  "metadata": {
    "kernelspec": {
      "display_name": "Python 3",
      "language": "python",
      "name": "python3"
    },
    "language_info": {
      "codemirror_mode": {
        "name": "ipython",
        "version": 3
      },
      "file_extension": ".py",
      "mimetype": "text/x-python",
      "name": "python",
      "nbconvert_exporter": "python",
      "pygments_lexer": "ipython3",
      "version": "3.8.8"
    },
    "colab": {
      "name": "Practice_Exercise_Common_Statistical_Tests_Questions.ipynb",
      "provenance": [],
      "include_colab_link": true
    }
  },
  "nbformat": 4,
  "nbformat_minor": 0
}