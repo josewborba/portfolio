{
  "cells": [
    {
      "cell_type": "markdown",
      "metadata": {
        "id": "view-in-github",
        "colab_type": "text"
      },
      "source": [
        "<a href=\"https://colab.research.google.com/github/josewborba/portfolio/blob/main/Netflix_EDA.ipynb\" target=\"_parent\"><img src=\"https://colab.research.google.com/assets/colab-badge.svg\" alt=\"Open In Colab\"/></a>"
      ]
    },
    {
      "cell_type": "markdown",
      "id": "3e71475f",
      "metadata": {
        "dc": {
          "key": "4"
        },
        "deletable": false,
        "editable": false,
        "run_control": {
          "frozen": true
        },
        "tags": [
          "context"
        ],
        "id": "3e71475f"
      },
      "source": [
        "## 1. Loading your friend's data into a dictionary\n",
        "<p><img src=\"https://assets.datacamp.com/production/project_1237/img/netflix.jpg\" alt=\"Someone's feet on table facing a television\"></p>\n",
        "<p>Netflix! What started in 1997 as a DVD rental service has since exploded into the largest entertainment/media company by <a href=\"https://www.marketwatch.com/story/netflix-shares-close-up-8-for-yet-another-record-high-2020-07-10\">market capitalization</a>, boasting over 200 million subscribers as of <a href=\"https://www.cbsnews.com/news/netflix-tops-200-million-subscribers-but-faces-growing-challenge-from-disney-plus/\">January 2021</a>.</p>\n",
        "<p>Given the large number of movies and series available on the platform, it is a perfect opportunity to flex our data manipulation skills and dive into the entertainment industry. Our friend has also been brushing up on their Python skills and has taken a first crack at a CSV file containing Netflix data. For their first order of business, they have been performing some analyses, and they believe that the average duration of movies has been declining. </p>\n",
        "<p>As evidence of this, they have provided us with the following information. For the years from 2011 to 2020, the average movie durations are 103, 101, 99, 100, 100, 95, 95, 96, 93, and 90, respectively.</p>\n",
        "<p>If we're going to be working with this data, we know a good place to start would be to probably start working with <code>pandas</code>. But first we'll need to create a DataFrame from scratch. Let's start by creating a Python object covered in <a href=\"https://learn.datacamp.com/courses/intermediate-python\">Intermediate Python</a>: a dictionary!</p>"
      ]
    },
    {
      "cell_type": "code",
      "execution_count": null,
      "id": "8b7c188e",
      "metadata": {
        "dc": {
          "key": "4"
        },
        "tags": [
          "sample_code"
        ],
        "id": "8b7c188e",
        "outputId": "f03686e1-e600-4137-dc42-60e93dd33f8f"
      },
      "outputs": [
        {
          "name": "stdout",
          "output_type": "stream",
          "text": [
            "{'years': [2011, 2012, 2013, 2014, 2015, 2016, 2017, 2018, 2019, 2020], 'durations': [103, 101, 99, 100, 100, 95, 95, 96, 93, 90]}\n"
          ]
        }
      ],
      "source": [
        "# Create the years and durations lists\n",
        "years = list(range(2011, 2021))\n",
        "durations = [103, 101, 99, 100, 100, 95, 95, 96, 93, 90]\n",
        "\n",
        "# Create a dictionary with the two lists\n",
        "movie_dict = {'years':years, 'durations':durations}\n",
        "\n",
        "# Print the dictionary\n",
        "print(movie_dict)"
      ]
    },
    {
      "cell_type": "markdown",
      "id": "930b68e2",
      "metadata": {
        "dc": {
          "key": "11"
        },
        "deletable": false,
        "editable": false,
        "run_control": {
          "frozen": true
        },
        "tags": [
          "context"
        ],
        "id": "930b68e2"
      },
      "source": [
        "## 2. Creating a DataFrame from a dictionary\n",
        "<p>To convert our dictionary <code>movie_dict</code> to a <code>pandas</code> DataFrame, we will first need to import the library under its usual alias. We'll also want to inspect our DataFrame to ensure it was created correctly. Let's perform these steps now.</p>"
      ]
    },
    {
      "cell_type": "code",
      "execution_count": null,
      "id": "6e0860a1",
      "metadata": {
        "dc": {
          "key": "11"
        },
        "tags": [
          "sample_code"
        ],
        "id": "6e0860a1",
        "outputId": "08834123-4057-4a0a-a2ec-1177131c4c0e"
      },
      "outputs": [
        {
          "name": "stdout",
          "output_type": "stream",
          "text": [
            "   years  durations\n",
            "0   2011        103\n",
            "1   2012        101\n",
            "2   2013         99\n",
            "3   2014        100\n",
            "4   2015        100\n",
            "5   2016         95\n",
            "6   2017         95\n",
            "7   2018         96\n",
            "8   2019         93\n",
            "9   2020         90\n"
          ]
        }
      ],
      "source": [
        "# Import pandas under its usual alias\n",
        "import pandas as pd\n",
        "\n",
        "# Create a DataFrame from the dictionary\n",
        "durations_df = pd.DataFrame(movie_dict)\n",
        "\n",
        "# Print the DataFrame\n",
        "print(durations_df)"
      ]
    },
    {
      "cell_type": "markdown",
      "id": "4ae2135d",
      "metadata": {
        "dc": {
          "key": "18"
        },
        "deletable": false,
        "editable": false,
        "run_control": {
          "frozen": true
        },
        "tags": [
          "context"
        ],
        "id": "4ae2135d"
      },
      "source": [
        "## 3. A visual inspection of our data\n",
        "<p>Alright, we now have a <code>pandas</code> DataFrame, the most common way to work with tabular data in Python. Now back to the task at hand. We want to follow up on our friend's assertion that movie lengths have been decreasing over time. A great place to start will be a visualization of the data.</p>\n",
        "<p>Given that the data is continuous, a line plot would be a good choice, with the dates represented along the x-axis and the average length in minutes along the y-axis. This will allow us to easily spot any trends in movie durations. There are many ways to visualize data in Python, but <code>matploblib.pyplot</code> is one of the most common packages to do so.</p>\n",
        "<p><em>Note: In order for us to correctly test your plot, you will need to initalize a <code>matplotlib.pyplot</code> Figure object, which we have already provided in the cell below. You can continue to create your plot as you have learned in Intermediate Python.</em></p>"
      ]
    },
    {
      "cell_type": "code",
      "execution_count": null,
      "id": "50a425c5",
      "metadata": {
        "dc": {
          "key": "18"
        },
        "tags": [
          "sample_code"
        ],
        "id": "50a425c5",
        "outputId": "67874775-ce57-485f-df08-be3a3256df43"
      },
      "outputs": [
        {
          "data": {
            "image/png": "[encoded data removed]",
            "text/plain": [
              "<Figure size 432x288 with 1 Axes>"
            ]
          },
          "metadata": {
            "needs_background": "light"
          },
          "output_type": "display_data"
        }
      ],
      "source": [
        "# Import matplotlib.pyplot under its usual alias and create a figure\n",
        "import matplotlib.pyplot as plt\n",
        "\n",
        "fig = plt.figure()\n",
        "\n",
        "# Draw a line plot of release_years and durations\n",
        "plt.plot(years,durations)\n",
        "\n",
        "# Create a title\n",
        "plt.title('Netflix Movie Durations 2011-2020')\n",
        "\n",
        "# Show the plot\n",
        "plt.show()"
      ]
    },
    {
      "cell_type": "markdown",
      "id": "9535c244",
      "metadata": {
        "dc": {
          "key": "25"
        },
        "deletable": false,
        "editable": false,
        "run_control": {
          "frozen": true
        },
        "tags": [
          "context"
        ],
        "id": "9535c244"
      },
      "source": [
        "## 4. Loading the rest of the data from a CSV\n",
        "<p>Well, it looks like there is something to the idea that movie lengths have decreased over the past ten years! But equipped only with our friend's aggregations, we're limited in the further explorations we can perform. There are a few questions about this trend that we are currently unable to answer, including:</p>\n",
        "<ol>\n",
        "<li>What does this trend look like over a longer period of time?</li>\n",
        "<li>Is this explainable by something like the genre of entertainment?</li>\n",
        "</ol>\n",
        "<p>Upon asking our friend for the original CSV they used to perform their analyses, they gladly oblige and send it. We now have access to the CSV file, available at the path <code>\"datasets/netflix_data.csv\"</code>. Let's create another DataFrame, this time with all of the data. Given the length of our friend's data, printing the whole DataFrame is probably not a good idea, so we will inspect it by printing only the first five rows.</p>"
      ]
    },
    {
      "cell_type": "code",
      "execution_count": null,
      "id": "e0296834",
      "metadata": {
        "dc": {
          "key": "25"
        },
        "tags": [
          "sample_code"
        ],
        "id": "e0296834",
        "outputId": "a6c63115-6667-443f-c94a-ae0aecc8fc1a"
      },
      "outputs": [
        {
          "data": {
            "application/com.datacamp.data-table.v1+json": {
              "is_truncated": false,
              "table": {
                "data": [
                  {
                    "cast": "João Miguel, Bianca Comparato, Michel Gomes, Rodolfo Valente, Vaneza Oliveira, Rafael Lozano, Viviane Porto, Mel Fronckowiak, Sergio Mamberti, Zezé Motta, Celso Frateschi",
                    "country": "Brazil",
                    "date_added": "August 14, 2020",
                    "description": "In a future where the elite inhabit an island paradise far from the crowded slums, you get one chance to join the 3% saved from squalor.",
                    "director": null,
                    "duration": 4,
                    "genre": "International TV",
                    "index": 0,
                    "release_year": 2020,
                    "show_id": "s1",
                    "title": "3%",
                    "type": "TV Show"
                  },
                  {
                    "cast": "Demián Bichir, Héctor Bonilla, Oscar Serrano, Azalia Ortiz, Octavio Michel, Carmen Beato",
                    "country": "Mexico",
                    "date_added": "December 23, 2016",
                    "description": "After a devastating earthquake hits Mexico City, trapped survivors from all walks of life wait to be rescued while trying desperately to stay alive.",
                    "director": "Jorge Michel Grau",
                    "duration": 93,
                    "genre": "Dramas",
                    "index": 1,
                    "release_year": 2016,
                    "show_id": "s2",
                    "title": "7:19",
                    "type": "Movie"
                  },
                  {
                    "cast": "Tedd Chan, Stella Chung, Henley Hii, Lawrence Koh, Tommy Kuan, Josh Lai, Mark Lee, Susan Leong, Benjamin Lim",
                    "country": "Singapore",
                    "date_added": "December 20, 2018",
                    "description": "When an army recruit is found dead, his fellow soldiers are forced to confront a terrifying secret that's haunting their jungle island training camp.",
                    "director": "Gilbert Chan",
                    "duration": 78,
                    "genre": "Horror Movies",
                    "index": 2,
                    "release_year": 2011,
                    "show_id": "s3",
                    "title": "23:59",
                    "type": "Movie"
                  },
                  {
                    "cast": "Elijah Wood, John C. Reilly, Jennifer Connelly, Christopher Plummer, Crispin Glover, Martin Landau, Fred Tatasciore, Alan Oppenheimer, Tom Kane",
                    "country": "United States",
                    "date_added": "November 16, 2017",
                    "description": "In a postapocalyptic world, rag-doll robots hide in fear from dangerous machines out to exterminate them, until a brave newcomer joins the group.",
                    "director": "Shane Acker",
                    "duration": 80,
                    "genre": "Action",
                    "index": 3,
                    "release_year": 2009,
                    "show_id": "s4",
                    "title": "9",
                    "type": "Movie"
                  },
                  {
                    "cast": "Jim Sturgess, Kevin Spacey, Kate Bosworth, Aaron Yoo, Liza Lapira, Jacob Pitts, Laurence Fishburne, Jack McGee, Josh Gad, Sam Golzari, Helen Carey, Jack Gilpin",
                    "country": "United States",
                    "date_added": "January 1, 2020",
                    "description": "A brilliant group of students become card-counting experts with the intent of swindling millions out of Las Vegas casinos by playing blackjack.",
                    "director": "Robert Luketic",
                    "duration": 123,
                    "genre": "Dramas",
                    "index": 4,
                    "release_year": 2008,
                    "show_id": "s5",
                    "title": "21",
                    "type": "Movie"
                  }
                ],
                "schema": {
                  "fields": [
                    {
                      "name": "index",
                      "type": "integer"
                    },
                    {
                      "name": "show_id",
                      "type": "string"
                    },
                    {
                      "name": "type",
                      "type": "string"
                    },
                    {
                      "name": "title",
                      "type": "string"
                    },
                    {
                      "name": "director",
                      "type": "string"
                    },
                    {
                      "name": "cast",
                      "type": "string"
                    },
                    {
                      "name": "country",
                      "type": "string"
                    },
                    {
                      "name": "date_added",
                      "type": "string"
                    },
                    {
                      "name": "release_year",
                      "type": "integer"
                    },
                    {
                      "name": "duration",
                      "type": "integer"
                    },
                    {
                      "name": "description",
                      "type": "string"
                    },
                    {
                      "name": "genre",
                      "type": "string"
                    }
                  ],
                  "pandas_version": "0.20.0",
                  "primaryKey": [
                    "index"
                  ]
                }
              },
              "total_rows": 5
            },
            "text/html": [
              "<div>\n",
              "<style scoped>\n",
              "    .dataframe tbody tr th:only-of-type {\n",
              "        vertical-align: middle;\n",
              "    }\n",
              "\n",
              "    .dataframe tbody tr th {\n",
              "        vertical-align: top;\n",
              "    }\n",
              "\n",
              "    .dataframe thead th {\n",
              "        text-align: right;\n",
              "    }\n",
              "</style>\n",
              "<table border=\"1\" class=\"dataframe\">\n",
              "  <thead>\n",
              "    <tr style=\"text-align: right;\">\n",
              "      <th></th>\n",
              "      <th>show_id</th>\n",
              "      <th>type</th>\n",
              "      <th>title</th>\n",
              "      <th>director</th>\n",
              "      <th>cast</th>\n",
              "      <th>country</th>\n",
              "      <th>date_added</th>\n",
              "      <th>release_year</th>\n",
              "      <th>duration</th>\n",
              "      <th>description</th>\n",
              "      <th>genre</th>\n",
              "    </tr>\n",
              "  </thead>\n",
              "  <tbody>\n",
              "    <tr>\n",
              "      <th>0</th>\n",
              "      <td>s1</td>\n",
              "      <td>TV Show</td>\n",
              "      <td>3%</td>\n",
              "      <td>NaN</td>\n",
              "      <td>João Miguel, Bianca Comparato, Michel Gomes, R...</td>\n",
              "      <td>Brazil</td>\n",
              "      <td>August 14, 2020</td>\n",
              "      <td>2020</td>\n",
              "      <td>4</td>\n",
              "      <td>In a future where the elite inhabit an island ...</td>\n",
              "      <td>International TV</td>\n",
              "    </tr>\n",
              "    <tr>\n",
              "      <th>1</th>\n",
              "      <td>s2</td>\n",
              "      <td>Movie</td>\n",
              "      <td>7:19</td>\n",
              "      <td>Jorge Michel Grau</td>\n",
              "      <td>Demián Bichir, Héctor Bonilla, Oscar Serrano, ...</td>\n",
              "      <td>Mexico</td>\n",
              "      <td>December 23, 2016</td>\n",
              "      <td>2016</td>\n",
              "      <td>93</td>\n",
              "      <td>After a devastating earthquake hits Mexico Cit...</td>\n",
              "      <td>Dramas</td>\n",
              "    </tr>\n",
              "    <tr>\n",
              "      <th>2</th>\n",
              "      <td>s3</td>\n",
              "      <td>Movie</td>\n",
              "      <td>23:59</td>\n",
              "      <td>Gilbert Chan</td>\n",
              "      <td>Tedd Chan, Stella Chung, Henley Hii, Lawrence ...</td>\n",
              "      <td>Singapore</td>\n",
              "      <td>December 20, 2018</td>\n",
              "      <td>2011</td>\n",
              "      <td>78</td>\n",
              "      <td>When an army recruit is found dead, his fellow...</td>\n",
              "      <td>Horror Movies</td>\n",
              "    </tr>\n",
              "    <tr>\n",
              "      <th>3</th>\n",
              "      <td>s4</td>\n",
              "      <td>Movie</td>\n",
              "      <td>9</td>\n",
              "      <td>Shane Acker</td>\n",
              "      <td>Elijah Wood, John C. Reilly, Jennifer Connelly...</td>\n",
              "      <td>United States</td>\n",
              "      <td>November 16, 2017</td>\n",
              "      <td>2009</td>\n",
              "      <td>80</td>\n",
              "      <td>In a postapocalyptic world, rag-doll robots hi...</td>\n",
              "      <td>Action</td>\n",
              "    </tr>\n",
              "    <tr>\n",
              "      <th>4</th>\n",
              "      <td>s5</td>\n",
              "      <td>Movie</td>\n",
              "      <td>21</td>\n",
              "      <td>Robert Luketic</td>\n",
              "      <td>Jim Sturgess, Kevin Spacey, Kate Bosworth, Aar...</td>\n",
              "      <td>United States</td>\n",
              "      <td>January 1, 2020</td>\n",
              "      <td>2008</td>\n",
              "      <td>123</td>\n",
              "      <td>A brilliant group of students become card-coun...</td>\n",
              "      <td>Dramas</td>\n",
              "    </tr>\n",
              "  </tbody>\n",
              "</table>\n",
              "</div>"
            ],
            "text/plain": [
              "  show_id     type  title           director  \\\n",
              "0      s1  TV Show     3%                NaN   \n",
              "1      s2    Movie   7:19  Jorge Michel Grau   \n",
              "2      s3    Movie  23:59       Gilbert Chan   \n",
              "3      s4    Movie      9        Shane Acker   \n",
              "4      s5    Movie     21     Robert Luketic   \n",
              "\n",
              "                                                cast        country  \\\n",
              "0  João Miguel, Bianca Comparato, Michel Gomes, R...         Brazil   \n",
              "1  Demián Bichir, Héctor Bonilla, Oscar Serrano, ...         Mexico   \n",
              "2  Tedd Chan, Stella Chung, Henley Hii, Lawrence ...      Singapore   \n",
              "3  Elijah Wood, John C. Reilly, Jennifer Connelly...  United States   \n",
              "4  Jim Sturgess, Kevin Spacey, Kate Bosworth, Aar...  United States   \n",
              "\n",
              "          date_added  release_year  duration  \\\n",
              "0    August 14, 2020          2020         4   \n",
              "1  December 23, 2016          2016        93   \n",
              "2  December 20, 2018          2011        78   \n",
              "3  November 16, 2017          2009        80   \n",
              "4    January 1, 2020          2008       123   \n",
              "\n",
              "                                         description             genre  \n",
              "0  In a future where the elite inhabit an island ...  International TV  \n",
              "1  After a devastating earthquake hits Mexico Cit...            Dramas  \n",
              "2  When an army recruit is found dead, his fellow...     Horror Movies  \n",
              "3  In a postapocalyptic world, rag-doll robots hi...            Action  \n",
              "4  A brilliant group of students become card-coun...            Dramas  "
            ]
          },
          "execution_count": 7,
          "metadata": {},
          "output_type": "execute_result"
        }
      ],
      "source": [
        "# Read in the CSV as a DataFrame\n",
        "netflix_df = pd.read_csv(\"datasets/netflix_data.csv\")\n",
        "\n",
        "# Print the first five rows of the DataFrame\n",
        "netflix_df.head()"
      ]
    },
    {
      "cell_type": "markdown",
      "id": "4a5b249b",
      "metadata": {
        "dc": {
          "key": "32"
        },
        "deletable": false,
        "editable": false,
        "run_control": {
          "frozen": true
        },
        "tags": [
          "context"
        ],
        "id": "4a5b249b"
      },
      "source": [
        "## 5. Filtering for movies!\n",
        "<p>Okay, we have our data! Now we can dive in and start looking at movie lengths. </p>\n",
        "<p>Or can we? Looking at the first five rows of our new DataFrame, we notice a column <code>type</code>. Scanning the column, it's clear there are also TV shows in the dataset! Moreover, the <code>duration</code> column we planned to use seems to represent different values depending on whether the row is a movie or a show (perhaps the number of minutes versus the number of seasons)?</p>\n",
        "<p>Fortunately, a DataFrame allows us to filter data quickly, and we can select rows where <code>type</code> is <code>Movie</code>. While we're at it, we don't need information from all of the columns, so let's create a new DataFrame <code>netflix_movies</code> containing only <code>title</code>, <code>country</code>, <code>genre</code>, <code>release_year</code>, and <code>duration</code>.</p>\n",
        "<p>Let's put our data subsetting skills to work!</p>"
      ]
    },
    {
      "cell_type": "code",
      "execution_count": null,
      "id": "128c998b",
      "metadata": {
        "dc": {
          "key": "32"
        },
        "tags": [
          "sample_code"
        ],
        "id": "128c998b",
        "outputId": "a6d5ce6e-4db6-4d89-89d2-df3bf3e723a6"
      },
      "outputs": [
        {
          "data": {
            "application/com.datacamp.data-table.v1+json": {
              "is_truncated": false,
              "table": {
                "data": [
                  {
                    "country": "Brazil",
                    "duration": 4,
                    "genre": "International TV",
                    "index": 0,
                    "release_year": 2020,
                    "title": "3%"
                  },
                  {
                    "country": "Mexico",
                    "duration": 93,
                    "genre": "Dramas",
                    "index": 1,
                    "release_year": 2016,
                    "title": "7:19"
                  },
                  {
                    "country": "Singapore",
                    "duration": 78,
                    "genre": "Horror Movies",
                    "index": 2,
                    "release_year": 2011,
                    "title": "23:59"
                  },
                  {
                    "country": "United States",
                    "duration": 80,
                    "genre": "Action",
                    "index": 3,
                    "release_year": 2009,
                    "title": "9"
                  },
                  {
                    "country": "United States",
                    "duration": 123,
                    "genre": "Dramas",
                    "index": 4,
                    "release_year": 2008,
                    "title": "21"
                  }
                ],
                "schema": {
                  "fields": [
                    {
                      "name": "index",
                      "type": "integer"
                    },
                    {
                      "name": "title",
                      "type": "string"
                    },
                    {
                      "name": "country",
                      "type": "string"
                    },
                    {
                      "name": "genre",
                      "type": "string"
                    },
                    {
                      "name": "release_year",
                      "type": "integer"
                    },
                    {
                      "name": "duration",
                      "type": "integer"
                    }
                  ],
                  "pandas_version": "0.20.0",
                  "primaryKey": [
                    "index"
                  ]
                }
              },
              "total_rows": 5
            },
            "text/html": [
              "<div>\n",
              "<style scoped>\n",
              "    .dataframe tbody tr th:only-of-type {\n",
              "        vertical-align: middle;\n",
              "    }\n",
              "\n",
              "    .dataframe tbody tr th {\n",
              "        vertical-align: top;\n",
              "    }\n",
              "\n",
              "    .dataframe thead th {\n",
              "        text-align: right;\n",
              "    }\n",
              "</style>\n",
              "<table border=\"1\" class=\"dataframe\">\n",
              "  <thead>\n",
              "    <tr style=\"text-align: right;\">\n",
              "      <th></th>\n",
              "      <th>title</th>\n",
              "      <th>country</th>\n",
              "      <th>genre</th>\n",
              "      <th>release_year</th>\n",
              "      <th>duration</th>\n",
              "    </tr>\n",
              "  </thead>\n",
              "  <tbody>\n",
              "    <tr>\n",
              "      <th>0</th>\n",
              "      <td>3%</td>\n",
              "      <td>Brazil</td>\n",
              "      <td>International TV</td>\n",
              "      <td>2020</td>\n",
              "      <td>4</td>\n",
              "    </tr>\n",
              "    <tr>\n",
              "      <th>1</th>\n",
              "      <td>7:19</td>\n",
              "      <td>Mexico</td>\n",
              "      <td>Dramas</td>\n",
              "      <td>2016</td>\n",
              "      <td>93</td>\n",
              "    </tr>\n",
              "    <tr>\n",
              "      <th>2</th>\n",
              "      <td>23:59</td>\n",
              "      <td>Singapore</td>\n",
              "      <td>Horror Movies</td>\n",
              "      <td>2011</td>\n",
              "      <td>78</td>\n",
              "    </tr>\n",
              "    <tr>\n",
              "      <th>3</th>\n",
              "      <td>9</td>\n",
              "      <td>United States</td>\n",
              "      <td>Action</td>\n",
              "      <td>2009</td>\n",
              "      <td>80</td>\n",
              "    </tr>\n",
              "    <tr>\n",
              "      <th>4</th>\n",
              "      <td>21</td>\n",
              "      <td>United States</td>\n",
              "      <td>Dramas</td>\n",
              "      <td>2008</td>\n",
              "      <td>123</td>\n",
              "    </tr>\n",
              "  </tbody>\n",
              "</table>\n",
              "</div>"
            ],
            "text/plain": [
              "   title        country             genre  release_year  duration\n",
              "0     3%         Brazil  International TV          2020         4\n",
              "1   7:19         Mexico            Dramas          2016        93\n",
              "2  23:59      Singapore     Horror Movies          2011        78\n",
              "3      9  United States            Action          2009        80\n",
              "4     21  United States            Dramas          2008       123"
            ]
          },
          "execution_count": 8,
          "metadata": {},
          "output_type": "execute_result"
        }
      ],
      "source": [
        "# Subset the DataFrame for type \"Movie\"\n",
        "netflix_df_movies_only = netflix_df[netflix_df['type'] == 'Movie']\n",
        "\n",
        "# Select only the columns of interest\n",
        "netflix_movies_col_subset = netflix_df[['title', 'country', 'genre', 'release_year', 'duration']]\n",
        "\n",
        "# Print the first five rows of the new DataFrame\n",
        "netflix_movies_col_subset.head()"
      ]
    },
    {
      "cell_type": "markdown",
      "id": "927b906a",
      "metadata": {
        "dc": {
          "key": "39"
        },
        "deletable": false,
        "editable": false,
        "run_control": {
          "frozen": true
        },
        "tags": [
          "context"
        ],
        "id": "927b906a"
      },
      "source": [
        "## 6. Creating a scatter plot\n",
        "<p>Okay, now we're getting somewhere. We've read in the raw data, selected rows of movies, and have limited our DataFrame to our columns of interest. Let's try visualizing the data again to inspect the data over a longer range of time.</p>\n",
        "<p>This time, we are no longer working with aggregates but instead with individual movies. A line plot is no longer a good choice for our data, so let's try a scatter plot instead. We will again plot the year of release on the x-axis and the movie duration on the y-axis.</p>\n",
        "<p><em>Note: Although not taught in Intermediate Python, we have provided you the code <code>fig = plt.figure(figsize=(12,8))</code> to increase the size of the plot (to help you see the results), as well as to assist with testing. For more information on how to create or work with a <code>matplotlib</code> <code>figure</code>, refer to the <a href=\"https://matplotlib.org/stable/api/_as_gen/matplotlib.pyplot.figure.html\">documentation</a>.</em></p>"
      ]
    },
    {
      "cell_type": "code",
      "execution_count": null,
      "id": "0ae11e35",
      "metadata": {
        "dc": {
          "key": "39"
        },
        "tags": [
          "sample_code"
        ],
        "id": "0ae11e35",
        "outputId": "9d1f63d3-0ea2-4651-c783-14c7634ab4b1"
      },
      "outputs": [
        {
          "data": {
            "image/png": "[encoded data removed]",
            "text/plain": [
              "<Figure size 864x576 with 1 Axes>"
            ]
          },
          "metadata": {
            "needs_background": "light"
          },
          "output_type": "display_data"
        }
      ],
      "source": [
        "# Create a figure and increase the figure size\n",
        "fig = plt.figure(figsize=(12,8))\n",
        "\n",
        "# Create a scatter plot of duration versus year\n",
        "plt.scatter(netflix_movies_col_subset['release_year'], netflix_movies_col_subset['duration'])\n",
        "\n",
        "# Create a title\n",
        "plt.title('Movie Duration by Year of Release')\n",
        "\n",
        "# Show the plot\n",
        "plt.show()"
      ]
    },
    {
      "cell_type": "markdown",
      "id": "25c7be00",
      "metadata": {
        "dc": {
          "key": "46"
        },
        "deletable": false,
        "editable": false,
        "run_control": {
          "frozen": true
        },
        "tags": [
          "context"
        ],
        "id": "25c7be00"
      },
      "source": [
        "## 7. Digging deeper\n",
        "<p>This is already much more informative than the simple plot we created when our friend first gave us some data. We can also see that, while newer movies are overrepresented on the platform, many short movies have been released in the past two decades.</p>\n",
        "<p>Upon further inspection, something else is going on. Some of these films are under an hour long! Let's filter our DataFrame for movies with a <code>duration</code> under 60 minutes and look at the genres. This might give us some insight into what is dragging down the average.</p>"
      ]
    },
    {
      "cell_type": "code",
      "execution_count": null,
      "id": "d8f07cb3",
      "metadata": {
        "dc": {
          "key": "46"
        },
        "tags": [
          "sample_code"
        ],
        "id": "d8f07cb3",
        "outputId": "d5b2187c-400d-43b2-9afe-926ee96aaa23"
      },
      "outputs": [
        {
          "data": {
            "application/com.datacamp.data-table.v1+json": {
              "is_truncated": false,
              "table": {
                "data": [
                  {
                    "country": "Brazil",
                    "duration": 4,
                    "genre": "International TV",
                    "index": 0,
                    "release_year": 2020,
                    "title": "3%"
                  },
                  {
                    "country": "Turkey",
                    "duration": 1,
                    "genre": "International TV",
                    "index": 5,
                    "release_year": 2016,
                    "title": "46"
                  },
                  {
                    "country": "Poland",
                    "duration": 1,
                    "genre": "Crime TV",
                    "index": 11,
                    "release_year": 2018,
                    "title": "1983"
                  },
                  {
                    "country": "Mexico",
                    "duration": 1,
                    "genre": "Crime TV",
                    "index": 12,
                    "release_year": 2019,
                    "title": "1994"
                  },
                  {
                    "country": null,
                    "duration": 1,
                    "genre": "International TV",
                    "index": 16,
                    "release_year": 2018,
                    "title": "Feb-09"
                  },
                  {
                    "country": "Japan",
                    "duration": 2,
                    "genre": "Anime Series",
                    "index": 24,
                    "release_year": 2020,
                    "title": "​SAINT SEIYA: Knights of the Zodiac"
                  },
                  {
                    "country": "United States",
                    "duration": 1,
                    "genre": "Reality TV",
                    "index": 26,
                    "release_year": 2020,
                    "title": "(Un)Well"
                  },
                  {
                    "country": "United States",
                    "duration": 1,
                    "genre": "TV Comedies",
                    "index": 29,
                    "release_year": 2020,
                    "title": "#blackAF"
                  },
                  {
                    "country": "United States",
                    "duration": 56,
                    "genre": "Documentaries",
                    "index": 35,
                    "release_year": 2016,
                    "title": "#Rucker50"
                  },
                  {
                    "country": null,
                    "duration": 1,
                    "genre": "International TV",
                    "index": 38,
                    "release_year": 2016,
                    "title": "แผนร้ายนายเจ้าเล่ห์"
                  },
                  {
                    "country": "Turkey",
                    "duration": 1,
                    "genre": "Crime TV",
                    "index": 45,
                    "release_year": 2013,
                    "title": "Şubat"
                  },
                  {
                    "country": "South Korea",
                    "duration": 1,
                    "genre": "International TV",
                    "index": 51,
                    "release_year": 2018,
                    "title": "100 Days My Prince"
                  },
                  {
                    "country": "United States",
                    "duration": 1,
                    "genre": "Docuseries",
                    "index": 53,
                    "release_year": 2020,
                    "title": "100 Humans"
                  },
                  {
                    "country": "United States",
                    "duration": 44,
                    "genre": "Uncategorized",
                    "index": 55,
                    "release_year": 2014,
                    "title": "100 Things to do Before High School"
                  },
                  {
                    "country": "United Kingdom",
                    "duration": 1,
                    "genre": "British TV",
                    "index": 58,
                    "release_year": 2017,
                    "title": "100% Hotter"
                  },
                  {
                    "country": "South Korea",
                    "duration": 1,
                    "genre": "International TV",
                    "index": 61,
                    "release_year": 2014,
                    "title": "12 Years Promise"
                  },
                  {
                    "country": "United States",
                    "duration": 4,
                    "genre": "Crime TV",
                    "index": 63,
                    "release_year": 2020,
                    "title": "13 Reasons Why"
                  },
                  {
                    "country": "United States",
                    "duration": 3,
                    "genre": "Crime TV",
                    "index": 64,
                    "release_year": 2019,
                    "title": "13 Reasons Why: Beyond the Reasons"
                  },
                  {
                    "country": null,
                    "duration": 37,
                    "genre": "Uncategorized",
                    "index": 67,
                    "release_year": 2017,
                    "title": "13TH: A Conversation with Oprah Winfrey & Ava DuVernay"
                  },
                  {
                    "country": "Turkey",
                    "duration": 1,
                    "genre": "Crime TV",
                    "index": 80,
                    "release_year": 2013,
                    "title": "20 Minutes"
                  }
                ],
                "schema": {
                  "fields": [
                    {
                      "name": "index",
                      "type": "integer"
                    },
                    {
                      "name": "title",
                      "type": "string"
                    },
                    {
                      "name": "country",
                      "type": "string"
                    },
                    {
                      "name": "genre",
                      "type": "string"
                    },
                    {
                      "name": "release_year",
                      "type": "integer"
                    },
                    {
                      "name": "duration",
                      "type": "integer"
                    }
                  ],
                  "pandas_version": "0.20.0",
                  "primaryKey": [
                    "index"
                  ]
                }
              },
              "total_rows": 20
            },
            "text/html": [
              "<div>\n",
              "<style scoped>\n",
              "    .dataframe tbody tr th:only-of-type {\n",
              "        vertical-align: middle;\n",
              "    }\n",
              "\n",
              "    .dataframe tbody tr th {\n",
              "        vertical-align: top;\n",
              "    }\n",
              "\n",
              "    .dataframe thead th {\n",
              "        text-align: right;\n",
              "    }\n",
              "</style>\n",
              "<table border=\"1\" class=\"dataframe\">\n",
              "  <thead>\n",
              "    <tr style=\"text-align: right;\">\n",
              "      <th></th>\n",
              "      <th>title</th>\n",
              "      <th>country</th>\n",
              "      <th>genre</th>\n",
              "      <th>release_year</th>\n",
              "      <th>duration</th>\n",
              "    </tr>\n",
              "  </thead>\n",
              "  <tbody>\n",
              "    <tr>\n",
              "      <th>0</th>\n",
              "      <td>3%</td>\n",
              "      <td>Brazil</td>\n",
              "      <td>International TV</td>\n",
              "      <td>2020</td>\n",
              "      <td>4</td>\n",
              "    </tr>\n",
              "    <tr>\n",
              "      <th>5</th>\n",
              "      <td>46</td>\n",
              "      <td>Turkey</td>\n",
              "      <td>International TV</td>\n",
              "      <td>2016</td>\n",
              "      <td>1</td>\n",
              "    </tr>\n",
              "    <tr>\n",
              "      <th>11</th>\n",
              "      <td>1983</td>\n",
              "      <td>Poland</td>\n",
              "      <td>Crime TV</td>\n",
              "      <td>2018</td>\n",
              "      <td>1</td>\n",
              "    </tr>\n",
              "    <tr>\n",
              "      <th>12</th>\n",
              "      <td>1994</td>\n",
              "      <td>Mexico</td>\n",
              "      <td>Crime TV</td>\n",
              "      <td>2019</td>\n",
              "      <td>1</td>\n",
              "    </tr>\n",
              "    <tr>\n",
              "      <th>16</th>\n",
              "      <td>Feb-09</td>\n",
              "      <td>NaN</td>\n",
              "      <td>International TV</td>\n",
              "      <td>2018</td>\n",
              "      <td>1</td>\n",
              "    </tr>\n",
              "    <tr>\n",
              "      <th>24</th>\n",
              "      <td>​SAINT SEIYA: Knights of the Zodiac</td>\n",
              "      <td>Japan</td>\n",
              "      <td>Anime Series</td>\n",
              "      <td>2020</td>\n",
              "      <td>2</td>\n",
              "    </tr>\n",
              "    <tr>\n",
              "      <th>26</th>\n",
              "      <td>(Un)Well</td>\n",
              "      <td>United States</td>\n",
              "      <td>Reality TV</td>\n",
              "      <td>2020</td>\n",
              "      <td>1</td>\n",
              "    </tr>\n",
              "    <tr>\n",
              "      <th>29</th>\n",
              "      <td>#blackAF</td>\n",
              "      <td>United States</td>\n",
              "      <td>TV Comedies</td>\n",
              "      <td>2020</td>\n",
              "      <td>1</td>\n",
              "    </tr>\n",
              "    <tr>\n",
              "      <th>35</th>\n",
              "      <td>#Rucker50</td>\n",
              "      <td>United States</td>\n",
              "      <td>Documentaries</td>\n",
              "      <td>2016</td>\n",
              "      <td>56</td>\n",
              "    </tr>\n",
              "    <tr>\n",
              "      <th>38</th>\n",
              "      <td>แผนร้ายนายเจ้าเล่ห์</td>\n",
              "      <td>NaN</td>\n",
              "      <td>International TV</td>\n",
              "      <td>2016</td>\n",
              "      <td>1</td>\n",
              "    </tr>\n",
              "    <tr>\n",
              "      <th>45</th>\n",
              "      <td>Şubat</td>\n",
              "      <td>Turkey</td>\n",
              "      <td>Crime TV</td>\n",
              "      <td>2013</td>\n",
              "      <td>1</td>\n",
              "    </tr>\n",
              "    <tr>\n",
              "      <th>51</th>\n",
              "      <td>100 Days My Prince</td>\n",
              "      <td>South Korea</td>\n",
              "      <td>International TV</td>\n",
              "      <td>2018</td>\n",
              "      <td>1</td>\n",
              "    </tr>\n",
              "    <tr>\n",
              "      <th>53</th>\n",
              "      <td>100 Humans</td>\n",
              "      <td>United States</td>\n",
              "      <td>Docuseries</td>\n",
              "      <td>2020</td>\n",
              "      <td>1</td>\n",
              "    </tr>\n",
              "    <tr>\n",
              "      <th>55</th>\n",
              "      <td>100 Things to do Before High School</td>\n",
              "      <td>United States</td>\n",
              "      <td>Uncategorized</td>\n",
              "      <td>2014</td>\n",
              "      <td>44</td>\n",
              "    </tr>\n",
              "    <tr>\n",
              "      <th>58</th>\n",
              "      <td>100% Hotter</td>\n",
              "      <td>United Kingdom</td>\n",
              "      <td>British TV</td>\n",
              "      <td>2017</td>\n",
              "      <td>1</td>\n",
              "    </tr>\n",
              "    <tr>\n",
              "      <th>61</th>\n",
              "      <td>12 Years Promise</td>\n",
              "      <td>South Korea</td>\n",
              "      <td>International TV</td>\n",
              "      <td>2014</td>\n",
              "      <td>1</td>\n",
              "    </tr>\n",
              "    <tr>\n",
              "      <th>63</th>\n",
              "      <td>13 Reasons Why</td>\n",
              "      <td>United States</td>\n",
              "      <td>Crime TV</td>\n",
              "      <td>2020</td>\n",
              "      <td>4</td>\n",
              "    </tr>\n",
              "    <tr>\n",
              "      <th>64</th>\n",
              "      <td>13 Reasons Why: Beyond the Reasons</td>\n",
              "      <td>United States</td>\n",
              "      <td>Crime TV</td>\n",
              "      <td>2019</td>\n",
              "      <td>3</td>\n",
              "    </tr>\n",
              "    <tr>\n",
              "      <th>67</th>\n",
              "      <td>13TH: A Conversation with Oprah Winfrey &amp; Ava ...</td>\n",
              "      <td>NaN</td>\n",
              "      <td>Uncategorized</td>\n",
              "      <td>2017</td>\n",
              "      <td>37</td>\n",
              "    </tr>\n",
              "    <tr>\n",
              "      <th>80</th>\n",
              "      <td>20 Minutes</td>\n",
              "      <td>Turkey</td>\n",
              "      <td>Crime TV</td>\n",
              "      <td>2013</td>\n",
              "      <td>1</td>\n",
              "    </tr>\n",
              "  </tbody>\n",
              "</table>\n",
              "</div>"
            ],
            "text/plain": [
              "                                                title         country  \\\n",
              "0                                                  3%          Brazil   \n",
              "5                                                  46          Turkey   \n",
              "11                                               1983          Poland   \n",
              "12                                               1994          Mexico   \n",
              "16                                             Feb-09             NaN   \n",
              "24                ​SAINT SEIYA: Knights of the Zodiac           Japan   \n",
              "26                                           (Un)Well   United States   \n",
              "29                                           #blackAF   United States   \n",
              "35                                          #Rucker50   United States   \n",
              "38                                แผนร้ายนายเจ้าเล่ห์             NaN   \n",
              "45                                              Şubat          Turkey   \n",
              "51                                 100 Days My Prince     South Korea   \n",
              "53                                         100 Humans   United States   \n",
              "55                100 Things to do Before High School   United States   \n",
              "58                                        100% Hotter  United Kingdom   \n",
              "61                                   12 Years Promise     South Korea   \n",
              "63                                     13 Reasons Why   United States   \n",
              "64                 13 Reasons Why: Beyond the Reasons   United States   \n",
              "67  13TH: A Conversation with Oprah Winfrey & Ava ...             NaN   \n",
              "80                                         20 Minutes          Turkey   \n",
              "\n",
              "               genre  release_year  duration  \n",
              "0   International TV          2020         4  \n",
              "5   International TV          2016         1  \n",
              "11          Crime TV          2018         1  \n",
              "12          Crime TV          2019         1  \n",
              "16  International TV          2018         1  \n",
              "24      Anime Series          2020         2  \n",
              "26        Reality TV          2020         1  \n",
              "29       TV Comedies          2020         1  \n",
              "35     Documentaries          2016        56  \n",
              "38  International TV          2016         1  \n",
              "45          Crime TV          2013         1  \n",
              "51  International TV          2018         1  \n",
              "53        Docuseries          2020         1  \n",
              "55     Uncategorized          2014        44  \n",
              "58        British TV          2017         1  \n",
              "61  International TV          2014         1  \n",
              "63          Crime TV          2020         4  \n",
              "64          Crime TV          2019         3  \n",
              "67     Uncategorized          2017        37  \n",
              "80          Crime TV          2013         1  "
            ]
          },
          "execution_count": 10,
          "metadata": {},
          "output_type": "execute_result"
        }
      ],
      "source": [
        "# Filter for durations shorter than 60 minutes\n",
        "short_movies = netflix_movies_col_subset[netflix_movies_col_subset['duration'] <60 ]\n",
        "\n",
        "# Print the first 20 rows of short_movies\n",
        "short_movies.head(20)"
      ]
    },
    {
      "cell_type": "markdown",
      "id": "fe2270cc",
      "metadata": {
        "dc": {
          "key": "53"
        },
        "deletable": false,
        "editable": false,
        "run_control": {
          "frozen": true
        },
        "tags": [
          "context"
        ],
        "id": "fe2270cc"
      },
      "source": [
        "## 8. Marking non-feature films\n",
        "<p>Interesting! It looks as though many of the films that are under 60 minutes fall into genres such as \"Children\", \"Stand-Up\", and \"Documentaries\". This is a logical result, as these types of films are probably often shorter than 90 minute Hollywood blockbuster. </p>\n",
        "<p>We could eliminate these rows from our DataFrame and plot the values again. But another interesting way to explore the effect of these genres on our data would be to plot them, but mark them with a different color.</p>\n",
        "<p>In Python, there are many ways to do this, but one fun way might be to use a loop to generate a list of colors based on the contents of the <code>genre</code> column. Much as we did in Intermediate Python, we can then pass this list to our plotting function in a later step to color all non-typical genres in a different color!</p>\n",
        "<p><em>Note: Although we are using the basic colors of red, blue, green, and black, <code>matplotlib</code> has many named colors you can use when creating plots. For more information, you can refer to the documentation <a href=\"https://matplotlib.org/stable/gallery/color/named_colors.html\">here</a>!</em></p>"
      ]
    },
    {
      "cell_type": "code",
      "execution_count": null,
      "id": "4a1e58da",
      "metadata": {
        "dc": {
          "key": "53"
        },
        "tags": [
          "sample_code"
        ],
        "id": "4a1e58da",
        "outputId": "eb61991e-b79d-44ea-e832-81bf3a7c1891"
      },
      "outputs": [
        {
          "name": "stdout",
          "output_type": "stream",
          "text": [
            "['black', 'black', 'black', 'black', 'black', 'black', 'black', 'black', 'black', 'black']\n"
          ]
        }
      ],
      "source": [
        "# Define an empty list\n",
        "colors = []\n",
        "\n",
        "# Iterate over rows of netflix_movies_col_subset\n",
        "for lab, row in netflix_movies_col_subset.iterrows() :\n",
        "    if row['genre'] == 'Children' :\n",
        "        colors.append('red')\n",
        "    elif row['genre'] == 'Documentaries' :\n",
        "        colors.append('blue')\n",
        "    elif row['genre'] == 'Stand-Up' :\n",
        "        colors.append('green')\n",
        "    else:\n",
        "        colors.append('black')\n",
        "        \n",
        "# Inspect the first 10 values in your list        \n",
        "print(colors[0:10])"
      ]
    },
    {
      "cell_type": "markdown",
      "id": "73332599",
      "metadata": {
        "dc": {
          "key": "60"
        },
        "deletable": false,
        "editable": false,
        "run_control": {
          "frozen": true
        },
        "tags": [
          "context"
        ],
        "id": "73332599"
      },
      "source": [
        "## 9. Plotting with color!\n",
        "<p>Lovely looping! We now have a <code>colors</code> list that we can pass to our scatter plot, which should allow us to visually inspect whether these genres might be responsible for the decline in the average duration of movies.</p>\n",
        "<p>This time, we'll also spruce up our plot with some additional axis labels and a new theme with <code>plt.style.use()</code>. The latter isn't taught in Intermediate Python, but can be a fun way to add some visual flair to a basic <code>matplotlib</code> plot. You can find more information on customizing the style of your plot <a href=\"https://matplotlib.org/stable/tutorials/introductory/customizing.html\">here</a>!</p>"
      ]
    },
    {
      "cell_type": "code",
      "execution_count": null,
      "id": "ebe14d25",
      "metadata": {
        "dc": {
          "key": "60"
        },
        "tags": [
          "sample_code"
        ],
        "id": "ebe14d25",
        "outputId": "b15284a9-a9a8-41c6-eb7d-3b28537e82fe"
      },
      "outputs": [
        {
          "data": {
            "image/png": "[encoded data removed]",
            "text/plain": [
              "<Figure size 864x576 with 1 Axes>"
            ]
          },
          "metadata": {},
          "output_type": "display_data"
        }
      ],
      "source": [
        "import matplotlib.pyplot as plt\n",
        "from importlib import reload\n",
        "plt=reload(plt)\n",
        "\n",
        "# Set the figure style and initalize a new figure\n",
        "plt.style.use('fivethirtyeight')\n",
        "fig = plt.figure(figsize=(12,8))\n",
        "\n",
        "# Create a scatter plot of duration versus release_year\n",
        "plt.scatter(netflix_movies_col_subset['release_year'], netflix_movies_col_subset['duration'], c=colors)\n",
        "\n",
        "# Create a title and axis labels\n",
        "plt.title('Movie duration by year of release')\n",
        "plt.xlabel('Release year')\n",
        "plt.ylabel('Duration (min)')\n",
        "\n",
        "# Show the plot\n",
        "plt.show()"
      ]
    },
    {
      "cell_type": "markdown",
      "id": "decacb46",
      "metadata": {
        "dc": {
          "key": "67"
        },
        "deletable": false,
        "editable": false,
        "run_control": {
          "frozen": true
        },
        "tags": [
          "context"
        ],
        "id": "decacb46"
      },
      "source": [
        "## 10. What next?\n",
        "<p>Well, as we suspected, non-typical genres such as children's movies and documentaries are all clustered around the bottom half of the plot. But we can't know for certain until we perform additional analyses. </p>\n",
        "<p>Congratulations, you've performed an exploratory analysis of some entertainment data, and there are lots of fun ways to develop your skills as a Pythonic data scientist. These include learning how to analyze data further with statistics, creating more advanced visualizations, and perhaps most importantly, learning more advanced ways of working with data in <code>pandas</code>. This latter skill is covered in our fantastic course <a href=\"www.datacamp.com/courses/data-manipulation-with-pandas\">Data Manipulation with pandas</a>.</p>\n",
        "<p>We hope you enjoyed this application of the skills learned in Intermediate Python, and wish you all the best on the rest of your journey!</p>"
      ]
    },
    {
      "cell_type": "code",
      "execution_count": null,
      "id": "ce6d14d7",
      "metadata": {
        "dc": {
          "key": "67"
        },
        "tags": [
          "sample_code"
        ],
        "id": "ce6d14d7"
      },
      "outputs": [],
      "source": [
        "# Are we certain that movies are getting shorter?\n",
        "are_movies_getting_shorter = 'With the analysis we did so far, we can`t know for certain. What we can tell is that some genres such as Children, Stand-Up, and Documentaries are decreasing the mean of duration of the Netflix catalogue. But we cannot afirm that the movies are shorter'"
      ]
    }
  ],
  "metadata": {
    "kernelspec": {
      "display_name": "",
      "name": ""
    },
    "language_info": {
      "name": ""
    },
    "colab": {
      "name": "Netflix_EDA.ipynb",
      "provenance": [],
      "include_colab_link": true
    }
  },
  "nbformat": 4,
  "nbformat_minor": 5
}